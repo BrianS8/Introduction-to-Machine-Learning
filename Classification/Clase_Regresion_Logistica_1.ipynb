{
 "cells": [
  {
   "cell_type": "markdown",
   "metadata": {},
   "source": [
    "<h1> <center> Regresión Logística </center> </h1>\n",
    "\n",
    "<p> La regresión logística es un algoritmo de aprendizaje automático de clasificación que se utiliza para predecir la probabilidad de una variable dependiente categórica que sea binaria, es decir, que contega datos codificados como 1 (\"Si\", \"Exito\", etc) o 0 (\"No, \"Fracaso\", etc.). Una regresión logistica, por lo tanto, requiere de que la variable dependiente sea binaria. Por tanto, es un método estadístico para predecir clases binarias, del cual obtenemos como resultado una variable dicotómica, es decir dos clases posibles. </p> \n",
    "<p> Este algoritmo se basa en la Función Sigmoide </p>\n",
    "<img src= 'sigmoide.png',width=400,heigth=1000, alt=\"Flowers in Chania\">\n",
    "\n",
    "<p> Las librerias y datos que utilizaremos son: </p>"
   ]
  },
  {
   "cell_type": "code",
   "execution_count": null,
   "metadata": {},
   "outputs": [],
   "source": [
    "import matplotlib.pyplot as plt\n",
    "plt.style.use('seaborn-whitegrid')\n",
    "import statsmodels.api as sm\n",
    "from sklearn import datasets\n",
    "from sklearn.linear_model import LogisticRegression\n",
    "from sklearn.model_selection import train_test_split\n",
    "from sklearn.preprocessing import StandardScaler\n",
    "from sklearn.metrics import confusion_matrix, precision_score, accuracy_score, recall_score, f1_score, roc_auc_score, roc_curve \n",
    "import numpy as np\n",
    "import pandas as pd\n"
   ]
  },
  {
   "cell_type": "code",
   "execution_count": null,
   "metadata": {},
   "outputs": [],
   "source": [
    "df = datasets.load_breast_cancer()\n",
    "# La información del dataset\n",
    "print(df.keys())"
   ]
  },
  {
   "cell_type": "code",
   "execution_count": null,
   "metadata": {},
   "outputs": [],
   "source": [
    "# Miremos la descripción del dataset\n",
    "print(df.DESCR)"
   ]
  },
  {
   "cell_type": "code",
   "execution_count": null,
   "metadata": {},
   "outputs": [],
   "source": [
    "## Llamada de datos\n",
    "X = df.data\n",
    "y = df.target\n",
    "\n",
    "X_train, X_test, y_train, y_test = train_test_split(X,y,test_size = 0.2)     "
   ]
  },
  {
   "cell_type": "markdown",
   "metadata": {},
   "source": [
    "<p> En muchas ocasiones es necesario escalar los datos, siempre que estos se encuentren en distintas magnitudes, esto lo realizaremos de la siguiente manera: </p>"
   ]
  },
  {
   "cell_type": "code",
   "execution_count": null,
   "metadata": {},
   "outputs": [],
   "source": [
    "estandar = StandardScaler()\n",
    "X_train = estandar.fit_transform(X_train)\n",
    "X_test  = estandar.transform(X_test)"
   ]
  },
  {
   "cell_type": "markdown",
   "metadata": {},
   "source": [
    "<h2> Entrenamiento del modelo </h2>"
   ]
  },
  {
   "cell_type": "code",
   "execution_count": null,
   "metadata": {},
   "outputs": [],
   "source": [
    "logit = LogisticRegression(solver='lbfgs')\n",
    "logit.fit(X_train,y_train)"
   ]
  },
  {
   "cell_type": "markdown",
   "metadata": {},
   "source": [
    "<h2> Metricas de evaluación de un modelo </h2>\n",
    "<br/>\n",
    "Vamos a calcular las metricas para evaluar modelos de clasificación\n",
    "\n",
    "<br></br>"
   ]
  },
  {
   "cell_type": "code",
   "execution_count": null,
   "metadata": {},
   "outputs": [],
   "source": [
    "y_pred = logit.predict(X_test)"
   ]
  },
  {
   "cell_type": "markdown",
   "metadata": {},
   "source": [
    "<h2> Métricas de rendimiento </h2>\n",
    "<br/>\n",
    "<p> Para evaluar los modelos de clasificación se utilizan distintas técnicas de rendimiento, entre las que tenemos: </p>\n",
    "<ul>\n",
    "    <li> <b> Exactitud: </b> Es el número de predicciones correctas realizadas por el modelo por el número total de registros </li>\n",
    "    <li> <b> Precisión: </b> Evaluación de los datos por su desempeño en predicciones positivas  </li>\n",
    "    <li> <b> Sensibilidad (Recall):</b>El número de predicciones positivas correctas dividido por el número total de positivos</li>\n",
    "    <li> <b> Especificidad: </b>  (Tasa negativa verdadera) Es el número de predicciones negativas correctas dividido por el número total de negativos</li>\n",
    "    <li> <b> Puntaje de F1: </b> Es una puntuación única que representa la precisión y sensibilidad </li>\n",
    "    <li> <b> Curva ROC: </b> Indica que tan bueno es un modelo distinguiendo entre dos escenarios (variables binarias) </li>\n",
    " </ul>\n",
    " <img src= 'curva_roc.png',width=400,heigth=1000, alt=\"Flowers in Chania\">"
   ]
  },
  {
   "cell_type": "markdown",
   "metadata": {},
   "source": [
    "<h3> Matriz de confusión </h3>\n",
    "<br/>\n",
    "<p> La matriz de confusion es una metrica sencilla para encontrar la prediccion y exactitud de un modelo, Y es utilizada para modelos cuya respuesta es discreta. Las filas de la matriz indican la clase observada o actual y las columnas indican la clase predicha o prediccion </p>\n",
    "<img src= 'matriz_confusion.png',width=500,heigth=1000, alt=\"Flowers in Chania\">\n",
    "<p> No es una metrica de rendimiento </p>"
   ]
  },
  {
   "cell_type": "code",
   "execution_count": null,
   "metadata": {},
   "outputs": [],
   "source": [
    "con_matrix = confusion_matrix(y_test,y_pred)\n",
    "print(con_matrix)"
   ]
  },
  {
   "cell_type": "markdown",
   "metadata": {},
   "source": [
    "<h3> Precisión del modelo </h3>"
   ]
  },
  {
   "cell_type": "code",
   "execution_count": null,
   "metadata": {},
   "outputs": [],
   "source": [
    "precision = precision_score(y_test,y_pred)\n",
    "print(precision)"
   ]
  },
  {
   "cell_type": "code",
   "execution_count": null,
   "metadata": {},
   "outputs": [],
   "source": [
    "exactitud = accuracy_score(y_test,y_pred)\n",
    "print(exactitud)"
   ]
  },
  {
   "cell_type": "code",
   "execution_count": null,
   "metadata": {},
   "outputs": [],
   "source": [
    "puntajeF1 = f1_score(y_test,y_pred)\n",
    "print(puntajeF1)"
   ]
  },
  {
   "cell_type": "code",
   "execution_count": null,
   "metadata": {},
   "outputs": [],
   "source": [
    "roc_auc = roc_auc_score(y_test,y_pred)\n",
    "print(roc_auc)"
   ]
  },
  {
   "cell_type": "code",
   "execution_count": null,
   "metadata": {},
   "outputs": [],
   "source": [
    "logit_roc_auc = roc_auc_score(y_test,  logit.predict(X_test))\n",
    "fpr, tpr, thresholds = roc_curve(y_test, logit.predict_log_proba(X_test)[:,1])\n",
    "plt.figure()\n",
    "plt.plot(fpr, tpr, label='Regresión Logística (área = %0.2f)' % logit_roc_auc)\n",
    "plt.plot([0, 1], [0, 1],'r--')\n",
    "plt.xlabel('Tasa de Falsos Positivos')\n",
    "plt.ylabel('Tasa de Verdaderos Positivos')\n",
    "plt.title('Característica de funcionamiento del receptor (Curva ROC)')\n",
    "plt.legend(loc=\"lower right\")\n",
    "plt.savefig('Log_ROC')\n",
    "plt.show()"
   ]
  }
 ],
 "metadata": {
  "kernelspec": {
   "display_name": "Python 3",
   "language": "python",
   "name": "python3"
  },
  "language_info": {
   "codemirror_mode": {
    "name": "ipython",
    "version": 3
   },
   "file_extension": ".py",
   "mimetype": "text/x-python",
   "name": "python",
   "nbconvert_exporter": "python",
   "pygments_lexer": "ipython3",
   "version": "3.7.4"
  }
 },
 "nbformat": 4,
 "nbformat_minor": 2
}
