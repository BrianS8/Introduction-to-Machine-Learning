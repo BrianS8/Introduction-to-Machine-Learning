{
 "cells": [
  {
   "cell_type": "markdown",
   "metadata": {},
   "source": [
    "<h1> <center> Regresión Logística </center> </h1>\n",
    "\n",
    "<p> La regresión logística es un algoritmo de aprendizaje automático de clasificación que se utiliza para predecir la probabilidad de una variable dependiente categórica que sea binaria, es decir, que contega datos codificados como 1 (\"Si\", \"Exito\", etc) o 0 (\"No, \"Fracaso\", etc.). Una regresión logistica, por lo tanto, requiere de que la variable dependiente sea binaria. Por tanto, es un método estadístico para predecir clases binarias, del cual obtenemos como resultado una variable dicotómica, es decir dos clases posibles. </p> \n",
    "<p> Este algoritmo se basa en la Función Sigmoide </p>\n",
    "<img src= 'sigmoide2.png',width=400,heigth=1000, alt=\"Flowers in Chania\">\n",
    "\n",
    "<p> Las librerias y datos que utilizaremos son: </p>"
   ]
  },
  {
   "cell_type": "code",
   "execution_count": 2,
   "metadata": {},
   "outputs": [],
   "source": [
    "import pandas as pd\n",
    "import numpy as np\n",
    "import seaborn as sns\n",
    "import statsmodels.api as sm\n",
    "from sklearn.metrics import accuracy_score \n",
    "from sklearn.linear_model import LinearRegression, LogisticRegression\n",
    "import matplotlib.pyplot as plt\n",
    "plt.style.use('seaborn-whitegrid')\n",
    "plt.style.use('seaborn-whitegrid')\n",
    "from statsmodels.formula.api  import ols"
   ]
  },
  {
   "cell_type": "markdown",
   "metadata": {},
   "source": [
    "<h2> Regresión Logística Simple </h2>\n",
    "Es un método que permite estimar la probabilidad de que una variable cualitativa tome un determinado valor dada una variable cuantitativa. Así el ejemplo clásico es la clasificación binaria que puede obtener un determinado grupo."
   ]
  },
  {
   "cell_type": "markdown",
   "metadata": {},
   "source": [
    "<h3> Y el modelo de regresión lineal </h3>\n",
    "<p>Si la variable de respuesta se codifica en números, como son 0 y 1, entonces es posible realizar un modelo de regresión lineal. Observemos el siguiente ejemplo:</p>\n",
    "\n",
    "En este caso tenemos un conjunto de datos en el que tenemos el ```default``` de un cliente y su ```balance```. Así, este ejercicio consiste en identificar ¿cuál es la probabilidad de que un cliente caiga en default (es decir, sea asignado 1) dado su balance?\n",
    "\n"
   ]
  },
  {
   "cell_type": "code",
   "execution_count": 3,
   "metadata": {},
   "outputs": [
    {
     "data": {
      "text/html": [
       "<div>\n",
       "<style scoped>\n",
       "    .dataframe tbody tr th:only-of-type {\n",
       "        vertical-align: middle;\n",
       "    }\n",
       "\n",
       "    .dataframe tbody tr th {\n",
       "        vertical-align: top;\n",
       "    }\n",
       "\n",
       "    .dataframe thead th {\n",
       "        text-align: right;\n",
       "    }\n",
       "</style>\n",
       "<table border=\"1\" class=\"dataframe\">\n",
       "  <thead>\n",
       "    <tr style=\"text-align: right;\">\n",
       "      <th></th>\n",
       "      <th>default</th>\n",
       "      <th>balance</th>\n",
       "    </tr>\n",
       "  </thead>\n",
       "  <tbody>\n",
       "    <tr>\n",
       "      <td>0</td>\n",
       "      <td>0</td>\n",
       "      <td>729.526495</td>\n",
       "    </tr>\n",
       "    <tr>\n",
       "      <td>1</td>\n",
       "      <td>0</td>\n",
       "      <td>817.180407</td>\n",
       "    </tr>\n",
       "    <tr>\n",
       "      <td>2</td>\n",
       "      <td>0</td>\n",
       "      <td>1073.549164</td>\n",
       "    </tr>\n",
       "    <tr>\n",
       "      <td>3</td>\n",
       "      <td>0</td>\n",
       "      <td>529.250605</td>\n",
       "    </tr>\n",
       "    <tr>\n",
       "      <td>4</td>\n",
       "      <td>0</td>\n",
       "      <td>785.655883</td>\n",
       "    </tr>\n",
       "  </tbody>\n",
       "</table>\n",
       "</div>"
      ],
      "text/plain": [
       "   default      balance\n",
       "0        0   729.526495\n",
       "1        0   817.180407\n",
       "2        0  1073.549164\n",
       "3        0   529.250605\n",
       "4        0   785.655883"
      ]
     },
     "execution_count": 3,
     "metadata": {},
     "output_type": "execute_result"
    }
   ],
   "source": [
    "datos = pd.read_csv('datos.csv')\n",
    "y = np.array(datos['default'])\n",
    "X = np.array(datos['balance']).reshape((-1, 1))\n",
    "datos.head()"
   ]
  },
  {
   "cell_type": "code",
   "execution_count": 4,
   "metadata": {},
   "outputs": [
    {
     "data": {
      "text/plain": [
       "Text(0.5, 1.0, 'Regresión Lineal para datos binarios / discretos')"
      ]
     },
     "execution_count": 4,
     "metadata": {},
     "output_type": "execute_result"
    },
    {
     "data": {
      "image/png": "[encoded data removed]",
      "text/plain": [
       "<Figure size 1440x720 with 1 Axes>"
      ]
     },
     "metadata": {
      "needs_background": "light"
     },
     "output_type": "display_data"
    }
   ],
   "source": [
    "model = LinearRegression()\n",
    "linear_model = model.fit(X, y)\n",
    "y_pred = linear_model.predict(X)\n",
    "plt.figure(figsize=(20,10))\n",
    "plt.plot(X, y_pred , label = \"line 1\")\n",
    "plt.scatter(X, y, label = \"line 1\", color = 'red')\n",
    "plt.title('Regresión Lineal para datos binarios / discretos')"
   ]
  },
  {
   "cell_type": "markdown",
   "metadata": {},
   "source": [
    "En este gráfica observamos que, el modelo de regresión lineal no recoje el comportamiento de los datos de manera adecuada, puesto que se concentra en los datos en torno alrededor de cero"
   ]
  },
  {
   "cell_type": "markdown",
   "metadata": {},
   "source": [
    "Si visualizamos los resultados obtenidos en el OLS, tenemos que"
   ]
  },
  {
   "cell_type": "code",
   "execution_count": 5,
   "metadata": {},
   "outputs": [
    {
     "data": {
      "text/html": [
       "<table class=\"simpletable\">\n",
       "<caption>OLS Regression Results</caption>\n",
       "<tr>\n",
       "  <th>Dep. Variable:</th>         <td>default</td>     <th>  R-squared:         </th> <td>   0.123</td> \n",
       "</tr>\n",
       "<tr>\n",
       "  <th>Model:</th>                   <td>OLS</td>       <th>  Adj. R-squared:    </th> <td>   0.122</td> \n",
       "</tr>\n",
       "<tr>\n",
       "  <th>Method:</th>             <td>Least Squares</td>  <th>  F-statistic:       </th> <td>   1397.</td> \n",
       "</tr>\n",
       "<tr>\n",
       "  <th>Date:</th>             <td>Fri, 08 Nov 2019</td> <th>  Prob (F-statistic):</th> <td>2.77e-286</td>\n",
       "</tr>\n",
       "<tr>\n",
       "  <th>Time:</th>                 <td>08:15:28</td>     <th>  Log-Likelihood:    </th> <td>  3644.8</td> \n",
       "</tr>\n",
       "<tr>\n",
       "  <th>No. Observations:</th>      <td> 10000</td>      <th>  AIC:               </th> <td>  -7286.</td> \n",
       "</tr>\n",
       "<tr>\n",
       "  <th>Df Residuals:</th>          <td>  9998</td>      <th>  BIC:               </th> <td>  -7271.</td> \n",
       "</tr>\n",
       "<tr>\n",
       "  <th>Df Model:</th>              <td>     1</td>      <th>                     </th>     <td> </td>    \n",
       "</tr>\n",
       "<tr>\n",
       "  <th>Covariance Type:</th>      <td>nonrobust</td>    <th>                     </th>     <td> </td>    \n",
       "</tr>\n",
       "</table>\n",
       "<table class=\"simpletable\">\n",
       "<tr>\n",
       "      <td></td>         <th>coef</th>     <th>std err</th>      <th>t</th>      <th>P>|t|</th>  <th>[0.025</th>    <th>0.975]</th>  \n",
       "</tr>\n",
       "<tr>\n",
       "  <th>Intercept</th> <td>   -0.0752</td> <td>    0.003</td> <td>  -22.416</td> <td> 0.000</td> <td>   -0.082</td> <td>   -0.069</td>\n",
       "</tr>\n",
       "<tr>\n",
       "  <th>balance</th>   <td>    0.0001</td> <td> 3.47e-06</td> <td>   37.374</td> <td> 0.000</td> <td>    0.000</td> <td>    0.000</td>\n",
       "</tr>\n",
       "</table>\n",
       "<table class=\"simpletable\">\n",
       "<tr>\n",
       "  <th>Omnibus:</th>       <td>8547.967</td> <th>  Durbin-Watson:     </th>  <td>   2.023</td> \n",
       "</tr>\n",
       "<tr>\n",
       "  <th>Prob(Omnibus):</th>  <td> 0.000</td>  <th>  Jarque-Bera (JB):  </th> <td>180810.806</td>\n",
       "</tr>\n",
       "<tr>\n",
       "  <th>Skew:</th>           <td> 4.243</td>  <th>  Prob(JB):          </th>  <td>    0.00</td> \n",
       "</tr>\n",
       "<tr>\n",
       "  <th>Kurtosis:</th>       <td>22.025</td>  <th>  Cond. No.          </th>  <td>1.93e+03</td> \n",
       "</tr>\n",
       "</table><br/><br/>Warnings:<br/>[1] Standard Errors assume that the covariance matrix of the errors is correctly specified.<br/>[2] The condition number is large, 1.93e+03. This might indicate that there are<br/>strong multicollinearity or other numerical problems."
      ],
      "text/plain": [
       "<class 'statsmodels.iolib.summary.Summary'>\n",
       "\"\"\"\n",
       "                            OLS Regression Results                            \n",
       "==============================================================================\n",
       "Dep. Variable:                default   R-squared:                       0.123\n",
       "Model:                            OLS   Adj. R-squared:                  0.122\n",
       "Method:                 Least Squares   F-statistic:                     1397.\n",
       "Date:                Fri, 08 Nov 2019   Prob (F-statistic):          2.77e-286\n",
       "Time:                        08:15:28   Log-Likelihood:                 3644.8\n",
       "No. Observations:               10000   AIC:                            -7286.\n",
       "Df Residuals:                    9998   BIC:                            -7271.\n",
       "Df Model:                           1                                         \n",
       "Covariance Type:            nonrobust                                         \n",
       "==============================================================================\n",
       "                 coef    std err          t      P>|t|      [0.025      0.975]\n",
       "------------------------------------------------------------------------------\n",
       "Intercept     -0.0752      0.003    -22.416      0.000      -0.082      -0.069\n",
       "balance        0.0001   3.47e-06     37.374      0.000       0.000       0.000\n",
       "==============================================================================\n",
       "Omnibus:                     8547.967   Durbin-Watson:                   2.023\n",
       "Prob(Omnibus):                  0.000   Jarque-Bera (JB):           180810.806\n",
       "Skew:                           4.243   Prob(JB):                         0.00\n",
       "Kurtosis:                      22.025   Cond. No.                     1.93e+03\n",
       "==============================================================================\n",
       "\n",
       "Warnings:\n",
       "[1] Standard Errors assume that the covariance matrix of the errors is correctly specified.\n",
       "[2] The condition number is large, 1.93e+03. This might indicate that there are\n",
       "strong multicollinearity or other numerical problems.\n",
       "\"\"\""
      ]
     },
     "execution_count": 5,
     "metadata": {},
     "output_type": "execute_result"
    }
   ],
   "source": [
    "est = ols(formula = 'default ~  balance', data = datos).fit()\n",
    "est.summary()"
   ]
  },
  {
   "cell_type": "markdown",
   "metadata": {},
   "source": [
    "El modelo presenta un $R^{2}$ de 0.123, a pesar de las significancias individuales de la variable ```balance``` y el ```intercepto```"
   ]
  },
  {
   "cell_type": "markdown",
   "metadata": {},
   "source": [
    "### Estimación de un logit\n",
    "Una regresión logistica se basa en la idea de la regresión lineal, salvo que ajusta el resultado en un número entre 0 y 1. Así entre las funciones más utilizadas se tiene la función sigmoide, la cual establece:\n",
    "\n",
    "$$\\sigma \\left ( x \\right ) = {\\displaystyle \\frac{1}{1+e^{-x}}}$$\n",
    "\n",
    "Esrta también se conoce como la función de distribución acumulada de una regresión logistica. Si $x = \\beta_{0}+\\beta_{1}x_{1}$, entonces: \n",
    "\n",
    "$$ \\sigma \\left ( x \\right ) = {\\displaystyle \\frac{1}{1+e^{-\\beta_{0}-\\beta_{1}x_{1}}}}$$\n",
    "\n",
    "Entonces, si tomamos la pendiente de la curva, tenemos\n",
    "\n",
    "$${\\displaystyle \\frac{\\partial p_{i}}{\\partial x_{i}}=\\beta p_{i}\\left(1-p_{i}\\right)}$$\n",
    "\n",
    "Esto se conoce como el efecto marginal de $x$ en un evento de probabilidad\n",
    "Por ejemplo, cuando $\\beta = 1$ y $p = 0.5$, un aumento de $1$ unidad en $x$ produce un aumento de $0.25$ en la probabilidad de ocurrencia de un evento. Cuando $\\beta$ es más grande, la pendiente de la curva en forma de S y con $p = 0.5$ es más pronunciada. Cuando $\\beta$ es negativo, la curva se voltea horizontalmente para que $p$ esté cerca de $1$ cuando $x$ es pequeño y cerca de 0 cuando $x$ es grande. "
   ]
  },
  {
   "cell_type": "markdown",
   "metadata": {},
   "source": [
    "### Ejercicio 1\n",
    "1. Calcule y gráfique el resultado de esta función para los valores comprendidos entre -10 y 10\n",
    "```\n",
    "plt.figure(figsize=(20,10))\n",
    "plt.plot(x,y)\n",
    "plt.title('Función sigmoide')\n",
    "```\n",
    "\n",
    "2. Programe una función que calcule para un vector de números de 20x1, entre -10,10, calcule la función sigmoide, si puede realice la gráfica"
   ]
  },
  {
   "cell_type": "markdown",
   "metadata": {},
   "source": [
    "Sustituyendo $x = \\beta_{0}+\\beta_{1}x_{1}$, se tiene que:\n",
    "$$P\\left ( Y = k | X = x \\right ) = {\\displaystyle \\frac{e^{\\beta_{0}+\\beta_{1}x_{1}}}{1+e^{\\beta_{0}+\\beta_{1}x_{1}}}}$$\n",
    "<br></br>\n",
    "<br></br>\n",
    "Si empleamos la versión logaritmica de la función, tenemos la función de un modelo logístico:\n",
    "\n",
    "<br/>\n",
    "\n",
    "$$\\ln\\left({\\displaystyle \\frac{P\\left(Y=k|X=x\\right)}{1-P\\left(Y=k|X=x\\right)}}\\right) = \\beta_{0}+\\beta_{1}x_{1} $$\n",
    "\n",
    "Lo anterior se conoce como el logaritmos de los ODDS. ¿Qué es un ODD? Si la probabilidad de que un evento ocurra es de 0.6 y de que no ocurra es de 0.4, ¿Cómo se construye y entiende un ODD?"
   ]
  },
  {
   "cell_type": "markdown",
   "metadata": {},
   "source": [
    "### Ejercicio 2\n",
    "Genere una matriz de 10x3 tal que:\n",
    "* La primera columna contenga la probabilidad de que un evento ocurra (un vector/serie de números entre 0 y 1)\n",
    "* La segunda columna contenga los ODDS relacionados a la primera columna\n",
    "* La tercera columna contenga el logaritmo natural de los ODDS de la segunda columna"
   ]
  },
  {
   "cell_type": "markdown",
   "metadata": {},
   "source": [
    "Para este caso generemos una regresión logística simple, consulte en que consiste el modulo [LogisticRegression](https://scikit-learn.org/stable/modules/generated/sklearn.linear_model.LogisticRegression.html)"
   ]
  },
  {
   "cell_type": "markdown",
   "metadata": {},
   "source": [
    "### Estimación de una regresión Logística\n",
    "<br/>\n",
    "\n",
    "$${\\displaystyle \\frac{P\\left(Y=k|X=x\\right)}{1-P\\left(Y=k|X=x\\right)}}=e^{\\beta_{0}+\\beta_{1}x_{1}}$$\n",
    "\n",
    "<br/>\n",
    "Dada esta última ecuación, el siguiente paso consiste en estimar los $\\beta 's$ por medio de máxima verosimilitud, este método consiste en encontrar aquellos $\\beta 's$ con los que se maximiza la probabilidad de obtener los datos observados.\n",
    "\n",
    "Tomando la última ecuación, tenemos:\n",
    "\n",
    "$${\\displaystyle \\frac{P\\left(Y=k|X=x\\right)}{1-P\\left(Y=k|X=x\\right)}}=\\prod_{i=0}^{n}{e^{\\beta_{i}x_{i}}}$$\n",
    "\n",
    "Esta ecuación nos dice que los modelos logit son multiplicativos en sus entradas, por lo que $e^{\\beta_{i}}$ nos indicara cómo las probabilidades de que la respuesta sea \"verdadera\" aumentan (o disminuyen) a medida que $x_{i}$ aumenta en una unidad, todas las demás cosas son iguales. Por ejemplo, suponga que ${\\beta_{i}} = 0.693$. Entonces $e^{\\beta_{i}} = 2$. Si $x_{i}$ es una variable numérica (por ejemplo, edad en años), entonces el aumento de la edad de cada año duplica las probabilidades de que la respuesta sea verdadera; todas las demás cosas son iguales. Mientras que, si $x_{i}$ es una variable binaria (por ejemplo, sexo, con femenino codificado como 1 y el masculino como 0), de manera que si el sujeto es femenino, la respuesta es dos veces más probable que sea verdadera que si el sujeto es masculino, mientras que las demás cosas son iguales.\n",
    "<br/>\n",
    "<br/>\n",
    "<br/>\n",
    "### Máxima verosimilitud\n",
    "El estimador de máxima verosimilitud es aquel valor de $\\beta's$ que maximiza la funci ́on de máxima verosimilitud, de manera que los $\\beta's$ encontrados sean los que mejor describan la distribución de los datos.\n",
    "\n",
    "Este se categoriza porque en muestras grandes es consistente, eficiente (menor varianza) y normalmente distribuido.\n",
    "\n",
    "En terminos simples, este metodo busca los parametros que maximicen o minimicen una función, a partir de calcular cada pendiente e identificar cada punto. En el caso de un logístico, al tener independencia en la muestra, podemos derivar e igualar a cero nuestra función de distribución y hallar aquellos valores que maximicen la función.\n",
    "\n",
    "La función de máxima verosimilitud para una regresión logística, consiste en:\n",
    "$$ L\\left(\\left(x^{\\left(1\\right)},c^{\\left(1\\right)}\\right),...,\\left(x^{\\left(N\\right)},c^{\\left(N\\right)}\\right),\\beta_{0},...,\\beta_{1}\\right) = \\prod_{j=1}^{N}{P\\left(C=1|x^{\\left(j\\right)}\\right)^{c^{\\left(j\\right)}}\\left(1-P\\left(C=1|x^{\\left(j\\right)}\\right)\\right)^{1-c^{\\left(j\\right)}}}\n",
    " $$\n",
    "\n",
    "\n"
   ]
  },
  {
   "cell_type": "markdown",
   "metadata": {},
   "source": [
    "### Métricas de evaluación del modelo\n",
    "En este tipo de modelos no tiene sentido hablar de ${R}^{2}$ o $adj{R}^{2}$, lo más cercano que podemos tener de una metrica global es $pseudo{R}^{2}$, el cual ide el grado de mejora en el ajuste del modelo del log de la verosimilitud respecto al modelo sin Xs.\n",
    "\n",
    "Otros metodos para mirar la significancia global del modelo son:\n",
    "* **Wald chi-square:** está muy expandido pero pierde precisión con tamaños muestrales pequeños.\n",
    "\n",
    "* **Likelihood ratio:** usa la diferencia entre la probabilidad de obtener los valores observados con el modelo logístico creado y las probabilidades de hacerlo con un modelo sin relación entre las variables. Para ello, calcula la significancia de la diferencia de residuos entre el modelo con predictores y el modelo nulo (modelo sin predictores). El estadístico tiene una distribución chi-cuadrado con grados de libertad equivalentes a la diferencia de grados de libertad de los dos modelos comparados. Si se compara respecto al modelo nulo, los grados de libertad equivalen al número de predictores del modelo generado. En el libro Handbook for biological statistics se recomienda usar este.\n",
    "\n",
    "### Condiciones\n",
    "* **Independencia:** las observaciones tienen que ser independientes unas de otras.\n",
    "\n",
    "* Relación lineal entre el logaritmo natural de odds y la variable continua: patrones en forma de U son una clara violación de esta condición.\n",
    "\n",
    "* La regresión logística no precisa de una distribución normal de la variable continua independiente.\n",
    "\n",
    "* **Número de observaciones:**no existe una norma establecida al respecto, pero se recomienda entre 50 a 100 observaciones. "
   ]
  },
  {
   "cell_type": "code",
   "execution_count": 20,
   "metadata": {},
   "outputs": [
    {
     "data": {
      "text/plain": [
       "Text(0.5, 1.0, 'Regresión Logistica para datos binarios / discretos')"
      ]
     },
     "execution_count": 20,
     "metadata": {},
     "output_type": "execute_result"
    },
    {
     "data": {
      "text/plain": [
       "<Figure size 1440x720 with 0 Axes>"
      ]
     },
     "metadata": {},
     "output_type": "display_data"
    },
    {
     "data": {
      "image/png": "[encoded data removed]",
      "text/plain": [
       "<Figure size 1440x720 with 1 Axes>"
      ]
     },
     "metadata": {
      "needs_background": "light"
     },
     "output_type": "display_data"
    }
   ],
   "source": [
    "## Ejemplo 1\n",
    "\n",
    "logit = LogisticRegression(solver='lbfgs')\n",
    "logit_model = logit.fit(X,y)\n",
    "y_pred = logit_model.predict(X)\n",
    "plt.figure(figsize=(20,10))\n",
    "plt.figure(figsize=(20,10))\n",
    "sns.regplot(x='balance', y='default', data=datos, logistic=True)\n",
    "plt.title('Regresión Logistica para datos binarios / discretos')"
   ]
  },
  {
   "cell_type": "markdown",
   "metadata": {},
   "source": [
    "<h2> Regresión Logística Múltiple </h2>"
   ]
  },
  {
   "cell_type": "code",
   "execution_count": 7,
   "metadata": {},
   "outputs": [],
   "source": [
    "email_spam = pd.read_csv('email_spam.csv')"
   ]
  },
  {
   "cell_type": "code",
   "execution_count": 8,
   "metadata": {},
   "outputs": [],
   "source": [
    "email_spam['winner'] = email_spam['winner'].replace({'yes':1, 'no':0})\n",
    "y = np.array(email_spam[\"spam\"])\n",
    "X = np.array(email_spam[[\"intercept\",\"to_multiple\",\"format\",\"cc\",\"attach\",\"dollar\", \"winner\",\"inherit\",\n",
    "               \"password\",\"re_subj\",\"exclaim_subj\"]])"
   ]
  },
  {
   "cell_type": "code",
   "execution_count": 9,
   "metadata": {},
   "outputs": [
    {
     "name": "stdout",
     "output_type": "stream",
     "text": [
      "Warning: Maximum number of iterations has been exceeded.\n",
      "         Current function value: 0.247341\n",
      "         Iterations: 35\n",
      "         Function evaluations: 37\n",
      "         Gradient evaluations: 37\n",
      "                           Logit Regression Results                           \n",
      "==============================================================================\n",
      "Dep. Variable:                      y   No. Observations:                 3921\n",
      "Model:                          Logit   Df Residuals:                     3910\n",
      "Method:                           MLE   Df Model:                           10\n",
      "Date:                Fri, 08 Nov 2019   Pseudo R-squ.:                  0.2041\n",
      "Time:                        08:15:47   Log-Likelihood:                -969.82\n",
      "converged:                      False   LL-Null:                       -1218.6\n",
      "Covariance Type:            nonrobust   LLR p-value:                1.486e-100\n",
      "==============================================================================\n",
      "                 coef    std err          z      P>|z|      [0.025      0.975]\n",
      "------------------------------------------------------------------------------\n",
      "const         -0.7741      0.089     -8.698      0.000      -0.949      -0.600\n",
      "x1            -2.9698      0.326     -9.110      0.000      -3.609      -2.331\n",
      "x2            -1.5271      0.122    -12.510      0.000      -1.766      -1.288\n",
      "x3             0.0339      0.019      1.777      0.076      -0.003       0.071\n",
      "x4             0.2046      0.059      3.461      0.001       0.089       0.320\n",
      "x5            -0.0693      0.023     -3.017      0.003      -0.114      -0.024\n",
      "x6             1.2707      0.353      3.604      0.000       0.580       1.962\n",
      "x7             0.2322      0.155      1.498      0.134      -0.072       0.536\n",
      "x8            -0.7442      0.293     -2.539      0.011      -1.319      -0.170\n",
      "x9            -3.2236      0.384     -8.401      0.000      -3.976      -2.471\n",
      "x10            0.3082      0.221      1.393      0.164      -0.126       0.742\n",
      "==============================================================================\n"
     ]
    },
    {
     "name": "stderr",
     "output_type": "stream",
     "text": [
      "/usr/local/lib/python3.7/site-packages/statsmodels/base/model.py:512: ConvergenceWarning: Maximum Likelihood optimization failed to converge. Check mle_retvals\n",
      "  \"Check mle_retvals\", ConvergenceWarning)\n"
     ]
    }
   ],
   "source": [
    "logit_model=sm.Logit(y,X)\n",
    "result=logit_model.fit(method='bfgs')\n",
    "print(result.summary())"
   ]
  },
  {
   "cell_type": "markdown",
   "metadata": {},
   "source": [
    "<h2> Ejercicio 3 </h2>\n",
    "\n",
    "Para el ejercicio anterior:\n",
    "<ul>\n",
    "    <li> Para una muestra de entrenamiento del 0.7 estime el modelo de spams </li>\n",
    "    <li> Evalue las métricas de rendimiento en estos modelos ¿Es bueno el modelo a la hora de predecir?\n",
    "</ul>"
   ]
  }
 ],
 "metadata": {
  "kernelspec": {
   "display_name": "Python 3",
   "language": "python",
   "name": "python3"
  },
  "language_info": {
   "codemirror_mode": {
    "name": "ipython",
    "version": 3
   },
   "file_extension": ".py",
   "mimetype": "text/x-python",
   "name": "python",
   "nbconvert_exporter": "python",
   "pygments_lexer": "ipython3",
   "version": "3.7.4"
  }
 },
 "nbformat": 4,
 "nbformat_minor": 2
}
