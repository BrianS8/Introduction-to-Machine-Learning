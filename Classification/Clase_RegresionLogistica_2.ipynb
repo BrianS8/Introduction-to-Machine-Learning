{
 "cells": [
  {
   "cell_type": "markdown",
   "metadata": {},
   "source": [
    "<h1> <center> Regresión Logística </center> </h1>\n",
    "\n",
    "<p> La regresión logística es un algoritmo de aprendizaje automático de clasificación que se utiliza para predecir la probabilidad de una variable dependiente categórica que sea binaria, es decir, que contega datos codificados como 1 (\"Si\", \"Exito\", etc) o 0 (\"No, \"Fracaso\", etc.). Una regresión logistica, por lo tanto, requiere de que la variable dependiente sea binaria. Por tanto, es un método estadístico para predecir clases binarias, del cual obtenemos como resultado una variable dicotómica, es decir dos clases posibles. </p> \n",
    "<p> Este algoritmo se basa en la Función Sigmoide </p>\n",
    "<img src= 'sigmoide.png',width=400,heigth=1000, alt=\"Flowers in Chania\">\n",
    "\n",
    "<p> Las librerias y datos que utilizaremos son: </p>"
   ]
  },
  {
   "cell_type": "code",
   "execution_count": null,
   "metadata": {},
   "outputs": [],
   "source": [
    "import pandas as pd\n",
    "import numpy as np\n",
    "import seaborn as sns\n",
    "import statsmodels.api as sm\n",
    "from sklearn.metrics import accuracy_score \n",
    "from sklearn.linear_model import LinearRegression, LogisticRegression\n",
    "import matplotlib.pyplot as plt\n",
    "plt.style.use('seaborn-whitegrid')\n",
    "from statsmodels.formula.api  import ols"
   ]
  },
  {
   "cell_type": "code",
   "execution_count": null,
   "metadata": {},
   "outputs": [],
   "source": [
    "datos = pd.read_csv('datos.csv')\n",
    "y = np.array(datos['default'])\n",
    "X = np.array(datos['balance']).reshape((-1, 1))\n",
    "datos.head()"
   ]
  },
  {
   "cell_type": "code",
   "execution_count": null,
   "metadata": {},
   "outputs": [],
   "source": [
    "model = LinearRegression()\n",
    "linear_model = model.fit(X, y)\n",
    "y_pred = linear_model.predict(X)\n",
    "plt.figure(figsize=(20,10))\n",
    "plt.plot(X, y_pred , label = \"line 1\")\n",
    "plt.scatter(X, y, label = \"line 1\", color = 'red')\n",
    "plt.title('Regresión Lineal para datos binarios / discretos')"
   ]
  },
  {
   "cell_type": "code",
   "execution_count": null,
   "metadata": {},
   "outputs": [],
   "source": [
    "est = ols(formula = 'default ~  balance', data = datos).fit()\n",
    "est.summary()"
   ]
  },
  {
   "cell_type": "code",
   "execution_count": null,
   "metadata": {},
   "outputs": [],
   "source": [
    "logit = LogisticRegression(solver='lbfgs')\n",
    "logit_model = logit.fit(X,y)\n",
    "y_pred = logit_model.predict(X)\n",
    "plt.figure(figsize=(20,10))\n",
    "plt.figure(figsize=(20,10))\n",
    "sns.regplot(x='balance', y='default', data=datos, logistic=True)\n",
    "plt.title('Regresión Logistica para datos binarios / discretos')"
   ]
  },
  {
   "cell_type": "markdown",
   "metadata": {},
   "source": [
    "<h2> Regresión Logística Múltiple </h2>"
   ]
  },
  {
   "cell_type": "code",
   "execution_count": null,
   "metadata": {},
   "outputs": [],
   "source": [
    "email_spam = pd.read_csv('email_spam.csv')"
   ]
  },
  {
   "cell_type": "code",
   "execution_count": null,
   "metadata": {},
   "outputs": [],
   "source": [
    "email_spam['winner'] = email_spam['winner'].replace({'yes':1, 'no':0})\n",
    "y = np.array(email_spam[\"spam\"])\n",
    "X = np.array(email_spam[[\"intercept\",\"to_multiple\",\"format\",\"cc\",\"attach\",\"dollar\", \"winner\",\"inherit\",\n",
    "               \"password\",\"re_subj\",\"exclaim_subj\"]])"
   ]
  },
  {
   "cell_type": "code",
   "execution_count": null,
   "metadata": {},
   "outputs": [],
   "source": [
    "logit_model=sm.Logit(y,X)\n",
    "result=logit_model.fit(method='bfgs')\n",
    "print(result.summary())"
   ]
  },
  {
   "cell_type": "markdown",
   "metadata": {},
   "source": [
    "<h2> Ejercicio </h2>\n",
    "\n",
    "Para el ejercicio anterior:\n",
    "<ul>\n",
    "    <li> Elimine aquellas variables que no son relevantes</li>\n",
    "    <li> calcule nuevamente la estimación </li>\n",
    "    <li> Con la base de datos vista anteriormente, calcule una regresión logística simple y una regresión logística múltiple </li>\n",
    "</ul>"
   ]
  },
  {
   "cell_type": "code",
   "execution_count": null,
   "metadata": {},
   "outputs": [],
   "source": []
  }
 ],
 "metadata": {
  "kernelspec": {
   "display_name": "Python 3",
   "language": "python",
   "name": "python3"
  },
  "language_info": {
   "codemirror_mode": {
    "name": "ipython",
    "version": 3
   },
   "file_extension": ".py",
   "mimetype": "text/x-python",
   "name": "python",
   "nbconvert_exporter": "python",
   "pygments_lexer": "ipython3",
   "version": "3.7.4"
  }
 },
 "nbformat": 4,
 "nbformat_minor": 2
}
