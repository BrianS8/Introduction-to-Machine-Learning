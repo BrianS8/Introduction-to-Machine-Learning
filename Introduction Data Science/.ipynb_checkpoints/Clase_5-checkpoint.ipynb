{
 "cells": [
  {
   "cell_type": "markdown",
   "metadata": {},
   "source": [
    "<h1> <center> Introducción a la estadística </center> </h1>\n",
    "<p> En esta sección veremos una breve introducción a los principales conceptos de estadística utilizadas a la hora de trabajar en el campo de ciencia de datos, por lo que veremos: </p>\n",
    "<ul>\n",
    "    <li> Variables aleatorias discretas y continuas </li>\n",
    "    <li> Distribuciones de probabilidad </li>\n",
    "    <li> Muestreos </li>\n",
    "    <li> Medidas de tendencia central </li>\n",
    "</ul>\n",
    "<p> <i> <b>Nota:</b> Esta clase se divide en 2, una breve introducción a algunos conceptos de estadística y probabilidad en Python y un modelo de regresión lineal en R. Su tarea consiste en complementar las clases en Python y en R. </i> </p>\n",
    "<br></br>\n",
    "<p> Las librerías que utilizaremos en esta sección son las siguientes:</p>"
   ]
  },
  {
   "cell_type": "code",
   "execution_count": 54,
   "metadata": {},
   "outputs": [],
   "source": [
    "import numpy as np\n",
    "import random as rd\n",
    "import matplotlib.pyplot as plt\n",
    "import scipy.stats as ss\n",
    "# secundarias\n",
    "import pandas as pd"
   ]
  },
  {
   "cell_type": "markdown",
   "metadata": {},
   "source": [
    "<h2> Conceptos básicos de probabilidad </h2>\n",
    "\n",
    "<p> En probabilidad tenemos que: </p>\n",
    "<ul>\n",
    "    <li> Un <b> espacio muestral </b> es un conjunto de todos los resultados posibles de una variable aleatoria </li>\n",
    "    <li> Un <b>evento</b> es un subconjuto del espacio muestral, el cual se compone de al menos un elemento de este conjunto </li>\n",
    "    <li> A partir de la definición clásica, la probabilidad la vamos a entender como la proporción de que el resultado ocurra a largo plazo</li>\n",
    "</ul>\n",
    "<h3> Variables aleatorias discretas </h3>\n",
    "\n",
    "<p> Las variables discretas son aquellas variables que toman tan solo un número finito de resultados dentro de algún intervalo, sus resultados son datos contables, tenemos los siguientes ejemplos </p>\n"
   ]
  },
  {
   "cell_type": "code",
   "execution_count": 26,
   "metadata": {},
   "outputs": [
    {
     "name": "stdout",
     "output_type": "stream",
     "text": [
      "Seleccione un evento de la moneda y un evento del dado ['S'] [1]\n"
     ]
    }
   ],
   "source": [
    "lanzamiento_moneda = ['C','S']\n",
    "dado = list(range(1,7))\n",
    "print(\"Seleccione un evento de la moneda y un evento del dado\",\n",
    "      np.random.choice(lanzamiento_moneda, size=1),\n",
    "      np.random.choice(dado, size=1))"
   ]
  },
  {
   "cell_type": "markdown",
   "metadata": {},
   "source": [
    "<h3> Distribuciones de probabilidad de variables aleatorias discretas </h3>\n",
    "La distribución describe la probabilidad de ocurrencia de cada valor de una variable aleatoria"
   ]
  },
  {
   "cell_type": "code",
   "execution_count": 27,
   "metadata": {},
   "outputs": [
    {
     "data": {
      "text/html": [
       "<div>\n",
       "<style scoped>\n",
       "    .dataframe tbody tr th:only-of-type {\n",
       "        vertical-align: middle;\n",
       "    }\n",
       "\n",
       "    .dataframe tbody tr th {\n",
       "        vertical-align: top;\n",
       "    }\n",
       "\n",
       "    .dataframe thead th {\n",
       "        text-align: right;\n",
       "    }\n",
       "</style>\n",
       "<table border=\"1\" class=\"dataframe\">\n",
       "  <thead>\n",
       "    <tr style=\"text-align: right;\">\n",
       "      <th></th>\n",
       "      <th>Cara1</th>\n",
       "      <th>Cara2</th>\n",
       "      <th>Cara3</th>\n",
       "      <th>Cara4</th>\n",
       "      <th>Cara5</th>\n",
       "      <th>Cara6</th>\n",
       "    </tr>\n",
       "  </thead>\n",
       "  <tbody>\n",
       "    <tr>\n",
       "      <td>Variable aleatoria</td>\n",
       "      <td>1.000000</td>\n",
       "      <td>2.000000</td>\n",
       "      <td>3.000000</td>\n",
       "      <td>4.000000</td>\n",
       "      <td>5.000000</td>\n",
       "      <td>6.000000</td>\n",
       "    </tr>\n",
       "    <tr>\n",
       "      <td>Propabalidad</td>\n",
       "      <td>0.166667</td>\n",
       "      <td>0.166667</td>\n",
       "      <td>0.166667</td>\n",
       "      <td>0.166667</td>\n",
       "      <td>0.166667</td>\n",
       "      <td>0.166667</td>\n",
       "    </tr>\n",
       "    <tr>\n",
       "      <td>Probabilidad acumulada</td>\n",
       "      <td>0.166667</td>\n",
       "      <td>0.333333</td>\n",
       "      <td>0.500000</td>\n",
       "      <td>0.666667</td>\n",
       "      <td>0.833333</td>\n",
       "      <td>1.000000</td>\n",
       "    </tr>\n",
       "  </tbody>\n",
       "</table>\n",
       "</div>"
      ],
      "text/plain": [
       "                           Cara1     Cara2     Cara3     Cara4     Cara5  \\\n",
       "Variable aleatoria      1.000000  2.000000  3.000000  4.000000  5.000000   \n",
       "Propabalidad            0.166667  0.166667  0.166667  0.166667  0.166667   \n",
       "Probabilidad acumulada  0.166667  0.333333  0.500000  0.666667  0.833333   \n",
       "\n",
       "                           Cara6  \n",
       "Variable aleatoria      6.000000  \n",
       "Propabalidad            0.166667  \n",
       "Probabilidad acumulada  1.000000  "
      ]
     },
     "execution_count": 27,
     "metadata": {},
     "output_type": "execute_result"
    }
   ],
   "source": [
    "dado = np.asarray(dado)\n",
    "pdado = [1/6] * 6\n",
    "cdado = np.cumsum(pdado)\n",
    "\n",
    "pd.DataFrame(list([dado,pdado,cdado]), index = ['Variable aleatoria','Propabalidad','Probabilidad acumulada'],\n",
    "            columns = [\"Cara1\",\"Cara2\",\"Cara3\",\"Cara4\",\"Cara5\",\"Cara6\"])\n"
   ]
  },
  {
   "cell_type": "code",
   "execution_count": 56,
   "metadata": {},
   "outputs": [
    {
     "data": {
      "image/png": "[encoded data removed]",
      "text/plain": [
       "<Figure size 432x288 with 1 Axes>"
      ]
     },
     "metadata": {
      "needs_background": "light"
     },
     "output_type": "display_data"
    }
   ],
   "source": [
    "fig, ax = plt.subplots(1, 1)\n",
    "ax.plot(pdado,'bo',ms=8)\n",
    "ax.set_title('Función de Probabilidad')\n",
    "plt.show()"
   ]
  },
  {
   "cell_type": "code",
   "execution_count": 57,
   "metadata": {},
   "outputs": [
    {
     "data": {
      "image/png": "[encoded data removed]",
      "text/plain": [
       "<Figure size 432x288 with 1 Axes>"
      ]
     },
     "metadata": {
      "needs_background": "light"
     },
     "output_type": "display_data"
    }
   ],
   "source": [
    "fig, ax = plt.subplots(1, 1)\n",
    "ax.plot(cdado,'bo',ms=8)\n",
    "ax.set_title('Función de Probabilidad Acumulada')\n",
    "plt.show()"
   ]
  },
  {
   "cell_type": "markdown",
   "metadata": {},
   "source": [
    "<h4> Distribución binomial </h4>\n",
    "¿Qué es?"
   ]
  },
  {
   "cell_type": "code",
   "execution_count": 90,
   "metadata": {},
   "outputs": [
    {
     "name": "stdout",
     "output_type": "stream",
     "text": [
      "0.24609375000000025\n",
      "0.7734375000000008\n",
      "0.7734375\n"
     ]
    }
   ],
   "source": [
    "print(ss.binom.pmf(k=5, n=10, p=0.5))\n",
    "print(ss.binom.pmf(k=list(range(4,8)), n=10, p=0.5).sum())\n",
    "print(ss.binom.cdf(k=7, n=10, p=0.5) - ss.binom.cdf(k=3, n=10, p=0.5))\n",
    "binom.pmf(x, n, p)"
   ]
  },
  {
   "cell_type": "code",
   "execution_count": 58,
   "metadata": {},
   "outputs": [
    {
     "data": {
      "image/png": "[encoded data removed]",
      "text/plain": [
       "<Figure size 432x288 with 1 Axes>"
      ]
     },
     "metadata": {
      "needs_background": "light"
     },
     "output_type": "display_data"
    }
   ],
   "source": [
    "fig, ax = plt.subplots(1, 1)\n",
    "ax.plot(\n",
    "    ss.binom.pmf(k=list(range(0,10)),n=10,p=0.5),\n",
    "    'bo',\n",
    "    ms=8)\n",
    "ax.set_title('Función de Probabilidad Binomial')\n",
    "plt.show()"
   ]
  },
  {
   "cell_type": "code",
   "execution_count": 60,
   "metadata": {},
   "outputs": [
    {
     "data": {
      "image/png": "[encoded data removed]",
      "text/plain": [
       "<Figure size 432x288 with 1 Axes>"
      ]
     },
     "metadata": {
      "needs_background": "light"
     },
     "output_type": "display_data"
    }
   ],
   "source": [
    "fig, ax = plt.subplots(1, 1)\n",
    "ax.plot(\n",
    "    ss.binom.cdf(k=list(range(0,10)),\n",
    "                 n=10,\n",
    "                 p=0.5),\n",
    "    'bo',\n",
    "    ms=8)\n",
    "ax.set_title('Función de Probabilidad Acumulada Binomial')\n",
    "plt.show()"
   ]
  },
  {
   "cell_type": "markdown",
   "metadata": {},
   "source": [
    "<h4> Distribución Poisson </h4>\n",
    "¿Qué es?"
   ]
  },
  {
   "cell_type": "code",
   "execution_count": 59,
   "metadata": {},
   "outputs": [
    {
     "name": "stdout",
     "output_type": "stream",
     "text": [
      "0.0033336819930677277 \n",
      "\n",
      "\n"
     ]
    },
    {
     "data": {
      "image/png": "[encoded data removed]",
      "text/plain": [
       "<Figure size 432x288 with 1 Axes>"
      ]
     },
     "metadata": {
      "needs_background": "light"
     },
     "output_type": "display_data"
    }
   ],
   "source": [
    "print(ss.poisson.pmf(k=3, mu=0.3),\"\\n\\n\")\n",
    "fig, ax = plt.subplots(1, 1)\n",
    "ax.plot(\n",
    "    ss.poisson.pmf(k=list(range(0,10)),\n",
    "                 mu=0.5),\n",
    "    'bo',\n",
    "    ms=8)\n",
    "ax.set_title('Función de Probabilidad Poisson')\n",
    "plt.show()"
   ]
  },
  {
   "cell_type": "code",
   "execution_count": 62,
   "metadata": {},
   "outputs": [
    {
     "data": {
      "image/png": "[encoded data removed]",
      "text/plain": [
       "<Figure size 432x288 with 1 Axes>"
      ]
     },
     "metadata": {
      "needs_background": "light"
     },
     "output_type": "display_data"
    }
   ],
   "source": [
    "mu = 0.6\n",
    "fig, ax = plt.subplots(1, 1)\n",
    "x = np.arange(ss.poisson.ppf(0.01, mu),ss.poisson.ppf(0.99, mu))\n",
    "ax.plot(x, ss.poisson.pmf(x, mu), 'bo', ms=8, label='poisson pmf')\n",
    "ax.set_title('Función de Probabilidad Acumulada Poisson')\n",
    "plt.show()"
   ]
  },
  {
   "cell_type": "markdown",
   "metadata": {},
   "source": [
    "<h3> Variables aleatorias continuas </h3>\n",
    "\n",
    "<p> Las variables discretas son aquellas variables que toman cualquier valor dentro de algún intervalo, y su función de probabilidad es continua, tenemos los siguientes ejemplos </p>"
   ]
  },
  {
   "cell_type": "code",
   "execution_count": null,
   "metadata": {},
   "outputs": [],
   "source": []
  }
 ],
 "metadata": {
  "kernelspec": {
   "display_name": "Python 3",
   "language": "python",
   "name": "python3"
  },
  "language_info": {
   "codemirror_mode": {
    "name": "ipython",
    "version": 3
   },
   "file_extension": ".py",
   "mimetype": "text/x-python",
   "name": "python",
   "nbconvert_exporter": "python",
   "pygments_lexer": "ipython3",
   "version": "3.7.4"
  }
 },
 "nbformat": 4,
 "nbformat_minor": 2
}
