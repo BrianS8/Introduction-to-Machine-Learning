{
 "cells": [
  {
   "cell_type": "markdown",
   "metadata": {},
   "source": [
    " <h1> <center> Manipulación y Procesamiento de Datos </center> </h1> "
   ]
  },
  {
   "cell_type": "markdown",
   "metadata": {},
   "source": [
    "<h2> Procesamiento de bases de datos </h2>\n",
    "<p>En la sesión de hoy abordaremos distintos aspectos relacionados con la manipulación de datos</p>\n",
    "<ul>\n",
    "    <li> Eliminación de índices y columnas </li>\n",
    "    <li> Indexar elementos de un <i>data frame</i></li>\n",
    "    <li> Reemplazar filas, columnas o valores en especifíco </li>\n",
    "    <li> Las series en Python </li>\n",
    "    <li> Tratamientos de los missing values </li>\n",
    "</ul>\n",
    "    \n"
   ]
  },
  {
   "cell_type": "markdown",
   "metadata": {},
   "source": [
    "<h3>Eliminación de índices y columnas</h3>\n",
    "Para eliminar índices y columnas en python.pandas podemos .drop() de la siguiente manera:"
   ]
  },
  {
   "cell_type": "code",
   "execution_count": 2,
   "metadata": {},
   "outputs": [],
   "source": [
    "import pandas as pd\n",
    "import numpy as np"
   ]
  },
  {
   "cell_type": "code",
   "execution_count": 3,
   "metadata": {},
   "outputs": [
    {
     "name": "stdout",
     "output_type": "stream",
     "text": [
      "   Nombre  Edad       Ciudad Sexo\n",
      "0   Maria    27       Bogota    F\n",
      "1  Carlos    24         Cali    M\n",
      "2    Juan    22  Bucaramanga    M\n",
      "3  Lorena    32          NaN    F \n",
      "\n",
      "   Nombre  Edad Sexo\n",
      "0   Maria    27    F\n",
      "1  Carlos    24    M\n",
      "2    Juan    22    M\n",
      "3  Lorena    32    F \n",
      "\n",
      "   Nombre  Edad Sexo\n",
      "0   Maria    27    F\n",
      "1  Carlos    24    M\n",
      "2    Juan    22    M\n",
      "3  Lorena    32    F \n",
      "\n"
     ]
    }
   ],
   "source": [
    "df = {'Nombre':['Maria', 'Carlos', 'Juan', 'Lorena'],\n",
    "        'Edad':[27, 24, 22, 32],\n",
    "        'Ciudad':['Bogota', 'Cali', 'Bucaramanga', np.nan],\n",
    "        'Sexo':['F', 'M', 'M', 'F']}\n",
    "df = pd.DataFrame(df)\n",
    "df2 = pd.DataFrame(df)\n",
    "print(df2,\"\\n\")\n",
    "\n",
    "# Eliminemos la columna por su etiqueta                 \n",
    "df2.drop('Ciudad', axis=1, inplace=True)\n",
    "print(df2,\"\\n\")\n",
    "# Eliminemos la columna por su posición\n",
    "df2.drop(df2.columns[[1]], axis=1)\n",
    "print(df2,\"\\n\")\n"
   ]
  },
  {
   "cell_type": "code",
   "execution_count": null,
   "metadata": {},
   "outputs": [],
   "source": [
    "# Eliminación de índices por su posición\n",
    "print(df2, \"\\n\")\n",
    "print(df2.drop(df2.index[2]))"
   ]
  },
  {
   "cell_type": "markdown",
   "metadata": {},
   "source": [
    "<h3>Indexar elementos de un <i>data frame</i></h3>\n",
    "<p> Existen diversas formas de realizar una indexaxión en un <i>data frame</i>, por ejemplo utilizando las posiciones de los índices y las columnas con .iloc, .loc y .at </p>"
   ]
  },
  {
   "cell_type": "code",
   "execution_count": null,
   "metadata": {},
   "outputs": [],
   "source": [
    "# Usando `iloc[]`\n",
    "print(df,\"\\n\")\n",
    "print(df.iloc[3][1])\n",
    "\n",
    "# Usando `loc[]`\n",
    "print(df.loc[2]['Sexo'])\n",
    "\n",
    "# Usando `at[]`\n",
    "print(df.at[3,'Ciudad'])\n",
    "\n",
    "# Usando `iat[]`\n",
    "print(df.iat[3,3])"
   ]
  },
  {
   "cell_type": "markdown",
   "metadata": {},
   "source": [
    "<h3>Reemplazar filas, columnas o valores en especifíco</h3>\n",
    "Para reemplazar los valores de una columna, podemos utilizar .replace(). ¿Podemos hacerlo indexando índices y/o columnas en específico?"
   ]
  },
  {
   "cell_type": "code",
   "execution_count": null,
   "metadata": {},
   "outputs": [],
   "source": [
    "print(df)\n",
    "print(df.replace(['Maria', 'Carlos', 'Lorena', 'Bucaramanga'], [0, 1, 2, 3]) )"
   ]
  },
  {
   "cell_type": "code",
   "execution_count": null,
   "metadata": {},
   "outputs": [],
   "source": [
    "# Miremos el siguiente caso\n",
    "df['Calificación'] = ['+3.5A','-2.4v','*1.5d','%5.0B']\n",
    "print(df,\"\\n\")\n",
    "# Eliminemos aquellos caracteres que hacen ruido\n",
    "df['Calificación'] = df['Calificación'].map(lambda x: x.lstrip('+-*%').rstrip('aAbBcCdv'))\n",
    "print(df)\n",
    "\n",
    "# .map(): Aplicar una función a todos los elementos de una función\n",
    "# .lstrip(): Remueve caracteres posicionados a la izquierda de la cadena\n",
    "# .rstrip(): Remueve caracteres posicionados a la derecha de la cadena\n",
    "# lambda: Función anonima"
   ]
  },
  {
   "cell_type": "markdown",
   "metadata": {},
   "source": [
    "<h2> Series en python.pandas </h2>\n",
    "<p>Hasta el momento hemos visto distintos tipos de elementos en Python, como <i>data frames, matrices, vectores, listas</i>. Ahora veremos que es una serie</p>\n",
    "<p> Basicamente una serie es una matriz etiquetada unidimensional (<i> vector</i>) capaz de contener cualquier tipo de datos. Por series se puede entender una columna en una hoja de Excel.</p>\n",
    "\n",
    "<p> Veamos algunos ejemplos: </p>\n"
   ]
  },
  {
   "cell_type": "code",
   "execution_count": 4,
   "metadata": {},
   "outputs": [
    {
     "name": "stdout",
     "output_type": "stream",
     "text": [
      "0    0\n",
      "1    1\n",
      "2    2\n",
      "3    3\n",
      "4    4\n",
      "dtype: int64\n"
     ]
    }
   ],
   "source": [
    "data = np.array(list(range(0,50)))\n",
    "serie = pd.Series(data)\n",
    "print(serie.head())"
   ]
  },
  {
   "cell_type": "code",
   "execution_count": 5,
   "metadata": {},
   "outputs": [
    {
     "data": {
      "text/plain": [
       "Alejandra    230.0\n",
       "Andres       230.0\n",
       "Camilo        45.0\n",
       "Felipe        22.0\n",
       "Laura         45.0\n",
       "Maria         22.0\n",
       "dtype: float64"
      ]
     },
     "execution_count": 5,
     "metadata": {},
     "output_type": "execute_result"
    }
   ],
   "source": [
    "# Creemos una serie\n",
    "serie1 = pd.Series([230, 22, 45], index=['Andres', 'Felipe', 'Camilo'])\n",
    "serie2 = pd.Series([22, 230, 45], index=['Maria', 'Alejandra', 'Laura'])\n",
    "\n",
    "\n",
    "serie1.add(serie2, fill_value=0)"
   ]
  },
  {
   "cell_type": "markdown",
   "metadata": {},
   "source": [
    "<h2> Tratamiento de Missing Values </h2>\n",
    "<p>Existen múltiples formas de manipular <i>missing values</i> en Python, inclusive es posible encontrar modulos en librerías de Machine Learning que realizan esos procesos (revisar los modulos importados en la Clase_1)</p>\n",
    "\n",
    "<p> En esta sección veremos los siguientes métodos para tratar con datos pérdidos: </p>\n",
    "<ul>\n",
    "    <li> .isnull() nos permite visualizar en que lugar se encuentran ubicados los missing values </li>\n",
    "    <li> .fillna() nos permite reemplazar los missing values por un valor en específico </li>\n",
    "    <li> .dropna() nos permite eliminar los índices en los que se encuentra alojado al menos un missing value </li>\n",
    " </ul>\n",
    " <p> Existen otros métodos para tratamientos de missing value que veremos en las próximas sesiones </p>\n",
    " <br></br>\n",
    " <p> Por ahora, como ejercicio identifique los missing values del objeto <i>df</i></p>"
   ]
  },
  {
   "cell_type": "code",
   "execution_count": null,
   "metadata": {},
   "outputs": [],
   "source": [
    "# "
   ]
  }
 ],
 "metadata": {
  "kernelspec": {
   "display_name": "Python 3",
   "language": "python",
   "name": "python3"
  },
  "language_info": {
   "codemirror_mode": {
    "name": "ipython",
    "version": 3
   },
   "file_extension": ".py",
   "mimetype": "text/x-python",
   "name": "python",
   "nbconvert_exporter": "python",
   "pygments_lexer": "ipython3",
   "version": "3.7.4"
  }
 },
 "nbformat": 4,
 "nbformat_minor": 2
}
