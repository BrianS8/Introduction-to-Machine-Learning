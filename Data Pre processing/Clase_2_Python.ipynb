{
 "cells": [
  {
   "cell_type": "markdown",
   "metadata": {},
   "source": [
    " <h1> <center> Manipulación y Procesamiento de Datos </center> </h1> "
   ]
  },
  {
   "cell_type": "markdown",
   "metadata": {},
   "source": [
    "<h2> Manipulación de bases de datos </h2>\n",
    "<p>En la sesión de hoy abordaremos distintos aspectos relacionados con la manipulación de datos</p>\n",
    "<ul>\n",
    "    <li> Eliminación de filas y columnas </li>\n",
    "    <li> Nombrar automáticamente los índices </li>\n",
    "    <li> Reemplazar filas, columnas o valores en especifíco </li>\n",
    "    <li> Las series en Python </li>\n",
    "    <li> Separar columnas en múltiples columnas </li>\n",
    "</ul>\n",
    "    \n"
   ]
  },
  {
   "cell_type": "code",
   "execution_count": null,
   "metadata": {},
   "outputs": [],
   "source": []
  }
 ],
 "metadata": {
  "kernelspec": {
   "display_name": "Python 3",
   "language": "python",
   "name": "python3"
  },
  "language_info": {
   "codemirror_mode": {
    "name": "ipython",
    "version": 3
   },
   "file_extension": ".py",
   "mimetype": "text/x-python",
   "name": "python",
   "nbconvert_exporter": "python",
   "pygments_lexer": "ipython3",
   "version": "3.7.4"
  }
 },
 "nbformat": 4,
 "nbformat_minor": 2
}
