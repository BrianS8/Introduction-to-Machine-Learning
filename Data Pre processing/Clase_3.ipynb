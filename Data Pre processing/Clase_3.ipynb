{
 "cells": [
  {
   "cell_type": "markdown",
   "metadata": {},
   "source": [
    " <h1> <center> Manejo de Bases de Datos </center> </h1> "
   ]
  },
  {
   "cell_type": "markdown",
   "metadata": {},
   "source": [
    "<h2> Archivos </h2>\n",
    "\n",
    "<p> De acuerdo a la documentación de <a href=\"https://pandas.pydata.org/pandas-docs/stable/reference/io.html\"> Pandas</a> es posible importar distintos tipos de archivos, por ejemplo:</p>\n",
    "<ul>\n",
    "    <li> Archivos planos: Son archivos compuestos por caracteres sin formato, por lo general son los archivos .txt </li>\n",
    "    <li> Archivos .csv o .tsv: Son archivos en los que las filas estan separadas por espacios tabulados, y las columans por comas </li>\n",
    "</ul>\n",
    "<br></br>\n",
    "<b> Nota: </b> Muchas de las bases de datos que trabajaremos de aquí en adelantes se encuentran en los repositorios de <a href=\"http://mlr.cs.umass.edu/ml/\"> UCI</a> y <a href=\"https://www.quandl.com\"> QUANDL</a>, entre otros que en su oportunidad iremos comentando\n"
   ]
  },
  {
   "cell_type": "code",
   "execution_count": null,
   "metadata": {},
   "outputs": [],
   "source": [
    "import pandas as pd"
   ]
  },
  {
   "cell_type": "code",
   "execution_count": null,
   "metadata": {},
   "outputs": [],
   "source": [
    "## En este caso importaremos un archivo Excel y un archivo csv\n",
    "df   = pd.read_excel('mpg.xlsx')\n",
    "data = pd.read_csv('mpg.csv', sep = \";\")\n",
    "print(df.head(), \"\\n\\n\\n\")\n",
    "print(df.dtypes, \"\\n\\n\\n\")\n",
    "print(data.head(), \"\\n\\n\\n\")\n",
    "print(df.dtypes, \"\\n\\n\\n\")\n",
    "#dir(data)"
   ]
  },
  {
   "cell_type": "markdown",
   "metadata": {},
   "source": [
    "<h2> Limpieza de bases de datos </h2>\n",
    "<br></br>\n",
    "<p>Por lo general, la limpieza se centra en trabajar con los datos vacíos, y es que en ocasiones las fuentes de información vienen incompletas por múltiples causas, por ejemplo: problemas de digitalización, problemas de ETL, entre otras razones.</p>\n",
    "\n",
    "<p>En los siguientes casos vamos a tener una submuestra de la base <i>mpg</i> en la cual va a presentar los siguientes casos:</p>\n",
    "<ul>\n",
    "    <li> Valores pérdidos estándar </li>\n",
    "    <li> Valores pérdidos no estándar </li>\n",
    "    <li> Valores inesperados </li>\n",
    "</ul>\n",
    "    "
   ]
  },
  {
   "cell_type": "code",
   "execution_count": null,
   "metadata": {},
   "outputs": [],
   "source": [
    "df   = pd.read_excel('mpg_clean.xlsx')\n",
    "print(df)"
   ]
  },
  {
   "cell_type": "code",
   "execution_count": null,
   "metadata": {},
   "outputs": [],
   "source": [
    "df.isnull()"
   ]
  },
  {
   "cell_type": "code",
   "execution_count": null,
   "metadata": {},
   "outputs": [],
   "source": [
    "## Identificar los missing values\n",
    "mv = ['na','--','n/a']\n",
    "df   = pd.read_excel('mpg_clean.xlsx', na_values= mv)\n",
    "print(df)\n"
   ]
  },
  {
   "cell_type": "code",
   "execution_count": null,
   "metadata": {},
   "outputs": [],
   "source": [
    "# Número de valores pérdidos\n",
    "df.isnull().sum()"
   ]
  },
  {
   "cell_type": "code",
   "execution_count": null,
   "metadata": {},
   "outputs": [],
   "source": [
    "df.dtypes"
   ]
  },
  {
   "cell_type": "markdown",
   "metadata": {},
   "source": [
    "<p> Existen distintas formas de reemplazar los valores pérdidos, podemos reemplazarlos con el valor de la media, mediana o moda, para datos númericos, moda para datos string o categóricos, o eliminar el registro </p>\n",
    "\n"
   ]
  },
  {
   "cell_type": "code",
   "execution_count": null,
   "metadata": {},
   "outputs": [],
   "source": [
    "null1 = df['displacement'].mean()\n",
    "null2 = df['horsepower'].median()\n",
    "null3 = df['weight'].median()\n",
    "null4 = df['model year'].mean()\n",
    "null5 = df['acceleration'].median()\n",
    "null6 = int(df['origin'].mode())\n",
    "\n",
    "print('\\n',null1,null2,null3,null4,null5,null6,'\\n')"
   ]
  },
  {
   "cell_type": "code",
   "execution_count": null,
   "metadata": {},
   "outputs": [],
   "source": [
    "df['displacement'].fillna(null1, inplace = True)\n",
    "df['horsepower'].fillna(null2, inplace = True)\n",
    "df['weight'].fillna(null3, inplace = True)\n",
    "df['model year'].fillna(null4, inplace = True)\n",
    "df['acceleration'].fillna(null5, inplace = True)\n",
    "df['origin'].fillna(null6, inplace = True)\n",
    "df.isnull().sum()"
   ]
  },
  {
   "cell_type": "markdown",
   "metadata": {},
   "source": [
    "<h2> Combinar, unir y concatenar </h2>\n",
    "<br></br>\n",
    "<p> En el momento de manejar distintas bases de datos, es importante conocer como podemos obtener información de cada una de ellas</p>\n",
    "<p> En esta sección veremos como combinar, unir y concatenar bases de datos </p>\n",
    "<ul>\n",
    "    <li> Para concatenar un marco de datos, utilizamos la función .concat(), esta función concatena un marco de datos y devuelve un nuevo marco de datos</li>\n",
    "    <li> Para concatenar un marco de datos, utilizamos la función .append() esta función concatena a lo largo del eje = 0, es decir, el índice. </li>\n",
    "    <li> Para juntar bases de datos utilizamos la función .merge()</li>\n",
    " </ul>"
   ]
  },
  {
   "cell_type": "code",
   "execution_count": null,
   "metadata": {},
   "outputs": [],
   "source": [
    "## Concatenar bases de datos\n",
    "# Por columnas\n"
   ]
  }
 ],
 "metadata": {
  "kernelspec": {
   "display_name": "Python 3",
   "language": "python",
   "name": "python3"
  },
  "language_info": {
   "codemirror_mode": {
    "name": "ipython",
    "version": 3
   },
   "file_extension": ".py",
   "mimetype": "text/x-python",
   "name": "python",
   "nbconvert_exporter": "python",
   "pygments_lexer": "ipython3",
   "version": "3.7.4"
  }
 },
 "nbformat": 4,
 "nbformat_minor": 2
}
