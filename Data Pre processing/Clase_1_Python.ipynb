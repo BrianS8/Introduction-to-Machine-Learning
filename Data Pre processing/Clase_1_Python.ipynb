{
 "cells": [
  {
   "cell_type": "markdown",
   "metadata": {},
   "source": [
    "<h1>  <center> Manipulación y procesamiento de datos </center></h1>\n",
    "\n",
    "<p> En está sesión realizaremos una introducción al procesamiento de datos en Python. Para ello, miraremos como importar distintas fuentes de información, como manipularlas, en qué consiste una base de datos y como todos estos conceptos juntos son útiles para trabajar con técnicas de Machine Learning. </p>\n",
    "\n",
    "<h3> Los datos </h3>\n",
    "\n",
    "La mayoría de los datos a nivel global se encuentran no estructurados, es decir, no se encuentran en alojados en una infraestructura que me permita realizar obtener información, realizar modelos, estimar resultados. Es por ello que es útil para cualquier modelador, entender como puede construir distintos tipos de estructuras de datos, y con ellos realizar los análisis que desee.\n",
    "\n",
    "<h2> Librerías y modulos </h2>\n",
    "Estas son las librerías y los modulos con que trabajaremos está sección:\n",
    "<ul>\n",
    "    <li><i>numpy:</i> Es una librería que contiene una gran variedad de modulos, muchos de ellos, orientados a algebra lineal, funciones matemáticas, transformadas de Fourier y números aleatorios, entre otros elementos.</li>\n",
    "    <li><i>pandas:</i> Es una librería con modulos enfocados en estructura y análisis de datos</li>\n",
    "    <li><i>matplotlib:</i> Es una librería útil para realizar gráficos en Python</li>\n",
    "    <li><i>sklearn:</i> Es una librería que contiene un conjunto amplio de modulos diseñados para trabajar en Machine Learning</li>\n",
    "</ul>    "
   ]
  },
  {
   "cell_type": "code",
   "execution_count": 1,
   "metadata": {},
   "outputs": [],
   "source": [
    "import numpy as np \n",
    "np.set_printoptions(suppress=True)\n",
    "\n",
    "import pandas as pd\n",
    "import matplotlib.pyplot as plt\n",
    "from sklearn.impute import SimpleImputer\n",
    "from sklearn.preprocessing import LabelEncoder, OneHotEncoder, StandardScaler\n",
    "from sklearn.compose import ColumnTransformer, make_column_transformer\n",
    "from sklearn.model_selection import train_test_split"
   ]
  },
  {
   "cell_type": "markdown",
   "metadata": {},
   "source": [
    "<h2> Data Frame </h2>\n",
    "<p>De las sesiones pasadas, vimos como podemos interactuar con la maquina a través de Python para que pueda realizar tareas sencillas, a su vez, observamos que a la hora de programar, existen distintos tipos de elementos que en este lenguaje nos permite almacenar información.</p>\n",
    "\n",
    "<p>Continuando con ello, los <i>Data frame</i> son un tipo de archivos en la cual podemos almacenar una cantidad heterogenea de elementos, como datos numéricos, string, registros categorícos y demás. Y este se compone de filas (índices), columnas, valores perdidos, y datos. Donde, cada fila será entendida como un registro, y cada columna como un campo.</p>\n",
    "\n",
    "<p>Y es que, estas estructuras son útiles porque nos permiten hacer consultas sobre las características de nuestra información, permitiendo identificar patrones y errores en las fuentes de datos. Así como hacer manipulaciones que permitan ejecutar técnicas de Machine Learning.</p>\n",
    "\n",
    "<p>A diferencia de R, en Python partimos de <i>diccionarios</i> para obtener data frames.</p>"
   ]
  },
  {
   "cell_type": "code",
   "execution_count": null,
   "metadata": {
    "scrolled": true
   },
   "outputs": [],
   "source": [
    "## Crear un Data frame\n",
    "# 1. Creemos un diccionario\n",
    "data = {'Nombre':['Andres', 'Camilo', 'Laura', 'Daniela'],\n",
    "        'Edad':[20, 21, 19, 18]}\n",
    "print(type(data))\n",
    "\n",
    "# Transformamos a data frame\n",
    "df = pd.DataFrame(data)\n",
    "\n",
    "# Podemos imprimir los primeros resultados.\n",
    "df.head()\n",
    "\n",
    "## Ingreso a los componentes\n",
    "# columnas\n",
    "print(df.columns)\n",
    "print(df.index)\n",
    "print(df.values)\n",
    "print(\"\")\n",
    "print(df.columns.values)\n",
    "print(df.index.values)"
   ]
  },
  {
   "cell_type": "code",
   "execution_count": null,
   "metadata": {},
   "outputs": [],
   "source": [
    "## Otro data frame\n",
    "df = {'Nombre':['Maria', 'Carlos', 'Juan', 'Lorena'],\n",
    "        'Edad':[27, 24, 22, 32],\n",
    "        'Ciudad':['Bogota', 'Cali', 'Bucaramanga', np.nan],\n",
    "        'Sexo':['F', 'M', 'M', 'F']}\n",
    "df = pd.DataFrame(df)\n",
    "print(df.dtypes)\n",
    "\n",
    "## Transformemos el campo sexo a dato categórico\n",
    "df[\"Sexo\"] = df[\"Sexo\"].astype('category')\n",
    "print(\" \")\n",
    "print(df.dtypes)"
   ]
  },
  {
   "cell_type": "markdown",
   "metadata": {},
   "source": [
    "<h3> Tipos de objetos </h3>\n",
    "Como lo mencionamos anteriormente, en Python con Pandas podemos albergar distintos tipos de objetos, entre los que tenemos:\n",
    "\n",
    "<ul>\n",
    "    <li> <b>Enteros:</b> Números enteros </li>\n",
    "    <li> <b>Flotantes:</b> Números decimales </li>\n",
    "    <li> <b>Expresiones booleanas:</b> <b>True</b> and <b>False</b> </li>\n",
    "    <li> <b>Categóricos:</b> Datos númericos o string que definen un tipo específico de dominio para un campo </li>\n",
    "    <li> <b>Fechas:</b> Datos de fechas, como el día, el mes y el año </li>\n",
    "    <li> <b>Complejos:</b> Números complejos </li>\n",
    "    <li> <b>Objetos:</b> Columnas con string, tuplas, listas, diccionarios, entre otros </li>\n",
    "</ul>\n",
    "\n"
   ]
  },
  {
   "cell_type": "code",
   "execution_count": null,
   "metadata": {},
   "outputs": [],
   "source": [
    "## Otro data frame\n",
    "df = {'Nombre':['Maria', 'Carlos', 'Juan', 'Lorena'],\n",
    "        'Edad':[27, 24, 22, 32],\n",
    "        'Ciudad':['Bogota', 'Cali', 'Bucaramanga', np.nan],\n",
    "        'Sexo':['F', 'M', 'M', 'F']}\n",
    "df = pd.DataFrame(df)\n",
    "print(df.dtypes)\n",
    "\n",
    "## Transformemos el campo sexo a dato categórico\n",
    "df[\"Sexo\"] = df[\"Sexo\"].astype('category')\n",
    "print(\" \")\n",
    "print(df.dtypes)"
   ]
  },
  {
   "cell_type": "markdown",
   "metadata": {},
   "source": [
    "<h2> Manipulación de Data Frame </h2>\n",
    "\n",
    "<p>Ya construido un data frame, podemos realizar distintos tipos de ejercicios, por ejemplo:</p>\n",
    "<ul>\n",
    "    <li>Renombrar columnas y filas</li>\n",
    "    <li>Selección y manipulación de información</li>\n",
    "    <li>Manipulación de <i>missing values</i></li>\n",
    "</ul>"
   ]
  },
  {
   "cell_type": "markdown",
   "metadata": {},
   "source": [
    "<h3> Renombrar índices y columnas </h3>\n",
    "<p>En varios escenarios es necesario renombrar las filas y las columnas de un data frame, con el fin de corregir y/o mejorar la información contenida en una tabla </p>"
   ]
  },
  {
   "cell_type": "code",
   "execution_count": null,
   "metadata": {},
   "outputs": [],
   "source": [
    "print(df)\n",
    "df.columns = ['Name','Age','City','Sex']\n",
    "df.index = range(2,6)\n",
    "print(\"\")\n",
    "print(df)\n",
    "df.index = ['Perez','Ortiz','Rodriguez','Gonzalez']\n",
    "print(\"\")\n",
    "print(df)"
   ]
  },
  {
   "cell_type": "markdown",
   "metadata": {},
   "source": [
    "<h3> Selección y manipulación de información</h3>\n",
    "<h4> Seleccionar columnas e índices </h4>\n",
    "Existe varias maneras de manipular los índices y las columnas, por ejemplo, podemos seleccionar columnas y índices de la siguiente manera:\n",
    "<ul>\n",
    "    <li>df.nombre_columna</li>\n",
    "    <li>df[\"nombre_columna\"]</li>\n",
    "    <li>df.loc[:,'_'] : Trabaja con la posición del índice</li>\n",
    "    <li>df.loc['indice']</li>\n",
    "    <li>df.iloc['indice']: Trabaja con la etiqueta del índice</li>\n",
    "    <li>df.ix['indice']: Trabaja cuando la etiqueta del índice es númerica</li>\n",
    "</ul>"
   ]
  },
  {
   "cell_type": "code",
   "execution_count": null,
   "metadata": {},
   "outputs": [],
   "source": [
    "print(df.Age,\"\\n\\n\\n\",df['Age'],\"\\n\\n\\n\")\n",
    "print(df.iloc[1],\"\\n\\n\\n\",df.loc['Ortiz'])"
   ]
  },
  {
   "cell_type": "markdown",
   "metadata": {},
   "source": [
    "<h3> Agregar columnas e índices a un data frame </h3>\n",
    "<h4> Agregar Filas </h4>\n",
    "\n",
    "<p> Para agregar información por índices/filas es necesario definir un data frame que posea las mismas columnas con las mismas etiquetas </p>"
   ]
  },
  {
   "cell_type": "code",
   "execution_count": null,
   "metadata": {},
   "outputs": [],
   "source": [
    "df = df.append(df.iloc[[1,3]])\n",
    "df"
   ]
  },
  {
   "cell_type": "markdown",
   "metadata": {},
   "source": [
    "<h4> Agregar columnas </h4>\n",
    "En este caso, es posible agregar otra columna en el data frame, siempre que posea el mismo número de índices, de la siguiente manera:\n",
    "\n"
   ]
  },
  {
   "cell_type": "code",
   "execution_count": null,
   "metadata": {},
   "outputs": [],
   "source": [
    "df['Hijos'] = pd.Series([1,2,4,1,0,3])\n",
    "df.insert(1, 'Universidad', 'Universidad Nacional de Colombia')\n",
    "df.insert(1, 'Localidad', ['Teusaquillo','Teusaquillo','Engativá','Suba','Usaquen','Usaquen'])\n",
    "df"
   ]
  },
  {
   "cell_type": "code",
   "execution_count": null,
   "metadata": {},
   "outputs": [],
   "source": [
    "## Limpiar las etiquetas de los índices\n",
    "df = df.reset_index(level=0, drop=True)\n",
    "df"
   ]
  }
 ],
 "metadata": {
  "kernelspec": {
   "display_name": "Python 3",
   "language": "python",
   "name": "python3"
  },
  "language_info": {
   "codemirror_mode": {
    "name": "ipython",
    "version": 3
   },
   "file_extension": ".py",
   "mimetype": "text/x-python",
   "name": "python",
   "nbconvert_exporter": "python",
   "pygments_lexer": "ipython3",
   "version": "3.7.4"
  }
 },
 "nbformat": 4,
 "nbformat_minor": 2
}
