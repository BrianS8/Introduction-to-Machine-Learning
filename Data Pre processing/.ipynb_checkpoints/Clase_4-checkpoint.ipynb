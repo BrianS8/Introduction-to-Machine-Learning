{
 "cells": [
  {
   "cell_type": "markdown",
   "metadata": {},
   "source": [
    "<h1> <center> Manejo de Bases de datos </center></h1>"
   ]
  },
  {
   "cell_type": "markdown",
   "metadata": {},
   "source": [
    "</p>En esta sección finalizaremos los temas relacionados con bases de datos, con:</p>\n",
    "<ul>\n",
    "    <li>Resumen</li>\n",
    "    <li>Agrupar por</li>\n",
    "    <li>Split</li>\n",
    "    <li>Reshape</li>\n",
    "    <li>Subset</li>\n",
    " </ul>\n"
   ]
  },
  {
   "cell_type": "code",
   "execution_count": null,
   "metadata": {},
   "outputs": [],
   "source": [
    "import pandas as pd\n",
    "import numpy as np\n",
    "import openpyxl as oxl"
   ]
  },
  {
   "cell_type": "code",
   "execution_count": null,
   "metadata": {},
   "outputs": [],
   "source": [
    "# Importemos 2 bases de datos nuevas\n",
    "df   = pd.read_csv('movie.csv', sep = \";\")\n",
    "print(df.head(),\"\\n\\n\")\n",
    "print(df.info(),\"\\n\\n\")\n",
    "df.head()"
   ]
  },
  {
   "cell_type": "code",
   "execution_count": null,
   "metadata": {},
   "outputs": [],
   "source": [
    "# Eliminemos índices con valores pérdidos y repetidos\n",
    "df.dropna(inplace=True)\n",
    "df.drop_duplicates(inplace=True)\n",
    "df.describe()"
   ]
  },
  {
   "cell_type": "markdown",
   "metadata": {},
   "source": [
    "<h2> Agrupar por </h2>\n",
    "<p>En estos ejemplos agruparemos por la función <i> groupby </i> que si bien no es una función intuitiva, es útil a la hora de realizar calculos por grupos para nuestros datos</p>\n",
    "\n",
    "<p> Estas manipulaciones son utiles, pues nos permiten interactuar con las bases de datos, para obtener resultados más rápido </p>"
   ]
  },
  {
   "cell_type": "code",
   "execution_count": null,
   "metadata": {},
   "outputs": [],
   "source": [
    "df_by_year = df.groupby('release_year')\n",
    "type(df_by_year)"
   ]
  },
  {
   "cell_type": "code",
   "execution_count": null,
   "metadata": {},
   "outputs": [],
   "source": [
    "# Exploremos el dataframe\n",
    "df_by_year.describe()"
   ]
  },
  {
   "cell_type": "code",
   "execution_count": null,
   "metadata": {},
   "outputs": [],
   "source": [
    "# Escojamos un conjunto\n",
    "list(df_by_year)[10]"
   ]
  },
  {
   "cell_type": "code",
   "execution_count": null,
   "metadata": {},
   "outputs": [],
   "source": [
    "# Descriptivas básicas por grupos\n",
    "df_by_year.describe().head()"
   ]
  },
  {
   "cell_type": "code",
   "execution_count": null,
   "metadata": {},
   "outputs": [],
   "source": [
    "# Calcular una función por grupos\n",
    "df_med_by_year = df_by_year.mean()\n",
    "df_med_by_year.head()"
   ]
  },
  {
   "cell_type": "code",
   "execution_count": null,
   "metadata": {},
   "outputs": [],
   "source": [
    "# Miremos la indexación del grupo\n",
    "print(df_med_by_year.index)"
   ]
  },
  {
   "cell_type": "code",
   "execution_count": null,
   "metadata": {},
   "outputs": [],
   "source": [
    "df2 = df.groupby('release_year')\n",
    "print(df2.first())\n",
    "print(df2.get_group(2017))"
   ]
  },
  {
   "cell_type": "code",
   "execution_count": null,
   "metadata": {},
   "outputs": [],
   "source": [
    "# Si queremos agrupar por dos variables en particular\n",
    "df2 = df.groupby(['release_year','rating']).user_rating_score.sum()\n",
    "pd.DataFrame(df2)"
   ]
  },
  {
   "cell_type": "markdown",
   "metadata": {},
   "source": [
    "<h2> Split columnas </h2>\n",
    "<p> En muchos casos podemos tener múltiples variable contenida/concatenada en una sola columna, para estas situaciones, debemos separar esa columna, manteniendo la estructura de la tabla </p>"
   ]
  },
  {
   "cell_type": "code",
   "execution_count": null,
   "metadata": {},
   "outputs": [],
   "source": [
    "ndf = df[\"group\"].str.split(\":\", n = 1, expand = True) \n",
    "ndf"
   ]
  },
  {
   "cell_type": "code",
   "execution_count": null,
   "metadata": {},
   "outputs": [],
   "source": [
    "# Agregamos ambas columnas\n",
    "df[\"Rating.Description\"]= ndf[0] \n",
    "df[\"year\"]= ndf[1] \n",
    "df.head()"
   ]
  },
  {
   "cell_type": "code",
   "execution_count": null,
   "metadata": {},
   "outputs": [],
   "source": [
    "# Eliminemos las columnas sobrantes\n",
    "df.drop(columns =[\"ratingdescription\",'release_year'], inplace = True) \n",
    "df.head()"
   ]
  },
  {
   "cell_type": "markdown",
   "metadata": {},
   "source": [
    "<h2> Reshape </h2>\n",
    "<p> Hay ocasiones que la información no se encuentra en la forma en que la necesitamos, por lo cual, es necesario transponer la tabla, para el caso de un dataframe en Python lo podemos realizar de dos maneras:</p>\n",
    "<ul>\n",
    "    <li>stack()</li>\n",
    "    <li>melt()</li>\n",
    "</ul>"
   ]
  },
  {
   "cell_type": "code",
   "execution_count": null,
   "metadata": {},
   "outputs": [],
   "source": [
    "df = pd.read_csv('jugadores_nba.csv',sep=\";\")\n",
    "df.dropna(inplace=True)\n",
    "df.drop_duplicates(inplace=True)\n",
    "df.head()"
   ]
  },
  {
   "cell_type": "code",
   "execution_count": null,
   "metadata": {},
   "outputs": [],
   "source": [
    "# Método stack\n",
    "df_stacked = df.stack()\n",
    "print(type(df_stacked),'\\n\\n')\n",
    "df_stacked.head(18)"
   ]
  },
  {
   "cell_type": "code",
   "execution_count": null,
   "metadata": {},
   "outputs": [],
   "source": [
    "# Retornemos a la tabla\n",
    "df_unstacked = df_stacked.unstack() \n",
    "print(df_unstacked.head(10))"
   ]
  },
  {
   "cell_type": "code",
   "execution_count": null,
   "metadata": {},
   "outputs": [],
   "source": [
    "df_melt = df.melt(id_vars =['Name', 'Team'])  \n",
    "print(df_melt.head(10),\"\\n\\n\")\n",
    "print(df[['Name', 'Team']].head(10)) "
   ]
  },
  {
   "cell_type": "markdown",
   "metadata": {},
   "source": [
    "<h2> Subset </h2>\n",
    "<p> En algunos casos, para efectuar consultas más rápidas es necesario seleccionar un subconjuto de datos que me permita:</p>\n",
    "<ul>\n",
    "    <li> Visualizar con mayor precisión un subconjunto de la población<li>\n",
    "    <li> Consultar un conjunto más pequeño de los datos</li>\n",
    " </ul>"
   ]
  },
  {
   "cell_type": "code",
   "execution_count": null,
   "metadata": {},
   "outputs": [],
   "source": [
    "gdf = df[df.Team == 'Boston Celtics' ]\n",
    "gdf"
   ]
  },
  {
   "cell_type": "code",
   "execution_count": null,
   "metadata": {},
   "outputs": [],
   "source": [
    "pdf = df[df.Team.isin(['Boston Celtics']) & df.Position.isin(['PG'])]\n",
    "pdf"
   ]
  },
  {
   "cell_type": "code",
   "execution_count": null,
   "metadata": {},
   "outputs": [],
   "source": [
    "edf = df[df.College.isin(['Texas', 'Duke'])]\n",
    "edf"
   ]
  }
 ],
 "metadata": {
  "kernelspec": {
   "display_name": "Python 3",
   "language": "python",
   "name": "python3"
  },
  "language_info": {
   "codemirror_mode": {
    "name": "ipython",
    "version": 3
   },
   "file_extension": ".py",
   "mimetype": "text/x-python",
   "name": "python",
   "nbconvert_exporter": "python",
   "pygments_lexer": "ipython3",
   "version": "3.7.4"
  }
 },
 "nbformat": 4,
 "nbformat_minor": 2
}
