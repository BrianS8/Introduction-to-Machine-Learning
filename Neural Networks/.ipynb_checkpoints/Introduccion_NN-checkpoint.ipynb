{
 "cells": [
  {
   "cell_type": "markdown",
   "metadata": {},
   "source": [
    "# How do I predict the fair market prices of used cars?"
   ]
  },
  {
   "cell_type": "markdown",
   "metadata": {},
   "source": [
    "## Introduction (5 mts)\n",
    "\n",
    "**Contexto empresarial** Hay muchas compañías que venden autos usados (reacondicionados) en todo Estados Unidos. A medida que los automóviles se deprecian en valor a medida que envejecen, esta es una industria extremadamente competitiva, y tienen que tasar el automóvil correctamente para ganar negocios. Usted es un científico de datos encargado de construir un modelo predictivo para los precios de las ventas de automóviles usados en todo el país. Ya hemos visto algunos métodos que serán útiles para este propósito, como una regresión lineal. En este caso, veremos otro enfoque para este problema, llamado red neuronal. Las redes neuronales son el componente básico de los algoritmos de aprendizaje profundo.\n",
    "\n",
    "**Problema de negocios** Su tarea es predecir el precio justo de mercado de un automóvil usado dados sus atributos.\n",
    "**Contexto analítico** El conjunto de datos proporcionado sobre automóviles usados fue eliminado de Craigslist. Ya hemos limpiado previamente el conjunto de datos, eliminando algunos valores atípicos que son irrelevantes, reduciendo las características a columnas relevantes y estandarizando los datos faltantes que pueden causar problemas para nuestro análisis.\n",
    "El caso procederá de la siguiente manera: (1) construiremos un modelo predictivo usando regresión lineal; (2) discutir los desafíos de la ingeniería de características para implementar la regresión en contextos del mundo real; (3) considerar las redes neuronales como una alternativa a la ingeniería de características explícitas; y finalmente (4) construir una red neuronal para resolver este problema."
   ]
  },
  {
   "cell_type": "markdown",
   "metadata": {},
   "source": [
    "## Reading in the data (5 mts)"
   ]
  },
  {
   "cell_type": "code",
   "execution_count": 3,
   "metadata": {},
   "outputs": [],
   "source": [
    "import statsmodels.formula.api as sm\n",
    "import numpy as np\n",
    "import pandas as pd\n",
    "import matplotlib.pyplot as plt\n",
    "import seaborn as sns\n",
    "\n",
    "from sklearn.preprocessing import Imputer\n",
    "from sklearn.metrics import mean_squared_error as mse"
   ]
  },
  {
   "cell_type": "code",
   "execution_count": 4,
   "metadata": {},
   "outputs": [],
   "source": [
    "df = pd.read_csv('used_cars_clean.csv')"
   ]
  },
  {
   "cell_type": "code",
   "execution_count": 5,
   "metadata": {},
   "outputs": [
    {
     "name": "stdout",
     "output_type": "stream",
     "text": [
      "Index(['city', 'year', 'manufacturer', 'condition', 'cylinders', 'fuel',\n",
      "       'odometer', 'title_status', 'transmission', 'drive', 'size', 'type',\n",
      "       'paint_color', 'desc', 'price'],\n",
      "      dtype='object')\n"
     ]
    },
    {
     "data": {
      "text/html": [
       "<div>\n",
       "<style scoped>\n",
       "    .dataframe tbody tr th:only-of-type {\n",
       "        vertical-align: middle;\n",
       "    }\n",
       "\n",
       "    .dataframe tbody tr th {\n",
       "        vertical-align: top;\n",
       "    }\n",
       "\n",
       "    .dataframe thead th {\n",
       "        text-align: right;\n",
       "    }\n",
       "</style>\n",
       "<table border=\"1\" class=\"dataframe\">\n",
       "  <thead>\n",
       "    <tr style=\"text-align: right;\">\n",
       "      <th></th>\n",
       "      <th>city</th>\n",
       "      <th>year</th>\n",
       "      <th>manufacturer</th>\n",
       "      <th>condition</th>\n",
       "      <th>cylinders</th>\n",
       "      <th>fuel</th>\n",
       "      <th>odometer</th>\n",
       "      <th>title_status</th>\n",
       "      <th>transmission</th>\n",
       "      <th>drive</th>\n",
       "      <th>size</th>\n",
       "      <th>type</th>\n",
       "      <th>paint_color</th>\n",
       "      <th>desc</th>\n",
       "      <th>price</th>\n",
       "    </tr>\n",
       "  </thead>\n",
       "  <tbody>\n",
       "    <tr>\n",
       "      <td>0</td>\n",
       "      <td>abilene, TX</td>\n",
       "      <td>2009.0</td>\n",
       "      <td>chevrolet</td>\n",
       "      <td>good</td>\n",
       "      <td>8 cylinders</td>\n",
       "      <td>gas</td>\n",
       "      <td>217743.0</td>\n",
       "      <td>clean</td>\n",
       "      <td>automatic</td>\n",
       "      <td>rwd</td>\n",
       "      <td>full-size</td>\n",
       "      <td>SUV</td>\n",
       "      <td>white</td>\n",
       "      <td>2WD 1/2 ton\\nLeather Captains Chairs\\nIn good ...</td>\n",
       "      <td>9000</td>\n",
       "    </tr>\n",
       "    <tr>\n",
       "      <td>1</td>\n",
       "      <td>abilene, TX</td>\n",
       "      <td>2002.0</td>\n",
       "      <td>gmc</td>\n",
       "      <td>good</td>\n",
       "      <td>8 cylinders</td>\n",
       "      <td>gas</td>\n",
       "      <td>195000.0</td>\n",
       "      <td>clean</td>\n",
       "      <td>automatic</td>\n",
       "      <td>4wd</td>\n",
       "      <td>NaN</td>\n",
       "      <td>pickup</td>\n",
       "      <td>white</td>\n",
       "      <td>2002 GMC Sierra Extended Cab Truck For Sale! R...</td>\n",
       "      <td>6000</td>\n",
       "    </tr>\n",
       "    <tr>\n",
       "      <td>2</td>\n",
       "      <td>abilene, TX</td>\n",
       "      <td>2007.0</td>\n",
       "      <td>pontiac</td>\n",
       "      <td>excellent</td>\n",
       "      <td>4 cylinders</td>\n",
       "      <td>gas</td>\n",
       "      <td>NaN</td>\n",
       "      <td>clean</td>\n",
       "      <td>automatic</td>\n",
       "      <td>fwd</td>\n",
       "      <td>compact</td>\n",
       "      <td>convertible</td>\n",
       "      <td>red</td>\n",
       "      <td>34,965 original miles excellent condition.\\n\\n...</td>\n",
       "      <td>7000</td>\n",
       "    </tr>\n",
       "    <tr>\n",
       "      <td>3</td>\n",
       "      <td>abilene, TX</td>\n",
       "      <td>2012.0</td>\n",
       "      <td>chevrolet</td>\n",
       "      <td>excellent</td>\n",
       "      <td>8 cylinders</td>\n",
       "      <td>diesel</td>\n",
       "      <td>178000.0</td>\n",
       "      <td>clean</td>\n",
       "      <td>automatic</td>\n",
       "      <td>4wd</td>\n",
       "      <td>full-size</td>\n",
       "      <td>pickup</td>\n",
       "      <td>silver</td>\n",
       "      <td>2012 Chevrolet 3500 178k miles, runs and drive...</td>\n",
       "      <td>37000</td>\n",
       "    </tr>\n",
       "    <tr>\n",
       "      <td>4</td>\n",
       "      <td>abilene, TX</td>\n",
       "      <td>2003.0</td>\n",
       "      <td>NaN</td>\n",
       "      <td>fair</td>\n",
       "      <td>8 cylinders</td>\n",
       "      <td>gas</td>\n",
       "      <td>269000.0</td>\n",
       "      <td>clean</td>\n",
       "      <td>automatic</td>\n",
       "      <td>4wd</td>\n",
       "      <td>NaN</td>\n",
       "      <td>pickup</td>\n",
       "      <td>silver</td>\n",
       "      <td>Silver 2003 F150 Triton v8-plugs have been cha...</td>\n",
       "      <td>3700</td>\n",
       "    </tr>\n",
       "  </tbody>\n",
       "</table>\n",
       "</div>"
      ],
      "text/plain": [
       "          city    year manufacturer  condition    cylinders    fuel  odometer  \\\n",
       "0  abilene, TX  2009.0    chevrolet       good  8 cylinders     gas  217743.0   \n",
       "1  abilene, TX  2002.0          gmc       good  8 cylinders     gas  195000.0   \n",
       "2  abilene, TX  2007.0      pontiac  excellent  4 cylinders     gas       NaN   \n",
       "3  abilene, TX  2012.0    chevrolet  excellent  8 cylinders  diesel  178000.0   \n",
       "4  abilene, TX  2003.0          NaN       fair  8 cylinders     gas  269000.0   \n",
       "\n",
       "  title_status transmission drive       size         type paint_color  \\\n",
       "0        clean    automatic   rwd  full-size          SUV       white   \n",
       "1        clean    automatic   4wd        NaN       pickup       white   \n",
       "2        clean    automatic   fwd    compact  convertible         red   \n",
       "3        clean    automatic   4wd  full-size       pickup      silver   \n",
       "4        clean    automatic   4wd        NaN       pickup      silver   \n",
       "\n",
       "                                                desc  price  \n",
       "0  2WD 1/2 ton\\nLeather Captains Chairs\\nIn good ...   9000  \n",
       "1  2002 GMC Sierra Extended Cab Truck For Sale! R...   6000  \n",
       "2  34,965 original miles excellent condition.\\n\\n...   7000  \n",
       "3  2012 Chevrolet 3500 178k miles, runs and drive...  37000  \n",
       "4  Silver 2003 F150 Triton v8-plugs have been cha...   3700  "
      ]
     },
     "execution_count": 5,
     "metadata": {},
     "output_type": "execute_result"
    }
   ],
   "source": [
    "print(df.columns)\n",
    "df.head()"
   ]
  },
  {
   "cell_type": "code",
   "execution_count": 6,
   "metadata": {},
   "outputs": [
    {
     "data": {
      "text/plain": [
       "(435653, 15)"
      ]
     },
     "execution_count": 6,
     "metadata": {},
     "output_type": "execute_result"
    }
   ],
   "source": [
    "df.shape"
   ]
  },
  {
   "cell_type": "code",
   "execution_count": 7,
   "metadata": {},
   "outputs": [
    {
     "data": {
      "text/plain": [
       "automatic    386150\n",
       "manual        33474\n",
       "other         11731\n",
       "Name: transmission, dtype: int64"
      ]
     },
     "execution_count": 7,
     "metadata": {},
     "output_type": "execute_result"
    }
   ],
   "source": [
    "df.transmission.value_counts()"
   ]
  },
  {
   "cell_type": "markdown",
   "metadata": {},
   "source": [
    "## Linear regression and feature engineering (35 mts)"
   ]
  },
  {
   "cell_type": "markdown",
   "metadata": {},
   "source": [
    "A natural first step to building a model is to consider different variables that impact the price of a used car. For example, let's take a look at the following graph, which gives boxplots of price for each condition category:"
   ]
  },
  {
   "cell_type": "code",
   "execution_count": 8,
   "metadata": {},
   "outputs": [
    {
     "data": {
      "image/png": "[encoded data removed]",
      "text/plain": [
       "<Figure size 432x288 with 1 Axes>"
      ]
     },
     "metadata": {
      "needs_background": "light"
     },
     "output_type": "display_data"
    }
   ],
   "source": [
    "ax = sns.boxplot(x='condition', y='price', data=df, order=['salvage', 'fair', 'good', 'excellent', 'like new', 'new'])"
   ]
  },
  {
   "cell_type": "markdown",
   "metadata": {},
   "source": [
    "Unsurprisingly, we see that price increases as the condition of the car improves from `salvage` to `new`. Let's build a linear model using the different category labels within this feature:"
   ]
  },
  {
   "cell_type": "code",
   "execution_count": 9,
   "metadata": {},
   "outputs": [],
   "source": [
    "# Clean condition\n",
    "df = pd.concat([df, pd.get_dummies(df['condition'])], axis=1)\n",
    "np.random.seed(0)\n",
    "mask = np.random.randn(len(df)) < 0.75\n",
    "df_train = df[mask]\n",
    "df_test = df[~mask]"
   ]
  },
  {
   "cell_type": "code",
   "execution_count": 10,
   "metadata": {},
   "outputs": [
    {
     "name": "stdout",
     "output_type": "stream",
     "text": [
      "                            OLS Regression Results                            \n",
      "==============================================================================\n",
      "Dep. Variable:                  price   R-squared:                       0.066\n",
      "Model:                            OLS   Adj. R-squared:                  0.066\n",
      "Method:                 Least Squares   F-statistic:                     3958.\n",
      "Date:                Sat, 30 Nov 2019   Prob (F-statistic):               0.00\n",
      "Time:                        07:50:54   Log-Likelihood:            -3.5809e+06\n",
      "No. Observations:              336778   AIC:                         7.162e+06\n",
      "Df Residuals:                  336771   BIC:                         7.162e+06\n",
      "Df Model:                           6                                         \n",
      "Covariance Type:            nonrobust                                         \n",
      "=================================================================================\n",
      "                    coef    std err          t      P>|t|      [0.025      0.975]\n",
      "---------------------------------------------------------------------------------\n",
      "Intercept      1.481e+04     28.417    521.148      0.000    1.48e+04    1.49e+04\n",
      "salvage       -1.208e+04    397.125    -30.429      0.000   -1.29e+04   -1.13e+04\n",
      "fair          -1.201e+04    107.577   -111.640      0.000   -1.22e+04   -1.18e+04\n",
      "good          -5267.6879     45.673   -115.335      0.000   -5357.205   -5178.171\n",
      "excellent     -3376.5298     42.447    -79.547      0.000   -3459.724   -3293.335\n",
      "Q(\"like new\") -1238.6643     74.584    -16.608      0.000   -1384.847   -1092.482\n",
      "new            -387.0998    367.579     -1.053      0.292   -1107.544     333.344\n",
      "==============================================================================\n",
      "Omnibus:                    43002.221   Durbin-Watson:                   1.514\n",
      "Prob(Omnibus):                  0.000   Jarque-Bera (JB):            62357.858\n",
      "Skew:                           0.971   Prob(JB):                         0.00\n",
      "Kurtosis:                       3.820   Cond. No.                         24.8\n",
      "==============================================================================\n",
      "\n",
      "Warnings:\n",
      "[1] Standard Errors assume that the covariance matrix of the errors is correctly specified.\n"
     ]
    }
   ],
   "source": [
    "model1 = 'price~salvage + fair + good + excellent + Q(\"like new\") + new'\n",
    "lml = sm.ols(formula=model1, data=df_train).fit()\n",
    "print(lml.summary())"
   ]
  },
  {
   "cell_type": "code",
   "execution_count": 11,
   "metadata": {},
   "outputs": [
    {
     "data": {
      "text/plain": [
       "101412127.78212239"
      ]
     },
     "execution_count": 11,
     "metadata": {},
     "output_type": "execute_result"
    }
   ],
   "source": [
    "pred = lml.predict(df_test[['salvage', 'fair', 'good', 'excellent', 'like new', 'new']])\n",
    "mse(pred, df_test['price'])"
   ]
  },
  {
   "cell_type": "markdown",
   "metadata": {},
   "source": [
    "### Exercise 1: (15 mts)\n",
    "\n",
    "Perform an exploratory analysis of the dataset to find other features that may be correlated with price. Use these features to create a linear model regressing price against those features. How is the model-fit? Why do you think that is?"
   ]
  },
  {
   "cell_type": "markdown",
   "metadata": {},
   "source": [
    "**Answer:**"
   ]
  },
  {
   "cell_type": "code",
   "execution_count": 13,
   "metadata": {},
   "outputs": [
    {
     "data": {
      "image/png": "[encoded data removed]",
      "text/plain": [
       "<Figure size 432x288 with 1 Axes>"
      ]
     },
     "metadata": {
      "needs_background": "light"
     },
     "output_type": "display_data"
    },
    {
     "data": {
      "image/png": "[encoded data removed]",
      "text/plain": [
       "<Figure size 432x288 with 1 Axes>"
      ]
     },
     "metadata": {
      "needs_background": "light"
     },
     "output_type": "display_data"
    },
    {
     "data": {
      "image/png": "[encoded data removed]",
      "text/plain": [
       "<Figure size 432x288 with 1 Axes>"
      ]
     },
     "metadata": {
      "needs_background": "light"
     },
     "output_type": "display_data"
    }
   ],
   "source": [
    "### Write code here\n",
    "for col in ['title_status','transmission','drive']:\n",
    "    sns.boxplot(x=col, y ='price', data=df)\n",
    "    plt.show()\n",
    "    df = pd.concat([df, pd.get_dummies(df[col])], axis=1)"
   ]
  },
  {
   "cell_type": "code",
   "execution_count": 14,
   "metadata": {},
   "outputs": [],
   "source": [
    "for col in ['title_status','transmission','drive']:\n",
    "    df_train = pd.concat([df_train, pd.get_dummies(df_train[col])], axis=1)\n",
    "    df_test = pd.concat([df_test, pd.get_dummies(df_test[col])], axis=1)"
   ]
  },
  {
   "cell_type": "code",
   "execution_count": 17,
   "metadata": {},
   "outputs": [
    {
     "name": "stdout",
     "output_type": "stream",
     "text": [
      "                            OLS Regression Results                            \n",
      "==============================================================================\n",
      "Dep. Variable:                  price   R-squared:                       0.007\n",
      "Model:                            OLS   Adj. R-squared:                  0.007\n",
      "Method:                 Least Squares   F-statistic:                     337.3\n",
      "Date:                Sat, 30 Nov 2019   Prob (F-statistic):               0.00\n",
      "Time:                        07:56:07   Log-Likelihood:            -3.5912e+06\n",
      "No. Observations:              336778   AIC:                         7.182e+06\n",
      "Df Residuals:                  336770   BIC:                         7.183e+06\n",
      "Df Model:                           7                                         \n",
      "Covariance Type:            nonrobust                                         \n",
      "===================================================================================\n",
      "                      coef    std err          t      P>|t|      [0.025      0.975]\n",
      "-----------------------------------------------------------------------------------\n",
      "Intercept        1.634e+04    211.981     77.077      0.000    1.59e+04    1.68e+04\n",
      "Q(\"parts only\") -1.239e+04   1103.201    -11.234      0.000   -1.46e+04   -1.02e+04\n",
      "missing         -9704.9651    509.055    -19.065      0.000   -1.07e+04   -8707.232\n",
      "salvage[0]      -7658.6264    416.059    -18.408      0.000   -8474.090   -6843.163\n",
      "salvage[1]      -7346.6684    279.917    -26.246      0.000   -7895.297   -6798.040\n",
      "rebuilt         -5698.0997    248.494    -22.931      0.000   -6185.140   -5211.060\n",
      "clean           -4204.2683    212.765    -19.760      0.000   -4621.282   -3787.255\n",
      "lien             1522.7858    291.413      5.226      0.000     951.624    2093.947\n",
      "==============================================================================\n",
      "Omnibus:                    47788.715   Durbin-Watson:                   1.508\n",
      "Prob(Omnibus):                  0.000   Jarque-Bera (JB):            71114.242\n",
      "Skew:                           1.060   Prob(JB):                         0.00\n",
      "Kurtosis:                       3.758   Cond. No.                         86.5\n",
      "==============================================================================\n",
      "\n",
      "Warnings:\n",
      "[1] Standard Errors assume that the covariance matrix of the errors is correctly specified.\n"
     ]
    }
   ],
   "source": [
    "model2 = 'price~Q(\"parts only\") + missing + salvage +  rebuilt + clean + lien'\n",
    "lml = sm.ols(formula=model2,data=df_train).fit()\n",
    "print(lml.summary())"
   ]
  },
  {
   "cell_type": "code",
   "execution_count": 18,
   "metadata": {},
   "outputs": [
    {
     "data": {
      "text/plain": [
       "108044577.24286044"
      ]
     },
     "execution_count": 18,
     "metadata": {},
     "output_type": "execute_result"
    }
   ],
   "source": [
    "pred = lml.predict(df_test[[\"parts only\",\"missing\",\"salvage\",\"rebuilt\",\"clean\",\"lien\"]])\n",
    "mse(pred, df_test['price'])"
   ]
  },
  {
   "cell_type": "markdown",
   "metadata": {},
   "source": [
    "### Exercise 2: (5 mts)\n",
    "\n",
    "Write code to create dummy variables for each categorical value in this dataframe, and create a new dataframe with each categorical column turned into either numerical data or a set of dummy columns."
   ]
  },
  {
   "cell_type": "markdown",
   "metadata": {},
   "source": [
    "**Answer:**"
   ]
  },
  {
   "cell_type": "code",
   "execution_count": 19,
   "metadata": {},
   "outputs": [
    {
     "data": {
      "text/html": [
       "<div>\n",
       "<style scoped>\n",
       "    .dataframe tbody tr th:only-of-type {\n",
       "        vertical-align: middle;\n",
       "    }\n",
       "\n",
       "    .dataframe tbody tr th {\n",
       "        vertical-align: top;\n",
       "    }\n",
       "\n",
       "    .dataframe thead th {\n",
       "        text-align: right;\n",
       "    }\n",
       "</style>\n",
       "<table border=\"1\" class=\"dataframe\">\n",
       "  <thead>\n",
       "    <tr style=\"text-align: right;\">\n",
       "      <th></th>\n",
       "      <th>city</th>\n",
       "      <th>year</th>\n",
       "      <th>manufacturer</th>\n",
       "      <th>condition</th>\n",
       "      <th>cylinders</th>\n",
       "      <th>fuel</th>\n",
       "      <th>odometer</th>\n",
       "      <th>title_status</th>\n",
       "      <th>transmission</th>\n",
       "      <th>drive</th>\n",
       "      <th>...</th>\n",
       "      <th>brown</th>\n",
       "      <th>custom</th>\n",
       "      <th>green</th>\n",
       "      <th>grey</th>\n",
       "      <th>orange</th>\n",
       "      <th>purple</th>\n",
       "      <th>red</th>\n",
       "      <th>silver</th>\n",
       "      <th>white</th>\n",
       "      <th>yellow</th>\n",
       "    </tr>\n",
       "  </thead>\n",
       "  <tbody>\n",
       "    <tr>\n",
       "      <td>0</td>\n",
       "      <td>abilene, TX</td>\n",
       "      <td>2009.0</td>\n",
       "      <td>chevrolet</td>\n",
       "      <td>good</td>\n",
       "      <td>8 cylinders</td>\n",
       "      <td>gas</td>\n",
       "      <td>217743.0</td>\n",
       "      <td>clean</td>\n",
       "      <td>automatic</td>\n",
       "      <td>rwd</td>\n",
       "      <td>...</td>\n",
       "      <td>0</td>\n",
       "      <td>0</td>\n",
       "      <td>0</td>\n",
       "      <td>0</td>\n",
       "      <td>0</td>\n",
       "      <td>0</td>\n",
       "      <td>0</td>\n",
       "      <td>0</td>\n",
       "      <td>1</td>\n",
       "      <td>0</td>\n",
       "    </tr>\n",
       "    <tr>\n",
       "      <td>1</td>\n",
       "      <td>abilene, TX</td>\n",
       "      <td>2002.0</td>\n",
       "      <td>gmc</td>\n",
       "      <td>good</td>\n",
       "      <td>8 cylinders</td>\n",
       "      <td>gas</td>\n",
       "      <td>195000.0</td>\n",
       "      <td>clean</td>\n",
       "      <td>automatic</td>\n",
       "      <td>4wd</td>\n",
       "      <td>...</td>\n",
       "      <td>0</td>\n",
       "      <td>0</td>\n",
       "      <td>0</td>\n",
       "      <td>0</td>\n",
       "      <td>0</td>\n",
       "      <td>0</td>\n",
       "      <td>0</td>\n",
       "      <td>0</td>\n",
       "      <td>1</td>\n",
       "      <td>0</td>\n",
       "    </tr>\n",
       "    <tr>\n",
       "      <td>2</td>\n",
       "      <td>abilene, TX</td>\n",
       "      <td>2007.0</td>\n",
       "      <td>pontiac</td>\n",
       "      <td>excellent</td>\n",
       "      <td>4 cylinders</td>\n",
       "      <td>gas</td>\n",
       "      <td>NaN</td>\n",
       "      <td>clean</td>\n",
       "      <td>automatic</td>\n",
       "      <td>fwd</td>\n",
       "      <td>...</td>\n",
       "      <td>0</td>\n",
       "      <td>0</td>\n",
       "      <td>0</td>\n",
       "      <td>0</td>\n",
       "      <td>0</td>\n",
       "      <td>0</td>\n",
       "      <td>1</td>\n",
       "      <td>0</td>\n",
       "      <td>0</td>\n",
       "      <td>0</td>\n",
       "    </tr>\n",
       "    <tr>\n",
       "      <td>3</td>\n",
       "      <td>abilene, TX</td>\n",
       "      <td>2012.0</td>\n",
       "      <td>chevrolet</td>\n",
       "      <td>excellent</td>\n",
       "      <td>8 cylinders</td>\n",
       "      <td>diesel</td>\n",
       "      <td>178000.0</td>\n",
       "      <td>clean</td>\n",
       "      <td>automatic</td>\n",
       "      <td>4wd</td>\n",
       "      <td>...</td>\n",
       "      <td>0</td>\n",
       "      <td>0</td>\n",
       "      <td>0</td>\n",
       "      <td>0</td>\n",
       "      <td>0</td>\n",
       "      <td>0</td>\n",
       "      <td>0</td>\n",
       "      <td>1</td>\n",
       "      <td>0</td>\n",
       "      <td>0</td>\n",
       "    </tr>\n",
       "    <tr>\n",
       "      <td>4</td>\n",
       "      <td>abilene, TX</td>\n",
       "      <td>2003.0</td>\n",
       "      <td>NaN</td>\n",
       "      <td>fair</td>\n",
       "      <td>8 cylinders</td>\n",
       "      <td>gas</td>\n",
       "      <td>269000.0</td>\n",
       "      <td>clean</td>\n",
       "      <td>automatic</td>\n",
       "      <td>4wd</td>\n",
       "      <td>...</td>\n",
       "      <td>0</td>\n",
       "      <td>0</td>\n",
       "      <td>0</td>\n",
       "      <td>0</td>\n",
       "      <td>0</td>\n",
       "      <td>0</td>\n",
       "      <td>0</td>\n",
       "      <td>1</td>\n",
       "      <td>0</td>\n",
       "      <td>0</td>\n",
       "    </tr>\n",
       "  </tbody>\n",
       "</table>\n",
       "<p>5 rows × 112 columns</p>\n",
       "</div>"
      ],
      "text/plain": [
       "          city    year manufacturer  condition    cylinders    fuel  odometer  \\\n",
       "0  abilene, TX  2009.0    chevrolet       good  8 cylinders     gas  217743.0   \n",
       "1  abilene, TX  2002.0          gmc       good  8 cylinders     gas  195000.0   \n",
       "2  abilene, TX  2007.0      pontiac  excellent  4 cylinders     gas       NaN   \n",
       "3  abilene, TX  2012.0    chevrolet  excellent  8 cylinders  diesel  178000.0   \n",
       "4  abilene, TX  2003.0          NaN       fair  8 cylinders     gas  269000.0   \n",
       "\n",
       "  title_status transmission drive  ... brown custom green grey  orange  \\\n",
       "0        clean    automatic   rwd  ...     0      0     0    0       0   \n",
       "1        clean    automatic   4wd  ...     0      0     0    0       0   \n",
       "2        clean    automatic   fwd  ...     0      0     0    0       0   \n",
       "3        clean    automatic   4wd  ...     0      0     0    0       0   \n",
       "4        clean    automatic   4wd  ...     0      0     0    0       0   \n",
       "\n",
       "   purple  red  silver  white  yellow  \n",
       "0       0    0       0      1       0  \n",
       "1       0    0       0      1       0  \n",
       "2       0    1       0      0       0  \n",
       "3       0    0       1      0       0  \n",
       "4       0    0       1      0       0  \n",
       "\n",
       "[5 rows x 112 columns]"
      ]
     },
     "execution_count": 19,
     "metadata": {},
     "output_type": "execute_result"
    }
   ],
   "source": [
    "### Write code here\n",
    "cols = ['manufacturer', 'fuel', 'size', 'type','paint_color']\n",
    "for col in cols:\n",
    "    df = pd.concat([df, pd.get_dummies(df[col])], axis=1)\n",
    "df.drop('other', axis=1, inplace=True)\n",
    "df.head()"
   ]
  },
  {
   "cell_type": "markdown",
   "metadata": {},
   "source": [
    "____"
   ]
  },
  {
   "cell_type": "markdown",
   "metadata": {},
   "source": [
    "There are already a lot of new columns with a lot of potential for errors! In order to use this categorical data in a linear regression, we need some understanding of how this data can be converted to numbers. This may require significant domain knowledge. With cars, it's straightforward to understand that \"good\" will be more expensive than \"salvage\". However, our intuitions may not be so accurate in other situations.\n",
    "\n",
    "We can try to make some more quick plots to understand how these features impact the price of a used car. Then we could restrict ourselves to only looking at the features that seem to have a major impact:"
   ]
  },
  {
   "cell_type": "code",
   "execution_count": 20,
   "metadata": {},
   "outputs": [
    {
     "data": {
      "text/plain": [
       "<matplotlib.axes._subplots.AxesSubplot at 0x12e174710>"
      ]
     },
     "execution_count": 20,
     "metadata": {},
     "output_type": "execute_result"
    },
    {
     "data": {
      "image/png": "[encoded data removed]",
      "text/plain": [
       "<Figure size 432x288 with 1 Axes>"
      ]
     },
     "metadata": {
      "needs_background": "light"
     },
     "output_type": "display_data"
    }
   ],
   "source": [
    "sns.lineplot(x='year', y='price', data=df)"
   ]
  },
  {
   "cell_type": "code",
   "execution_count": 21,
   "metadata": {},
   "outputs": [
    {
     "data": {
      "text/plain": [
       "(array([ 0,  1,  2,  3,  4,  5,  6,  7,  8,  9, 10, 11, 12, 13, 14, 15, 16,\n",
       "        17, 18, 19, 20, 21, 22, 23, 24, 25, 26, 27, 28, 29, 30, 31, 32, 33,\n",
       "        34, 35, 36, 37, 38, 39, 40, 41]),\n",
       " <a list of 42 Text xticklabel objects>)"
      ]
     },
     "execution_count": 21,
     "metadata": {},
     "output_type": "execute_result"
    },
    {
     "data": {
      "image/png": "[encoded data removed]",
      "text/plain": [
       "<Figure size 432x288 with 1 Axes>"
      ]
     },
     "metadata": {
      "needs_background": "light"
     },
     "output_type": "display_data"
    }
   ],
   "source": [
    "sns.boxplot(x='manufacturer', y='price', data=df)\n",
    "plt.xticks(rotation=90)"
   ]
  },
  {
   "cell_type": "markdown",
   "metadata": {},
   "source": [
    "Without a doubt, these graphs are interesting, and this kind of exploratory data analysis, which we've been doing since the beginning of the training, is incredibly important. For instance, it's surprising that price does not increase linearly with the condition of the car, and it's also notable how noisy the prices are for years before 1980."
   ]
  },
  {
   "cell_type": "markdown",
   "metadata": {},
   "source": [
    "### Exercise 3: (5 mts)\n",
    "\n",
    "Which of the following are difficulties with a traditional feature engineering approach to this problem?\n",
    "\n",
    "I. It is difficult to think of enough relevant features\n",
    "\n",
    "II. Many desired features may not be quantitative\n",
    "\n",
    "III. It is difficult to extract those features from the photos\n",
    "\n",
    "IV. Some features may be too abstract to immediately recognize"
   ]
  },
  {
   "cell_type": "markdown",
   "metadata": {},
   "source": [
    "**Answer:**"
   ]
  },
  {
   "cell_type": "markdown",
   "metadata": {},
   "source": [
    "## A workaround: neural networks (50 mts)"
   ]
  },
  {
   "cell_type": "markdown",
   "metadata": {},
   "source": [
    "One way to avoid the difficulties of explicit feature engineering is by using **neural networks**. In a neural network, the computer automatically optimizes relevant features from the data and uses those features in a model to test the effects of various parameters and tune those parameters to fit the model to the given labels. This is essentially a giant calculus problem, where the computer minimizes the amount by which various functions on the data make incorrect predictions. If you've studied multivariable calculus, you may recognize this solution as requiring the **gradient vector**:\n",
    "\n",
    "<img src=\"neural_net.png\" width=\"300\" height=\"300\" />\n",
    "\n",
    "A more-precise characterization of the functions that a neural network uses is given above. The inner workings of the algorithm take inputs on the left-hand side to provide outputs on the right-hand side by multiplying each layer by the edges between neurons to get the next layer. Then, the algorithm uses multivariable calculus (in a process known as **gradient descent**) to optimize each edge.\n",
    "\n",
    "We can add more hidden layers in the middle to allow the neural network to create more complex functions, like in the following diagram:\n",
    "\n",
    "<img src='deep_net.png' width='300' height='300' />\n",
    "\n",
    "This is then called a **deep neural network**. Modern deep neural networks can have hundreds of layers.\n",
    "\n",
    "This image shows an example of how the nodes in a neural network are calculated:\n",
    "\n",
    "<img src=\"neural_net2.png\" width=\"300\" height=\"300\" />\n",
    "\n",
    "(*Source:* https://medium.com/wwblog/transformation-in-neural-networks-cdf74cbd8da8).\n",
    "\n",
    "Each node is a linear combination of the layer before it. Between each layer, there is an **activation function** (usually the logistic regression function), which allows our network to develop non-linear sensitivities. When there are multiple layers, we can keep adding more linear combinations, which can lead to more complex *non-linear* models. This is the main strength of neural networks over more elementary regressions. One simple non-linear activation function that we can use is the *relu* function, which looks like the following:\n",
    "\n",
    "<img src=\"relu.png\" width=\"300\" height=\"300\" />"
   ]
  },
  {
   "cell_type": "code",
   "execution_count": 22,
   "metadata": {},
   "outputs": [
    {
     "data": {
      "text/html": [
       "<div>\n",
       "<style scoped>\n",
       "    .dataframe tbody tr th:only-of-type {\n",
       "        vertical-align: middle;\n",
       "    }\n",
       "\n",
       "    .dataframe tbody tr th {\n",
       "        vertical-align: top;\n",
       "    }\n",
       "\n",
       "    .dataframe thead th {\n",
       "        text-align: right;\n",
       "    }\n",
       "</style>\n",
       "<table border=\"1\" class=\"dataframe\">\n",
       "  <thead>\n",
       "    <tr style=\"text-align: right;\">\n",
       "      <th></th>\n",
       "      <th>year</th>\n",
       "      <th>price</th>\n",
       "      <th>excellent</th>\n",
       "      <th>fair</th>\n",
       "      <th>good</th>\n",
       "      <th>like new</th>\n",
       "      <th>new</th>\n",
       "      <th>salvage</th>\n",
       "      <th>clean</th>\n",
       "      <th>lien</th>\n",
       "      <th>...</th>\n",
       "      <th>brown</th>\n",
       "      <th>custom</th>\n",
       "      <th>green</th>\n",
       "      <th>grey</th>\n",
       "      <th>orange</th>\n",
       "      <th>purple</th>\n",
       "      <th>red</th>\n",
       "      <th>silver</th>\n",
       "      <th>white</th>\n",
       "      <th>yellow</th>\n",
       "    </tr>\n",
       "  </thead>\n",
       "  <tbody>\n",
       "    <tr>\n",
       "      <td>0</td>\n",
       "      <td>2009.0</td>\n",
       "      <td>9000</td>\n",
       "      <td>0</td>\n",
       "      <td>0</td>\n",
       "      <td>1</td>\n",
       "      <td>0</td>\n",
       "      <td>0</td>\n",
       "      <td>0</td>\n",
       "      <td>1</td>\n",
       "      <td>0</td>\n",
       "      <td>...</td>\n",
       "      <td>0</td>\n",
       "      <td>0</td>\n",
       "      <td>0</td>\n",
       "      <td>0</td>\n",
       "      <td>0</td>\n",
       "      <td>0</td>\n",
       "      <td>0</td>\n",
       "      <td>0</td>\n",
       "      <td>1</td>\n",
       "      <td>0</td>\n",
       "    </tr>\n",
       "    <tr>\n",
       "      <td>1</td>\n",
       "      <td>2002.0</td>\n",
       "      <td>6000</td>\n",
       "      <td>0</td>\n",
       "      <td>0</td>\n",
       "      <td>1</td>\n",
       "      <td>0</td>\n",
       "      <td>0</td>\n",
       "      <td>0</td>\n",
       "      <td>1</td>\n",
       "      <td>0</td>\n",
       "      <td>...</td>\n",
       "      <td>0</td>\n",
       "      <td>0</td>\n",
       "      <td>0</td>\n",
       "      <td>0</td>\n",
       "      <td>0</td>\n",
       "      <td>0</td>\n",
       "      <td>0</td>\n",
       "      <td>0</td>\n",
       "      <td>1</td>\n",
       "      <td>0</td>\n",
       "    </tr>\n",
       "    <tr>\n",
       "      <td>2</td>\n",
       "      <td>2007.0</td>\n",
       "      <td>7000</td>\n",
       "      <td>1</td>\n",
       "      <td>0</td>\n",
       "      <td>0</td>\n",
       "      <td>0</td>\n",
       "      <td>0</td>\n",
       "      <td>0</td>\n",
       "      <td>1</td>\n",
       "      <td>0</td>\n",
       "      <td>...</td>\n",
       "      <td>0</td>\n",
       "      <td>0</td>\n",
       "      <td>0</td>\n",
       "      <td>0</td>\n",
       "      <td>0</td>\n",
       "      <td>0</td>\n",
       "      <td>1</td>\n",
       "      <td>0</td>\n",
       "      <td>0</td>\n",
       "      <td>0</td>\n",
       "    </tr>\n",
       "    <tr>\n",
       "      <td>3</td>\n",
       "      <td>2012.0</td>\n",
       "      <td>37000</td>\n",
       "      <td>1</td>\n",
       "      <td>0</td>\n",
       "      <td>0</td>\n",
       "      <td>0</td>\n",
       "      <td>0</td>\n",
       "      <td>0</td>\n",
       "      <td>1</td>\n",
       "      <td>0</td>\n",
       "      <td>...</td>\n",
       "      <td>0</td>\n",
       "      <td>0</td>\n",
       "      <td>0</td>\n",
       "      <td>0</td>\n",
       "      <td>0</td>\n",
       "      <td>0</td>\n",
       "      <td>0</td>\n",
       "      <td>1</td>\n",
       "      <td>0</td>\n",
       "      <td>0</td>\n",
       "    </tr>\n",
       "    <tr>\n",
       "      <td>4</td>\n",
       "      <td>2003.0</td>\n",
       "      <td>3700</td>\n",
       "      <td>0</td>\n",
       "      <td>1</td>\n",
       "      <td>0</td>\n",
       "      <td>0</td>\n",
       "      <td>0</td>\n",
       "      <td>0</td>\n",
       "      <td>1</td>\n",
       "      <td>0</td>\n",
       "      <td>...</td>\n",
       "      <td>0</td>\n",
       "      <td>0</td>\n",
       "      <td>0</td>\n",
       "      <td>0</td>\n",
       "      <td>0</td>\n",
       "      <td>0</td>\n",
       "      <td>0</td>\n",
       "      <td>1</td>\n",
       "      <td>0</td>\n",
       "      <td>0</td>\n",
       "    </tr>\n",
       "  </tbody>\n",
       "</table>\n",
       "<p>5 rows × 99 columns</p>\n",
       "</div>"
      ],
      "text/plain": [
       "     year  price  excellent  fair  good  like new  new  salvage  clean  lien  \\\n",
       "0  2009.0   9000          0     0     1         0    0        0      1     0   \n",
       "1  2002.0   6000          0     0     1         0    0        0      1     0   \n",
       "2  2007.0   7000          1     0     0         0    0        0      1     0   \n",
       "3  2012.0  37000          1     0     0         0    0        0      1     0   \n",
       "4  2003.0   3700          0     1     0         0    0        0      1     0   \n",
       "\n",
       "   ...  brown  custom  green  grey  orange  purple  red  silver  white  yellow  \n",
       "0  ...      0       0      0     0       0       0    0       0      1       0  \n",
       "1  ...      0       0      0     0       0       0    0       0      1       0  \n",
       "2  ...      0       0      0     0       0       0    1       0      0       0  \n",
       "3  ...      0       0      0     0       0       0    0       1      0       0  \n",
       "4  ...      0       0      0     0       0       0    0       1      0       0  \n",
       "\n",
       "[5 rows x 99 columns]"
      ]
     },
     "execution_count": 22,
     "metadata": {},
     "output_type": "execute_result"
    }
   ],
   "source": [
    "df_clean = pd.concat([df['year'], df.iloc[:,14:]], axis=1)#.dropna(inplace=True, axis=0)\n",
    "df_clean.dropna(inplace=True)\n",
    "df_clean.head()"
   ]
  },
  {
   "cell_type": "markdown",
   "metadata": {},
   "source": [
    "Let's split our data into training and testing data so we can properly evaluate how our model does later on:"
   ]
  },
  {
   "cell_type": "code",
   "execution_count": 23,
   "metadata": {},
   "outputs": [
    {
     "name": "stdout",
     "output_type": "stream",
     "text": [
      "Training: 335934\n",
      "Testing: 98608\n",
      "Total: 435653\n"
     ]
    }
   ],
   "source": [
    "np.random.seed(0)\n",
    "mask = np.random.randn(len(df_clean)) < 0.75\n",
    "df_train = df_clean[mask]\n",
    "df_test = df_clean[~mask]\n",
    "\n",
    "print('Training:', len(df_train))\n",
    "print('Testing:', len(df_test))\n",
    "print('Total:', len(df))"
   ]
  },
  {
   "cell_type": "code",
   "execution_count": 24,
   "metadata": {},
   "outputs": [],
   "source": [
    "# Reindex\n",
    "df_train.index = np.arange(len(df_train))\n",
    "df_test.index = np.arange(len(df_test))"
   ]
  },
  {
   "cell_type": "markdown",
   "metadata": {},
   "source": [
    "### Exercise 4: (5 mts)\n",
    "\n",
    "Which of the following is a suitable application for a neural network?\n",
    "\n",
    "A. Classifying images of handwritten numerals\n",
    "\n",
    "B. Analyzing Don Quixote\n",
    "\n",
    "C. Deciding how to caption a photograph\n",
    "\n",
    "D. Sorting an array"
   ]
  },
  {
   "cell_type": "markdown",
   "metadata": {},
   "source": [
    "**Answer:**"
   ]
  },
  {
   "cell_type": "markdown",
   "metadata": {},
   "source": [
    "### A simple first model (5 mts)"
   ]
  },
  {
   "cell_type": "code",
   "execution_count": 37,
   "metadata": {},
   "outputs": [],
   "source": [
    "from tensorflow import keras\n",
    "from tensorflow.keras import layers"
   ]
  },
  {
   "cell_type": "markdown",
   "metadata": {},
   "source": [
    "To make this even more clear, let's consider the following simple toy example with a nonlinearity:"
   ]
  },
  {
   "cell_type": "code",
   "execution_count": 38,
   "metadata": {},
   "outputs": [
    {
     "data": {
      "text/html": [
       "<div>\n",
       "<style scoped>\n",
       "    .dataframe tbody tr th:only-of-type {\n",
       "        vertical-align: middle;\n",
       "    }\n",
       "\n",
       "    .dataframe tbody tr th {\n",
       "        vertical-align: top;\n",
       "    }\n",
       "\n",
       "    .dataframe thead th {\n",
       "        text-align: right;\n",
       "    }\n",
       "</style>\n",
       "<table border=\"1\" class=\"dataframe\">\n",
       "  <thead>\n",
       "    <tr style=\"text-align: right;\">\n",
       "      <th></th>\n",
       "      <th>year</th>\n",
       "      <th>price</th>\n",
       "      <th>toy</th>\n",
       "    </tr>\n",
       "  </thead>\n",
       "  <tbody>\n",
       "    <tr>\n",
       "      <td>0</td>\n",
       "      <td>-0.650935</td>\n",
       "      <td>-0.700488</td>\n",
       "      <td>0.766495</td>\n",
       "    </tr>\n",
       "    <tr>\n",
       "      <td>1</td>\n",
       "      <td>0.430189</td>\n",
       "      <td>0.599313</td>\n",
       "      <td>0.279564</td>\n",
       "    </tr>\n",
       "    <tr>\n",
       "      <td>2</td>\n",
       "      <td>0.921609</td>\n",
       "      <td>2.462827</td>\n",
       "      <td>5.282735</td>\n",
       "    </tr>\n",
       "    <tr>\n",
       "      <td>3</td>\n",
       "      <td>0.626757</td>\n",
       "      <td>1.903773</td>\n",
       "      <td>3.378144</td>\n",
       "    </tr>\n",
       "    <tr>\n",
       "      <td>4</td>\n",
       "      <td>-0.454367</td>\n",
       "      <td>-0.905940</td>\n",
       "      <td>0.914532</td>\n",
       "    </tr>\n",
       "  </tbody>\n",
       "</table>\n",
       "</div>"
      ],
      "text/plain": [
       "       year     price       toy\n",
       "0 -0.650935 -0.700488  0.766495\n",
       "1  0.430189  0.599313  0.279564\n",
       "2  0.921609  2.462827  5.282735\n",
       "3  0.626757  1.903773  3.378144\n",
       "4 -0.454367 -0.905940  0.914532"
      ]
     },
     "execution_count": 38,
     "metadata": {},
     "output_type": "execute_result"
    }
   ],
   "source": [
    "toy = df_train.iloc[:1000].loc[:,['year', 'price']]\n",
    "toy['price'] = (toy['price'] - toy['price'].mean()) / toy['price'].std() # Normalization\n",
    "toy['year'] = (toy['year'] - toy['year'].mean()) / toy['year'].std()\n",
    "\n",
    "toy['toy'] = (toy['price'] ** 2 - toy['year'] ** 3)\n",
    "toy.head()"
   ]
  },
  {
   "cell_type": "markdown",
   "metadata": {},
   "source": [
    "Let's try regressing on this with both a linear model and a simple neural network:"
   ]
  },
  {
   "cell_type": "code",
   "execution_count": 39,
   "metadata": {},
   "outputs": [
    {
     "name": "stdout",
     "output_type": "stream",
     "text": [
      "                            OLS Regression Results                            \n",
      "==============================================================================\n",
      "Dep. Variable:                    toy   R-squared:                       0.646\n",
      "Model:                            OLS   Adj. R-squared:                  0.646\n",
      "Method:                 Least Squares   F-statistic:                     911.4\n",
      "Date:                Sat, 30 Nov 2019   Prob (F-statistic):          8.34e-226\n",
      "Time:                        08:35:05   Log-Likelihood:                -4190.0\n",
      "No. Observations:                1000   AIC:                             8386.\n",
      "Df Residuals:                     997   BIC:                             8401.\n",
      "Df Model:                           2                                         \n",
      "Covariance Type:            nonrobust                                         \n",
      "==============================================================================\n",
      "                 coef    std err          t      P>|t|      [0.025      0.975]\n",
      "------------------------------------------------------------------------------\n",
      "Intercept      4.4639      0.506      8.823      0.000       3.471       5.457\n",
      "year         -23.1585      0.543    -42.623      0.000     -24.225     -22.092\n",
      "price          9.6612      0.543     17.781      0.000       8.595      10.727\n",
      "==============================================================================\n",
      "Omnibus:                     1268.126   Durbin-Watson:                   2.067\n",
      "Prob(Omnibus):                  0.000   Jarque-Bera (JB):           319509.412\n",
      "Skew:                           6.323   Prob(JB):                         0.00\n",
      "Kurtosis:                      89.650   Cond. No.                         1.46\n",
      "==============================================================================\n",
      "\n",
      "Warnings:\n",
      "[1] Standard Errors assume that the covariance matrix of the errors is correctly specified.\n"
     ]
    }
   ],
   "source": [
    "failure_model = 'toy~year + price'\n",
    "lml = sm.ols(formula=failure_model, data=toy).fit()\n",
    "print(lml.summary())"
   ]
  },
  {
   "cell_type": "code",
   "execution_count": 40,
   "metadata": {},
   "outputs": [
    {
     "data": {
      "text/plain": [
       "255.194271671747"
      ]
     },
     "execution_count": 40,
     "metadata": {},
     "output_type": "execute_result"
    }
   ],
   "source": [
    "pred = lml.predict(toy[['year', 'price']])\n",
    "mse(pred, toy['toy'])"
   ]
  },
  {
   "cell_type": "code",
   "execution_count": 41,
   "metadata": {
    "scrolled": true
   },
   "outputs": [
    {
     "name": "stdout",
     "output_type": "stream",
     "text": [
      "WARNING:tensorflow:Falling back from v2 loop because of error: Failed to find data adapter that can handle input: <class 'pandas.core.frame.DataFrame'>, <class 'NoneType'>\n",
      "Train on 800 samples, validate on 200 samples\n",
      "Epoch 1/200\n",
      "800/800 [==============================] - 0s 335us/sample - loss: 700.7701 - mse: 700.7701 - val_loss: 137.4164 - val_mse: 137.4164\n",
      "Epoch 2/200\n",
      "800/800 [==============================] - 0s 206us/sample - loss: 436.2765 - mse: 436.2765 - val_loss: 55.9318 - val_mse: 55.9319\n",
      "Epoch 3/200\n",
      "800/800 [==============================] - 0s 204us/sample - loss: 232.8591 - mse: 232.8591 - val_loss: 40.4619 - val_mse: 40.4619\n",
      "Epoch 4/200\n",
      "800/800 [==============================] - 0s 207us/sample - loss: 165.9921 - mse: 165.9921 - val_loss: 49.5257 - val_mse: 49.5257\n",
      "Epoch 5/200\n",
      "800/800 [==============================] - 0s 206us/sample - loss: 138.1728 - mse: 138.1727 - val_loss: 35.2692 - val_mse: 35.2692\n",
      "Epoch 6/200\n",
      "800/800 [==============================] - 0s 203us/sample - loss: 123.3138 - mse: 123.3138 - val_loss: 44.0164 - val_mse: 44.0164\n",
      "Epoch 7/200\n",
      "800/800 [==============================] - 0s 210us/sample - loss: 104.2267 - mse: 104.2267 - val_loss: 34.4975 - val_mse: 34.4975\n",
      "Epoch 8/200\n",
      "800/800 [==============================] - 0s 206us/sample - loss: 90.2014 - mse: 90.2014 - val_loss: 39.8619 - val_mse: 39.8619\n",
      "Epoch 9/200\n",
      "800/800 [==============================] - 0s 204us/sample - loss: 78.0259 - mse: 78.0259 - val_loss: 33.0775 - val_mse: 33.0775\n",
      "Epoch 10/200\n",
      "800/800 [==============================] - 0s 206us/sample - loss: 65.8719 - mse: 65.8719 - val_loss: 29.2532 - val_mse: 29.2532\n",
      "Epoch 11/200\n",
      "800/800 [==============================] - 0s 206us/sample - loss: 72.2619 - mse: 72.2619 - val_loss: 67.6672 - val_mse: 67.6672\n",
      "Epoch 12/200\n",
      "800/800 [==============================] - 0s 200us/sample - loss: 69.3826 - mse: 69.3826 - val_loss: 38.4477 - val_mse: 38.4477\n",
      "Epoch 13/200\n",
      "800/800 [==============================] - 0s 207us/sample - loss: 47.1900 - mse: 47.1900 - val_loss: 23.5644 - val_mse: 23.5644\n",
      "Epoch 14/200\n",
      "800/800 [==============================] - 0s 198us/sample - loss: 45.2787 - mse: 45.2787 - val_loss: 40.5218 - val_mse: 40.5218\n",
      "Epoch 15/200\n",
      "800/800 [==============================] - 0s 202us/sample - loss: 48.4641 - mse: 48.4641 - val_loss: 23.4334 - val_mse: 23.4334\n",
      "Epoch 16/200\n",
      "800/800 [==============================] - 0s 205us/sample - loss: 34.4074 - mse: 34.4074 - val_loss: 29.9516 - val_mse: 29.9516\n",
      "Epoch 17/200\n",
      "800/800 [==============================] - 0s 200us/sample - loss: 34.0060 - mse: 34.0060 - val_loss: 15.5349 - val_mse: 15.5349\n",
      "Epoch 18/200\n",
      "800/800 [==============================] - 0s 210us/sample - loss: 44.3983 - mse: 44.3983 - val_loss: 24.3240 - val_mse: 24.3240\n",
      "Epoch 19/200\n",
      "800/800 [==============================] - 0s 203us/sample - loss: 39.3411 - mse: 39.3411 - val_loss: 19.5787 - val_mse: 19.5787\n",
      "Epoch 20/200\n",
      "800/800 [==============================] - 0s 201us/sample - loss: 33.0944 - mse: 33.0944 - val_loss: 14.0410 - val_mse: 14.0410\n",
      "Epoch 21/200\n",
      "800/800 [==============================] - 0s 197us/sample - loss: 23.4351 - mse: 23.4351 - val_loss: 15.2377 - val_mse: 15.2376\n",
      "Epoch 22/200\n",
      "800/800 [==============================] - 0s 195us/sample - loss: 24.8947 - mse: 24.8947 - val_loss: 8.4799 - val_mse: 8.4799\n",
      "Epoch 23/200\n",
      "800/800 [==============================] - 0s 196us/sample - loss: 20.9545 - mse: 20.9545 - val_loss: 7.8162 - val_mse: 7.8162\n",
      "Epoch 24/200\n",
      "800/800 [==============================] - 0s 194us/sample - loss: 18.7467 - mse: 18.7467 - val_loss: 7.0247 - val_mse: 7.0247\n",
      "Epoch 25/200\n",
      "800/800 [==============================] - 0s 196us/sample - loss: 28.7021 - mse: 28.7021 - val_loss: 12.6045 - val_mse: 12.6045\n",
      "Epoch 26/200\n",
      "800/800 [==============================] - 0s 197us/sample - loss: 14.8977 - mse: 14.8977 - val_loss: 9.6745 - val_mse: 9.6745\n",
      "Epoch 27/200\n",
      "800/800 [==============================] - 0s 199us/sample - loss: 11.9020 - mse: 11.9020 - val_loss: 16.9233 - val_mse: 16.9233\n",
      "Epoch 28/200\n",
      "800/800 [==============================] - 0s 201us/sample - loss: 12.5388 - mse: 12.5388 - val_loss: 6.9908 - val_mse: 6.9908\n",
      "Epoch 29/200\n",
      "800/800 [==============================] - 0s 200us/sample - loss: 11.3869 - mse: 11.3869 - val_loss: 12.7087 - val_mse: 12.7087\n",
      "Epoch 30/200\n",
      "800/800 [==============================] - 0s 200us/sample - loss: 10.0560 - mse: 10.0560 - val_loss: 7.9306 - val_mse: 7.9306\n",
      "Epoch 31/200\n",
      "800/800 [==============================] - 0s 195us/sample - loss: 15.9601 - mse: 15.9601 - val_loss: 32.0579 - val_mse: 32.0579\n",
      "Epoch 32/200\n",
      "800/800 [==============================] - 0s 197us/sample - loss: 26.6547 - mse: 26.6547 - val_loss: 9.5427 - val_mse: 9.5427\n",
      "Epoch 33/200\n",
      "800/800 [==============================] - 0s 197us/sample - loss: 7.1325 - mse: 7.1325 - val_loss: 4.5926 - val_mse: 4.5926\n",
      "Epoch 34/200\n",
      "800/800 [==============================] - 0s 200us/sample - loss: 5.1451 - mse: 5.1451 - val_loss: 11.8699 - val_mse: 11.8699\n",
      "Epoch 35/200\n",
      "800/800 [==============================] - 0s 188us/sample - loss: 6.7705 - mse: 6.7705 - val_loss: 5.9913 - val_mse: 5.9913\n",
      "Epoch 36/200\n",
      "800/800 [==============================] - 0s 194us/sample - loss: 6.0863 - mse: 6.0863 - val_loss: 5.7998 - val_mse: 5.7998\n",
      "Epoch 37/200\n",
      "800/800 [==============================] - 0s 195us/sample - loss: 5.5193 - mse: 5.5193 - val_loss: 6.5972 - val_mse: 6.5972\n",
      "Epoch 38/200\n",
      "800/800 [==============================] - 0s 190us/sample - loss: 8.3435 - mse: 8.3435 - val_loss: 5.1402 - val_mse: 5.1402\n",
      "Epoch 39/200\n",
      "800/800 [==============================] - ETA: 0s - loss: 15.6083 - mse: 15.608 - 0s 196us/sample - loss: 12.7960 - mse: 12.7960 - val_loss: 4.3693 - val_mse: 4.3693\n",
      "Epoch 40/200\n",
      "800/800 [==============================] - 0s 200us/sample - loss: 5.0535 - mse: 5.0535 - val_loss: 1.2036 - val_mse: 1.2036\n",
      "Epoch 41/200\n",
      "800/800 [==============================] - 0s 206us/sample - loss: 5.3515 - mse: 5.3515 - val_loss: 1.5618 - val_mse: 1.5618\n",
      "Epoch 42/200\n",
      "800/800 [==============================] - 0s 205us/sample - loss: 4.1114 - mse: 4.1114 - val_loss: 1.0500 - val_mse: 1.0500\n",
      "Epoch 43/200\n",
      "800/800 [==============================] - 0s 198us/sample - loss: 4.4552 - mse: 4.4552 - val_loss: 0.7227 - val_mse: 0.7227\n",
      "Epoch 44/200\n",
      "800/800 [==============================] - 0s 199us/sample - loss: 6.8677 - mse: 6.8677 - val_loss: 0.6964 - val_mse: 0.6964\n",
      "Epoch 45/200\n",
      "800/800 [==============================] - 0s 205us/sample - loss: 4.4345 - mse: 4.4345 - val_loss: 4.7899 - val_mse: 4.7899\n",
      "Epoch 46/200\n",
      "800/800 [==============================] - 0s 213us/sample - loss: 5.7221 - mse: 5.7221 - val_loss: 1.9200 - val_mse: 1.9200\n",
      "Epoch 47/200\n",
      "800/800 [==============================] - 0s 212us/sample - loss: 5.7828 - mse: 5.7828 - val_loss: 2.8168 - val_mse: 2.8168\n",
      "Epoch 48/200\n",
      "800/800 [==============================] - 0s 203us/sample - loss: 6.8403 - mse: 6.8403 - val_loss: 3.8144 - val_mse: 3.8144\n",
      "Epoch 49/200\n",
      "800/800 [==============================] - 0s 214us/sample - loss: 9.2378 - mse: 9.2378 - val_loss: 0.2176 - val_mse: 0.2176\n",
      "Epoch 50/200\n",
      "800/800 [==============================] - 0s 202us/sample - loss: 5.9886 - mse: 5.9886 - val_loss: 0.2822 - val_mse: 0.2822\n",
      "Epoch 51/200\n",
      "800/800 [==============================] - 0s 198us/sample - loss: 3.6284 - mse: 3.6284 - val_loss: 0.5966 - val_mse: 0.5966\n",
      "Epoch 52/200\n",
      "800/800 [==============================] - 0s 201us/sample - loss: 5.3539 - mse: 5.3539 - val_loss: 2.7593 - val_mse: 2.7593\n",
      "Epoch 53/200\n",
      "800/800 [==============================] - 0s 203us/sample - loss: 2.4691 - mse: 2.4691 - val_loss: 0.5175 - val_mse: 0.5175\n",
      "Epoch 54/200\n",
      "800/800 [==============================] - 0s 192us/sample - loss: 2.0585 - mse: 2.0585 - val_loss: 0.9425 - val_mse: 0.9425\n",
      "Epoch 55/200\n",
      "800/800 [==============================] - 0s 198us/sample - loss: 2.7887 - mse: 2.7887 - val_loss: 3.1788 - val_mse: 3.1788\n",
      "Epoch 56/200\n",
      "800/800 [==============================] - 0s 195us/sample - loss: 2.3051 - mse: 2.3051 - val_loss: 0.2259 - val_mse: 0.2259\n",
      "Epoch 57/200\n",
      "800/800 [==============================] - 0s 197us/sample - loss: 1.8376 - mse: 1.8376 - val_loss: 1.9005 - val_mse: 1.9005\n",
      "Epoch 58/200\n",
      "800/800 [==============================] - 0s 198us/sample - loss: 5.2705 - mse: 5.2705 - val_loss: 0.2589 - val_mse: 0.2589\n",
      "Epoch 59/200\n",
      "800/800 [==============================] - 0s 192us/sample - loss: 2.1002 - mse: 2.1002 - val_loss: 1.0221 - val_mse: 1.0221\n",
      "Epoch 60/200\n",
      "800/800 [==============================] - 0s 195us/sample - loss: 2.3262 - mse: 2.3262 - val_loss: 0.0948 - val_mse: 0.0948\n",
      "Epoch 61/200\n",
      "800/800 [==============================] - 0s 206us/sample - loss: 1.8641 - mse: 1.8641 - val_loss: 1.0015 - val_mse: 1.0015\n",
      "Epoch 62/200\n",
      "800/800 [==============================] - 0s 200us/sample - loss: 1.4291 - mse: 1.4291 - val_loss: 2.2961 - val_mse: 2.2961\n",
      "Epoch 63/200\n",
      "800/800 [==============================] - 0s 198us/sample - loss: 8.9342 - mse: 8.9342 - val_loss: 4.8261 - val_mse: 4.8261\n",
      "Epoch 64/200\n",
      "800/800 [==============================] - 0s 193us/sample - loss: 19.4085 - mse: 19.4085 - val_loss: 16.3824 - val_mse: 16.3824\n",
      "Epoch 65/200\n",
      "800/800 [==============================] - 0s 194us/sample - loss: 49.7348 - mse: 49.7348 - val_loss: 2.5099 - val_mse: 2.5099\n",
      "Epoch 66/200\n",
      "800/800 [==============================] - 0s 200us/sample - loss: 6.9580 - mse: 6.9580 - val_loss: 1.0865 - val_mse: 1.0865\n",
      "Epoch 67/200\n",
      "800/800 [==============================] - 0s 191us/sample - loss: 2.8525 - mse: 2.8525 - val_loss: 0.4138 - val_mse: 0.4138\n",
      "Epoch 68/200\n",
      "800/800 [==============================] - 0s 198us/sample - loss: 3.5980 - mse: 3.5980 - val_loss: 0.3175 - val_mse: 0.3175\n",
      "Epoch 69/200\n",
      "800/800 [==============================] - 0s 200us/sample - loss: 1.3801 - mse: 1.3801 - val_loss: 0.2903 - val_mse: 0.2903\n",
      "Epoch 70/200\n",
      "800/800 [==============================] - 0s 194us/sample - loss: 0.8937 - mse: 0.8937 - val_loss: 0.1715 - val_mse: 0.1715\n",
      "Epoch 71/200\n",
      "800/800 [==============================] - 0s 194us/sample - loss: 1.4139 - mse: 1.4139 - val_loss: 0.1106 - val_mse: 0.1106\n",
      "Epoch 72/200\n",
      "800/800 [==============================] - 0s 189us/sample - loss: 1.6272 - mse: 1.6272 - val_loss: 0.0347 - val_mse: 0.0347\n",
      "Epoch 73/200\n",
      "800/800 [==============================] - 0s 198us/sample - loss: 1.8938 - mse: 1.8938 - val_loss: 0.0426 - val_mse: 0.0426\n",
      "Epoch 74/200\n",
      "800/800 [==============================] - 0s 213us/sample - loss: 1.3124 - mse: 1.3124 - val_loss: 0.3351 - val_mse: 0.3351\n",
      "Epoch 75/200\n",
      "800/800 [==============================] - 0s 208us/sample - loss: 1.5777 - mse: 1.5777 - val_loss: 0.4431 - val_mse: 0.4431\n",
      "Epoch 76/200\n",
      "800/800 [==============================] - 0s 214us/sample - loss: 1.7803 - mse: 1.7803 - val_loss: 0.0291 - val_mse: 0.0291\n",
      "Epoch 77/200\n",
      "800/800 [==============================] - 0s 211us/sample - loss: 1.4696 - mse: 1.4696 - val_loss: 0.2700 - val_mse: 0.2700\n",
      "Epoch 78/200\n",
      "800/800 [==============================] - 0s 188us/sample - loss: 2.1660 - mse: 2.1660 - val_loss: 0.2432 - val_mse: 0.2432\n",
      "Epoch 79/200\n",
      "800/800 [==============================] - 0s 199us/sample - loss: 1.4506 - mse: 1.4506 - val_loss: 0.1571 - val_mse: 0.1571\n",
      "Epoch 80/200\n",
      "800/800 [==============================] - 0s 204us/sample - loss: 1.1711 - mse: 1.1711 - val_loss: 0.8415 - val_mse: 0.8415\n",
      "Epoch 81/200\n",
      "800/800 [==============================] - 0s 192us/sample - loss: 2.3483 - mse: 2.3483 - val_loss: 2.6348 - val_mse: 2.6348\n",
      "Epoch 82/200\n",
      "800/800 [==============================] - 0s 199us/sample - loss: 3.2284 - mse: 3.2284 - val_loss: 0.1817 - val_mse: 0.1817\n",
      "Epoch 83/200\n",
      "800/800 [==============================] - 0s 200us/sample - loss: 0.6888 - mse: 0.6888 - val_loss: 0.6539 - val_mse: 0.6539\n",
      "Epoch 84/200\n",
      "800/800 [==============================] - 0s 198us/sample - loss: 3.7727 - mse: 3.7727 - val_loss: 0.5651 - val_mse: 0.5651\n",
      "Epoch 85/200\n",
      "800/800 [==============================] - 0s 191us/sample - loss: 3.0068 - mse: 3.0068 - val_loss: 0.2020 - val_mse: 0.2020\n",
      "Epoch 86/200\n",
      "800/800 [==============================] - 0s 192us/sample - loss: 1.2064 - mse: 1.2064 - val_loss: 0.2959 - val_mse: 0.2959\n",
      "Epoch 87/200\n",
      "800/800 [==============================] - 0s 202us/sample - loss: 2.1688 - mse: 2.1688 - val_loss: 0.2555 - val_mse: 0.2555\n",
      "Epoch 88/200\n",
      "800/800 [==============================] - 0s 195us/sample - loss: 3.1985 - mse: 3.1985 - val_loss: 6.3490 - val_mse: 6.3490\n",
      "Epoch 89/200\n",
      "800/800 [==============================] - 0s 197us/sample - loss: 10.4246 - mse: 10.4246 - val_loss: 0.1248 - val_mse: 0.1248\n",
      "Epoch 90/200\n",
      "800/800 [==============================] - 0s 191us/sample - loss: 3.6261 - mse: 3.6260 - val_loss: 0.2307 - val_mse: 0.2307\n",
      "Epoch 91/200\n",
      "800/800 [==============================] - 0s 197us/sample - loss: 1.1529 - mse: 1.1529 - val_loss: 0.0654 - val_mse: 0.0654\n",
      "Epoch 92/200\n",
      "800/800 [==============================] - 0s 197us/sample - loss: 0.7514 - mse: 0.7514 - val_loss: 0.3492 - val_mse: 0.3492\n",
      "Epoch 93/200\n",
      "800/800 [==============================] - 0s 193us/sample - loss: 0.3212 - mse: 0.3212 - val_loss: 0.0502 - val_mse: 0.0502\n",
      "Epoch 94/200\n",
      "800/800 [==============================] - 0s 195us/sample - loss: 0.6346 - mse: 0.6346 - val_loss: 1.6373 - val_mse: 1.6373\n",
      "Epoch 95/200\n",
      "800/800 [==============================] - 0s 195us/sample - loss: 2.8811 - mse: 2.8811 - val_loss: 0.3196 - val_mse: 0.3196\n",
      "Epoch 96/200\n",
      "800/800 [==============================] - 0s 199us/sample - loss: 1.2706 - mse: 1.2706 - val_loss: 0.0940 - val_mse: 0.0940\n",
      "Epoch 97/200\n",
      "800/800 [==============================] - 0s 191us/sample - loss: 2.2572 - mse: 2.2572 - val_loss: 0.1773 - val_mse: 0.1773\n",
      "Epoch 98/200\n",
      "800/800 [==============================] - 0s 189us/sample - loss: 7.3248 - mse: 7.3248 - val_loss: 3.3911 - val_mse: 3.3911\n",
      "Epoch 99/200\n",
      "800/800 [==============================] - 0s 200us/sample - loss: 11.0557 - mse: 11.0557 - val_loss: 1.2869 - val_mse: 1.2869\n",
      "Epoch 100/200\n",
      "800/800 [==============================] - 0s 199us/sample - loss: 3.6366 - mse: 3.6366 - val_loss: 0.0436 - val_mse: 0.0436\n",
      "Epoch 101/200\n",
      "800/800 [==============================] - 0s 193us/sample - loss: 2.8371 - mse: 2.8371 - val_loss: 1.5990 - val_mse: 1.5990\n",
      "Epoch 102/200\n",
      "800/800 [==============================] - 0s 206us/sample - loss: 3.0704 - mse: 3.0704 - val_loss: 2.6338 - val_mse: 2.6338\n",
      "Epoch 103/200\n",
      "800/800 [==============================] - 0s 207us/sample - loss: 7.6670 - mse: 7.6670 - val_loss: 1.1963 - val_mse: 1.1963\n",
      "Epoch 104/200\n",
      "800/800 [==============================] - 0s 196us/sample - loss: 18.8390 - mse: 18.8390 - val_loss: 5.0238 - val_mse: 5.0238\n",
      "Epoch 105/200\n",
      "800/800 [==============================] - 0s 194us/sample - loss: 6.9404 - mse: 6.9404 - val_loss: 0.2253 - val_mse: 0.2253\n",
      "Epoch 106/200\n",
      "800/800 [==============================] - 0s 187us/sample - loss: 0.6683 - mse: 0.6683 - val_loss: 0.0512 - val_mse: 0.0512\n",
      "Epoch 107/200\n",
      "800/800 [==============================] - 0s 192us/sample - loss: 2.2547 - mse: 2.2547 - val_loss: 1.4231 - val_mse: 1.4231\n",
      "Epoch 108/200\n",
      "800/800 [==============================] - 0s 187us/sample - loss: 3.9289 - mse: 3.9289 - val_loss: 0.3698 - val_mse: 0.3698\n",
      "Epoch 109/200\n",
      "800/800 [==============================] - 0s 193us/sample - loss: 1.0576 - mse: 1.0576 - val_loss: 1.8371 - val_mse: 1.8371\n",
      "Epoch 110/200\n",
      "800/800 [==============================] - 0s 191us/sample - loss: 2.9187 - mse: 2.9187 - val_loss: 0.1676 - val_mse: 0.1676\n",
      "Epoch 111/200\n",
      "800/800 [==============================] - 0s 186us/sample - loss: 1.3926 - mse: 1.3926 - val_loss: 1.2341 - val_mse: 1.2341\n",
      "Epoch 112/200\n",
      "800/800 [==============================] - 0s 188us/sample - loss: 0.7593 - mse: 0.7593 - val_loss: 0.1283 - val_mse: 0.1283\n",
      "Epoch 113/200\n",
      "800/800 [==============================] - 0s 185us/sample - loss: 0.6057 - mse: 0.6057 - val_loss: 0.7471 - val_mse: 0.7471\n",
      "Epoch 114/200\n",
      "800/800 [==============================] - 0s 182us/sample - loss: 3.0986 - mse: 3.0986 - val_loss: 2.8331 - val_mse: 2.8331\n",
      "Epoch 115/200\n",
      "800/800 [==============================] - 0s 187us/sample - loss: 3.4068 - mse: 3.4068 - val_loss: 2.0217 - val_mse: 2.0217\n",
      "Epoch 116/200\n"
     ]
    },
    {
     "name": "stdout",
     "output_type": "stream",
     "text": [
      "800/800 [==============================] - 0s 176us/sample - loss: 3.4856 - mse: 3.4856 - val_loss: 0.4595 - val_mse: 0.4595\n",
      "Epoch 117/200\n",
      "800/800 [==============================] - 0s 183us/sample - loss: 1.3445 - mse: 1.3445 - val_loss: 0.3089 - val_mse: 0.3089\n",
      "Epoch 118/200\n",
      "800/800 [==============================] - 0s 183us/sample - loss: 1.1494 - mse: 1.1494 - val_loss: 0.0356 - val_mse: 0.0356\n",
      "Epoch 119/200\n",
      "800/800 [==============================] - 0s 189us/sample - loss: 0.8996 - mse: 0.8996 - val_loss: 1.2701 - val_mse: 1.2701\n",
      "Epoch 120/200\n",
      "800/800 [==============================] - 0s 184us/sample - loss: 2.6050 - mse: 2.6050 - val_loss: 6.1267 - val_mse: 6.1267\n",
      "Epoch 121/200\n",
      "800/800 [==============================] - 0s 191us/sample - loss: 3.5847 - mse: 3.5847 - val_loss: 0.4748 - val_mse: 0.4748\n",
      "Epoch 122/200\n",
      "800/800 [==============================] - 0s 190us/sample - loss: 1.7600 - mse: 1.7600 - val_loss: 0.1053 - val_mse: 0.1053\n",
      "Epoch 123/200\n",
      "800/800 [==============================] - 0s 182us/sample - loss: 6.4099 - mse: 6.4099 - val_loss: 0.7918 - val_mse: 0.7918\n",
      "Epoch 124/200\n",
      "800/800 [==============================] - 0s 195us/sample - loss: 10.4683 - mse: 10.4683 - val_loss: 2.0676 - val_mse: 2.0676\n",
      "Epoch 125/200\n",
      "800/800 [==============================] - 0s 248us/sample - loss: 5.5292 - mse: 5.5292 - val_loss: 0.5149 - val_mse: 0.5149\n",
      "Epoch 126/200\n",
      "800/800 [==============================] - 0s 218us/sample - loss: 1.7405 - mse: 1.7405 - val_loss: 3.4201 - val_mse: 3.4201\n",
      "Epoch 127/200\n",
      "800/800 [==============================] - 0s 199us/sample - loss: 9.6411 - mse: 9.6411 - val_loss: 0.7514 - val_mse: 0.7514\n",
      "Epoch 128/200\n",
      "800/800 [==============================] - 0s 233us/sample - loss: 1.3487 - mse: 1.3487 - val_loss: 0.5652 - val_mse: 0.5652\n",
      "Epoch 129/200\n",
      "800/800 [==============================] - 0s 247us/sample - loss: 2.4897 - mse: 2.4897 - val_loss: 1.4571 - val_mse: 1.4571\n",
      "Epoch 130/200\n",
      "800/800 [==============================] - 0s 265us/sample - loss: 1.1651 - mse: 1.1651 - val_loss: 0.3770 - val_mse: 0.3770\n",
      "Epoch 131/200\n",
      "800/800 [==============================] - 0s 204us/sample - loss: 1.9797 - mse: 1.9797 - val_loss: 0.2037 - val_mse: 0.2037\n",
      "Epoch 132/200\n",
      "800/800 [==============================] - 0s 221us/sample - loss: 4.3763 - mse: 4.3763 - val_loss: 3.1299 - val_mse: 3.1299\n",
      "Epoch 133/200\n",
      "800/800 [==============================] - 0s 206us/sample - loss: 1.8438 - mse: 1.8438 - val_loss: 0.8494 - val_mse: 0.8494\n",
      "Epoch 134/200\n",
      "800/800 [==============================] - 0s 224us/sample - loss: 3.7922 - mse: 3.7922 - val_loss: 2.2805 - val_mse: 2.2805\n",
      "Epoch 135/200\n",
      "800/800 [==============================] - 0s 224us/sample - loss: 4.7323 - mse: 4.7323 - val_loss: 0.6386 - val_mse: 0.6386\n",
      "Epoch 136/200\n",
      "800/800 [==============================] - 0s 212us/sample - loss: 0.9908 - mse: 0.9908 - val_loss: 0.7413 - val_mse: 0.7413\n",
      "Epoch 137/200\n",
      "800/800 [==============================] - 0s 211us/sample - loss: 1.4773 - mse: 1.4773 - val_loss: 0.5930 - val_mse: 0.5930\n",
      "Epoch 138/200\n",
      "800/800 [==============================] - 0s 221us/sample - loss: 1.8762 - mse: 1.8762 - val_loss: 0.0507 - val_mse: 0.0507\n",
      "Epoch 139/200\n",
      "800/800 [==============================] - 0s 215us/sample - loss: 2.0858 - mse: 2.0858 - val_loss: 0.1197 - val_mse: 0.1197\n",
      "Epoch 140/200\n",
      "800/800 [==============================] - 0s 211us/sample - loss: 0.9646 - mse: 0.9646 - val_loss: 1.5441 - val_mse: 1.5441\n",
      "Epoch 141/200\n",
      "800/800 [==============================] - 0s 236us/sample - loss: 7.0975 - mse: 7.0975 - val_loss: 10.0151 - val_mse: 10.0151\n",
      "Epoch 142/200\n",
      "800/800 [==============================] - 0s 243us/sample - loss: 5.9310 - mse: 5.9310 - val_loss: 0.2179 - val_mse: 0.2179\n",
      "Epoch 143/200\n",
      "800/800 [==============================] - 0s 263us/sample - loss: 1.4336 - mse: 1.4336 - val_loss: 0.2551 - val_mse: 0.2551\n",
      "Epoch 144/200\n",
      "800/800 [==============================] - 0s 272us/sample - loss: 2.2006 - mse: 2.2006 - val_loss: 2.1403 - val_mse: 2.1403\n",
      "Epoch 145/200\n",
      "800/800 [==============================] - 0s 237us/sample - loss: 2.4217 - mse: 2.4217 - val_loss: 0.0791 - val_mse: 0.0791\n",
      "Epoch 146/200\n",
      "800/800 [==============================] - 0s 262us/sample - loss: 3.9239 - mse: 3.9239 - val_loss: 0.0366 - val_mse: 0.0366\n",
      "Epoch 147/200\n",
      "800/800 [==============================] - 0s 250us/sample - loss: 5.7821 - mse: 5.7821 - val_loss: 0.3041 - val_mse: 0.3041\n",
      "Epoch 148/200\n",
      "800/800 [==============================] - 0s 215us/sample - loss: 4.5630 - mse: 4.5630 - val_loss: 1.0816 - val_mse: 1.0816\n",
      "Epoch 149/200\n",
      "800/800 [==============================] - 0s 208us/sample - loss: 1.4862 - mse: 1.4862 - val_loss: 0.7426 - val_mse: 0.7426\n",
      "Epoch 150/200\n",
      "800/800 [==============================] - 0s 205us/sample - loss: 1.7233 - mse: 1.7233 - val_loss: 0.4481 - val_mse: 0.4481\n",
      "Epoch 151/200\n",
      "800/800 [==============================] - 0s 196us/sample - loss: 1.0189 - mse: 1.0189 - val_loss: 1.8552 - val_mse: 1.8552\n",
      "Epoch 152/200\n",
      "800/800 [==============================] - 0s 196us/sample - loss: 2.6376 - mse: 2.6376 - val_loss: 0.1036 - val_mse: 0.1036\n",
      "Epoch 153/200\n",
      "800/800 [==============================] - 0s 199us/sample - loss: 3.6454 - mse: 3.6454 - val_loss: 0.0384 - val_mse: 0.0384\n",
      "Epoch 154/200\n",
      "800/800 [==============================] - 0s 199us/sample - loss: 0.5035 - mse: 0.5035 - val_loss: 0.1390 - val_mse: 0.1390\n",
      "Epoch 155/200\n",
      "800/800 [==============================] - 0s 206us/sample - loss: 0.9523 - mse: 0.9523 - val_loss: 0.1866 - val_mse: 0.1866\n",
      "Epoch 156/200\n",
      "800/800 [==============================] - 0s 198us/sample - loss: 0.6412 - mse: 0.6412 - val_loss: 0.8675 - val_mse: 0.8675\n",
      "Epoch 157/200\n",
      "800/800 [==============================] - 0s 205us/sample - loss: 0.9995 - mse: 0.9995 - val_loss: 0.1339 - val_mse: 0.1339\n",
      "Epoch 158/200\n",
      "800/800 [==============================] - 0s 207us/sample - loss: 0.5042 - mse: 0.5042 - val_loss: 0.3099 - val_mse: 0.3099\n",
      "Epoch 159/200\n",
      "800/800 [==============================] - 0s 201us/sample - loss: 0.6155 - mse: 0.6155 - val_loss: 0.3730 - val_mse: 0.3730\n",
      "Epoch 160/200\n",
      "800/800 [==============================] - 0s 203us/sample - loss: 0.6599 - mse: 0.6599 - val_loss: 0.1661 - val_mse: 0.1661\n",
      "Epoch 161/200\n",
      "800/800 [==============================] - 0s 202us/sample - loss: 0.7693 - mse: 0.7693 - val_loss: 0.9001 - val_mse: 0.9001\n",
      "Epoch 162/200\n",
      "800/800 [==============================] - 0s 194us/sample - loss: 1.1866 - mse: 1.1866 - val_loss: 1.3603 - val_mse: 1.3603\n",
      "Epoch 163/200\n",
      "800/800 [==============================] - 0s 194us/sample - loss: 4.3324 - mse: 4.3324 - val_loss: 0.4095 - val_mse: 0.4095\n",
      "Epoch 164/200\n",
      "800/800 [==============================] - 0s 194us/sample - loss: 14.7219 - mse: 14.7219 - val_loss: 8.6715 - val_mse: 8.6715\n",
      "Epoch 165/200\n",
      "800/800 [==============================] - 0s 204us/sample - loss: 23.8139 - mse: 23.8139 - val_loss: 3.7972 - val_mse: 3.7972\n",
      "Epoch 166/200\n",
      "800/800 [==============================] - 0s 199us/sample - loss: 20.8620 - mse: 20.8620 - val_loss: 2.5069 - val_mse: 2.5069\n",
      "Epoch 167/200\n",
      "800/800 [==============================] - 0s 200us/sample - loss: 4.7907 - mse: 4.7907 - val_loss: 0.2789 - val_mse: 0.2789\n",
      "Epoch 168/200\n",
      "800/800 [==============================] - 0s 201us/sample - loss: 8.1411 - mse: 8.1411 - val_loss: 0.0710 - val_mse: 0.0710\n",
      "Epoch 169/200\n",
      "800/800 [==============================] - 0s 196us/sample - loss: 1.0179 - mse: 1.0179 - val_loss: 0.8677 - val_mse: 0.8677\n",
      "Epoch 170/200\n",
      "800/800 [==============================] - 0s 198us/sample - loss: 0.3303 - mse: 0.3303 - val_loss: 0.1157 - val_mse: 0.1157\n",
      "Epoch 171/200\n",
      "800/800 [==============================] - 0s 197us/sample - loss: 0.9908 - mse: 0.9908 - val_loss: 0.4289 - val_mse: 0.4289\n",
      "Epoch 172/200\n",
      "800/800 [==============================] - 0s 190us/sample - loss: 0.5901 - mse: 0.5901 - val_loss: 0.0380 - val_mse: 0.0380\n",
      "Epoch 173/200\n",
      "800/800 [==============================] - 0s 201us/sample - loss: 0.7882 - mse: 0.7882 - val_loss: 0.1303 - val_mse: 0.1303\n",
      "Epoch 174/200\n",
      "800/800 [==============================] - 0s 194us/sample - loss: 2.0521 - mse: 2.0521 - val_loss: 1.7374 - val_mse: 1.7374\n"
     ]
    },
    {
     "name": "stdout",
     "output_type": "stream",
     "text": [
      "Epoch 175/200\n",
      "800/800 [==============================] - 0s 170us/sample - loss: 8.1322 - mse: 8.1322 - val_loss: 0.2645 - val_mse: 0.2645\n",
      "Epoch 176/200\n",
      "800/800 [==============================] - 0s 174us/sample - loss: 6.0688 - mse: 6.0688 - val_loss: 4.8395 - val_mse: 4.8395\n",
      "Epoch 177/200\n",
      "800/800 [==============================] - 0s 168us/sample - loss: 5.3853 - mse: 5.3853 - val_loss: 0.1862 - val_mse: 0.1862\n",
      "Epoch 178/200\n",
      "800/800 [==============================] - 0s 176us/sample - loss: 2.3530 - mse: 2.3530 - val_loss: 0.5550 - val_mse: 0.5550\n",
      "Epoch 179/200\n",
      "800/800 [==============================] - 0s 165us/sample - loss: 1.9451 - mse: 1.9451 - val_loss: 1.5745 - val_mse: 1.5745\n",
      "Epoch 180/200\n",
      "800/800 [==============================] - 0s 177us/sample - loss: 2.1394 - mse: 2.1394 - val_loss: 3.8867 - val_mse: 3.8867\n",
      "Epoch 181/200\n",
      "800/800 [==============================] - 0s 172us/sample - loss: 3.7455 - mse: 3.7455 - val_loss: 0.1073 - val_mse: 0.1073\n",
      "Epoch 182/200\n",
      "800/800 [==============================] - 0s 202us/sample - loss: 48.4368 - mse: 48.4368 - val_loss: 5.6456 - val_mse: 5.6456\n",
      "Epoch 183/200\n",
      "800/800 [==============================] - 0s 200us/sample - loss: 74.6323 - mse: 74.6323 - val_loss: 24.3543 - val_mse: 24.3543\n",
      "Epoch 184/200\n",
      "800/800 [==============================] - 0s 201us/sample - loss: 77.6305 - mse: 77.6305 - val_loss: 21.4950 - val_mse: 21.4950\n",
      "Epoch 185/200\n",
      "800/800 [==============================] - 0s 196us/sample - loss: 22.9355 - mse: 22.9355 - val_loss: 5.7679 - val_mse: 5.7679\n",
      "Epoch 186/200\n",
      "800/800 [==============================] - 0s 196us/sample - loss: 9.1249 - mse: 9.1249 - val_loss: 1.0632 - val_mse: 1.0632\n",
      "Epoch 187/200\n",
      "800/800 [==============================] - 0s 198us/sample - loss: 4.1259 - mse: 4.1259 - val_loss: 2.1910 - val_mse: 2.1910\n",
      "Epoch 188/200\n",
      "800/800 [==============================] - 0s 204us/sample - loss: 4.8621 - mse: 4.8621 - val_loss: 0.7909 - val_mse: 0.7909\n",
      "Epoch 189/200\n",
      "800/800 [==============================] - 0s 195us/sample - loss: 3.1758 - mse: 3.1758 - val_loss: 0.6208 - val_mse: 0.6208\n",
      "Epoch 190/200\n",
      "800/800 [==============================] - 0s 198us/sample - loss: 2.2770 - mse: 2.2770 - val_loss: 1.3072 - val_mse: 1.3072\n",
      "Epoch 191/200\n",
      "800/800 [==============================] - 0s 186us/sample - loss: 2.8238 - mse: 2.8238 - val_loss: 0.5547 - val_mse: 0.5547\n",
      "Epoch 192/200\n",
      "800/800 [==============================] - 0s 199us/sample - loss: 1.2493 - mse: 1.2493 - val_loss: 0.1965 - val_mse: 0.1965\n",
      "Epoch 193/200\n",
      "800/800 [==============================] - 0s 202us/sample - loss: 1.0203 - mse: 1.0203 - val_loss: 0.2726 - val_mse: 0.2726\n",
      "Epoch 194/200\n",
      "800/800 [==============================] - 0s 198us/sample - loss: 1.0840 - mse: 1.0840 - val_loss: 0.5930 - val_mse: 0.5930\n",
      "Epoch 195/200\n",
      "800/800 [==============================] - 0s 202us/sample - loss: 0.6980 - mse: 0.6980 - val_loss: 0.4804 - val_mse: 0.4804\n",
      "Epoch 196/200\n",
      "800/800 [==============================] - 0s 191us/sample - loss: 0.6156 - mse: 0.6156 - val_loss: 0.1095 - val_mse: 0.1095\n",
      "Epoch 197/200\n",
      "800/800 [==============================] - 0s 197us/sample - loss: 0.6599 - mse: 0.6599 - val_loss: 0.1917 - val_mse: 0.1917\n",
      "Epoch 198/200\n",
      "800/800 [==============================] - 0s 204us/sample - loss: 0.8347 - mse: 0.8347 - val_loss: 0.9870 - val_mse: 0.9870\n",
      "Epoch 199/200\n",
      "800/800 [==============================] - 0s 195us/sample - loss: 0.6379 - mse: 0.6379 - val_loss: 0.0488 - val_mse: 0.0488\n",
      "Epoch 200/200\n",
      "800/800 [==============================] - 0s 203us/sample - loss: 0.7680 - mse: 0.7680 - val_loss: 1.0554 - val_mse: 1.0554\n"
     ]
    },
    {
     "data": {
      "text/plain": [
       "<tensorflow.python.keras.callbacks.History at 0x13d20aa50>"
      ]
     },
     "execution_count": 41,
     "metadata": {},
     "output_type": "execute_result"
    }
   ],
   "source": [
    "toy_model = keras.Sequential([layers.Dense(1000,activation='relu', input_shape=[2,]),\n",
    "                              layers.Dense(500, activation='relu'),\n",
    "                              layers.Dense(1)])\n",
    "\n",
    "opt = keras.optimizers.Adam(decay=0.01/500)\n",
    "toy_model.compile(loss='mse', optimizer=opt, metrics=['mse'])\n",
    "toy_model.fit(toy[['price','year']], toy['toy'], epochs=200, validation_split = 0.2, verbose=1)"
   ]
  },
  {
   "cell_type": "markdown",
   "metadata": {},
   "source": [
    "### Nonlinearities (15 mts)"
   ]
  },
  {
   "cell_type": "markdown",
   "metadata": {},
   "source": [
    "The reason why our linear model fails here while a neural network trains quickly and effectively is because of the *nonlinearities* in our dataset. We defined our `toy` column as a cubic polynomial of `year` and `price` – by definition, a linear model will not be able to understand the underlying factors. A neural network, on the other hand, is composed of a variety of linear functions and activation functions, which allows it to predict more complex nonlinear models.\n",
    "\n",
    "In the above contrived example, we can see why the data was fundamentally nonlinear. In the real world, these connections are far less clear. This is the reason why linear models are often reasonably good at approximating relationships in most real-world datasets. However, there are times when neural networks can really demonstrate their power.\n",
    "\n",
    "Let's go ahead and build our model. We'll use a simple *Sequential* constructor from Keras. Take a look at the description of how to use Keras Sequential models here: https://keras.io/getting-started/sequential-model-guide/. The following code constructs a simple Keras Sequential instance with one layer. We need to specify the *activation function* and the *input shape* in our first model:"
   ]
  },
  {
   "cell_type": "code",
   "execution_count": 42,
   "metadata": {},
   "outputs": [],
   "source": [
    "neurons = 128\n",
    "\n",
    "model = keras.Sequential([layers.Dense(neurons, activation='relu', input_shape=[len(df_train.columns) - 1,]), # Input layer\n",
    "                          layers.Dense(1)]) # Output layer"
   ]
  },
  {
   "cell_type": "markdown",
   "metadata": {},
   "source": [
    "In addition to the layers of our model, we need to specify three more parameters:\n",
    "\n",
    "1. The *loss function* – this function will define how \"wrong\" our final answer is.\n",
    "2. The *optimizer* – this is the algorithm that minimizes our loss function by fine-tuning the weights in our neural network.\n",
    "3. A list of metrics that determine the performance of our model – you can understand the metrics that Keras uses here: https://keras.io/metrics/\n",
    "\n",
    "These specifications go in the model's compile function, with the following parameters:"
   ]
  },
  {
   "cell_type": "code",
   "execution_count": 43,
   "metadata": {},
   "outputs": [],
   "source": [
    "model.compile(loss='mse', # This uses Mean-Squared Error (https://en.wikipedia.org/wiki/Mean_squared_error)\n",
    "              optimizer = 'adam', # The algorithm to optimize, root means squared is useful for regression\n",
    "              metrics = ['mse'] # This is a good metric to use by default for any classification problem\n",
    "             )"
   ]
  },
  {
   "cell_type": "markdown",
   "metadata": {},
   "source": [
    "For a neural network, training the model consists of tuning each of the weights between every node by minimizing the difference between the model's predicted value and the actual value in the training dataset. After this, the model is run on the test set to see how well it generalizes:"
   ]
  },
  {
   "cell_type": "code",
   "execution_count": 44,
   "metadata": {},
   "outputs": [
    {
     "name": "stderr",
     "output_type": "stream",
     "text": [
      "/usr/local/lib/python3.7/site-packages/ipykernel_launcher.py:2: SettingWithCopyWarning: \n",
      "A value is trying to be set on a copy of a slice from a DataFrame.\n",
      "Try using .loc[row_indexer,col_indexer] = value instead\n",
      "\n",
      "See the caveats in the documentation: http://pandas.pydata.org/pandas-docs/stable/user_guide/indexing.html#returning-a-view-versus-a-copy\n",
      "  \n",
      "/usr/local/lib/python3.7/site-packages/ipykernel_launcher.py:8: SettingWithCopyWarning: \n",
      "A value is trying to be set on a copy of a slice from a DataFrame.\n",
      "Try using .loc[row_indexer,col_indexer] = value instead\n",
      "\n",
      "See the caveats in the documentation: http://pandas.pydata.org/pandas-docs/stable/user_guide/indexing.html#returning-a-view-versus-a-copy\n",
      "  \n"
     ]
    }
   ],
   "source": [
    "X = df_train.drop('price', axis=1)\n",
    "X['year'] = (X['year'] - df_train['year'].mean()) / df_train['year'].std()\n",
    "\n",
    "y = df_train['price']\n",
    "y = (y - df_train['price'].mean()) / df_train['price'].std()\n",
    "\n",
    "X_test = df_test.drop('price', axis=1)\n",
    "X_test['year'] = (X_test['year'] - df_test['year'].mean()) / df_test['year'].std()\n",
    "y_test = df_test['price']\n",
    "y_test = (y_test - df_test['price'].mean()) / df_test['price'].std()"
   ]
  },
  {
   "cell_type": "markdown",
   "metadata": {},
   "source": [
    "We're now ready to finally train the model! This uses the Keras `fit` function, which uses the following parameters:\n",
    "\n",
    "1. Input data\n",
    "2. Input labels\n",
    "3. Number of epochs\n",
    "4. Verbosity: 0, 1, or 2, depending on how frequently you want your model to give information while logging information\n",
    "5. Validation split: A fraction of the training data to *avoid* use while training, in order to prevent the model from overfitting on a subset of the data.\n",
    "6. Batch size: This tells you how many data points will train at once. A higher batch size will be faster until a certain point, until the algorithm hits diminishing returns from overhead. Higher batch size may also reduce accuracy.\n",
    "\n",
    "Here's an example of fitting the data with some sample parameters."
   ]
  },
  {
   "cell_type": "code",
   "execution_count": 45,
   "metadata": {
    "scrolled": true
   },
   "outputs": [
    {
     "name": "stdout",
     "output_type": "stream",
     "text": [
      "WARNING:tensorflow:Falling back from v2 loop because of error: Failed to find data adapter that can handle input: <class 'pandas.core.frame.DataFrame'>, <class 'NoneType'>\n",
      "Train on 268747 samples, validate on 67187 samples\n",
      "Epoch 1/10\n",
      "268747/268747 [==============================] - 2s 7us/sample - loss: 0.5764 - mse: 0.5764 - val_loss: 0.5072 - val_mse: 0.5072\n",
      "Epoch 2/10\n",
      "268747/268747 [==============================] - 2s 8us/sample - loss: 0.5011 - mse: 0.5011 - val_loss: 0.4912 - val_mse: 0.4912\n",
      "Epoch 3/10\n",
      "268747/268747 [==============================] - 2s 8us/sample - loss: 0.4889 - mse: 0.4889 - val_loss: 0.4852 - val_mse: 0.4852\n",
      "Epoch 4/10\n",
      "268747/268747 [==============================] - 2s 7us/sample - loss: 0.4813 - mse: 0.4813 - val_loss: 0.4766 - val_mse: 0.4766\n",
      "Epoch 5/10\n",
      "268747/268747 [==============================] - 2s 7us/sample - loss: 0.4754 - mse: 0.4754 - val_loss: 0.4747 - val_mse: 0.4747\n",
      "Epoch 6/10\n",
      "268747/268747 [==============================] - 2s 6us/sample - loss: 0.4700 - mse: 0.4700 - val_loss: 0.4714 - val_mse: 0.4714\n",
      "Epoch 7/10\n",
      "268747/268747 [==============================] - 2s 7us/sample - loss: 0.4664 - mse: 0.4664 - val_loss: 0.4667 - val_mse: 0.4667\n",
      "Epoch 8/10\n",
      "268747/268747 [==============================] - 2s 7us/sample - loss: 0.4637 - mse: 0.4637 - val_loss: 0.4669 - val_mse: 0.4669\n",
      "Epoch 9/10\n",
      "268747/268747 [==============================] - 2s 6us/sample - loss: 0.4606 - mse: 0.4606 - val_loss: 0.4622 - val_mse: 0.4622\n",
      "Epoch 10/10\n",
      "268747/268747 [==============================] - 2s 8us/sample - loss: 0.4579 - mse: 0.4579 - val_loss: 0.4615 - val_mse: 0.4615\n"
     ]
    }
   ],
   "source": [
    "history = model.fit(X, y, epochs=10, validation_split = 0.2, verbose=1, batch_size=1000)"
   ]
  },
  {
   "cell_type": "code",
   "execution_count": 46,
   "metadata": {},
   "outputs": [
    {
     "name": "stdout",
     "output_type": "stream",
     "text": [
      "WARNING:tensorflow:Falling back from v2 loop because of error: Failed to find data adapter that can handle input: <class 'pandas.core.frame.DataFrame'>, <class 'NoneType'>\n",
      "98608/98608 [==============================] - 1s 14us/sample - loss: 0.4727 - mse: 0.47270s - loss: 0.4\n"
     ]
    },
    {
     "data": {
      "text/plain": [
       "[0.4727279816996098, 0.47272745]"
      ]
     },
     "execution_count": 46,
     "metadata": {},
     "output_type": "execute_result"
    }
   ],
   "source": [
    "model.evaluate(X_test, y_test)"
   ]
  },
  {
   "cell_type": "markdown",
   "metadata": {},
   "source": [
    "Now that we've seen a basic model, let's try making this model deeper by adding more hidden layers. To add more layers, we just use the `add()` method, which takes layer instances as input in order to upgrade the model."
   ]
  },
  {
   "cell_type": "markdown",
   "metadata": {},
   "source": [
    "### Exercise 5: (10 mts)\n",
    "\n",
    "Use Keras to create a deep model with three layers to fit on our training data, then run it against our test data to see how well it fits. Compare this model to a linear regression which uses all features on our new normalized dataset."
   ]
  },
  {
   "cell_type": "markdown",
   "metadata": {},
   "source": [
    "**Answer:**"
   ]
  },
  {
   "cell_type": "code",
   "execution_count": 47,
   "metadata": {},
   "outputs": [],
   "source": [
    "### Write code here\n",
    "deep_model = keras.Sequential([layers.Dense(128, activation='relu', input_shape=[len(X.columns),]),])\n",
    "deep_model.add(layers.Dense(64, activation='softmax'))\n",
    "deep_model.add(layers.Dense(1))\n",
    "deep_model.compile(loss='mse', optimizer = 'adam', metrics = ['mse'])"
   ]
  },
  {
   "cell_type": "code",
   "execution_count": 48,
   "metadata": {},
   "outputs": [
    {
     "name": "stdout",
     "output_type": "stream",
     "text": [
      "WARNING:tensorflow:Falling back from v2 loop because of error: Failed to find data adapter that can handle input: <class 'pandas.core.frame.DataFrame'>, <class 'NoneType'>\n",
      "Train on 268747 samples, validate on 67187 samples\n",
      "Epoch 1/100\n",
      "268747/268747 [==============================] - 2s 7us/sample - loss: 0.8129 - mse: 0.8129 - val_loss: 0.6468 - val_mse: 0.6468\n",
      "Epoch 2/100\n",
      "268747/268747 [==============================] - 2s 7us/sample - loss: 0.6388 - mse: 0.6388 - val_loss: 0.6035 - val_mse: 0.6035\n",
      "Epoch 3/100\n",
      "268747/268747 [==============================] - 2s 7us/sample - loss: 0.5988 - mse: 0.5988 - val_loss: 0.5676 - val_mse: 0.5676\n",
      "Epoch 4/100\n",
      "268747/268747 [==============================] - 2s 7us/sample - loss: 0.5618 - mse: 0.5618 - val_loss: 0.5439 - val_mse: 0.5439\n",
      "Epoch 5/100\n",
      "268747/268747 [==============================] - 1s 5us/sample - loss: 0.5372 - mse: 0.5372 - val_loss: 0.5215 - val_mse: 0.5215\n",
      "Epoch 6/100\n",
      "268747/268747 [==============================] - 2s 6us/sample - loss: 0.5202 - mse: 0.5202 - val_loss: 0.5113 - val_mse: 0.5113\n",
      "Epoch 7/100\n",
      "268747/268747 [==============================] - 2s 7us/sample - loss: 0.5077 - mse: 0.5077 - val_loss: 0.5010 - val_mse: 0.5010\n",
      "Epoch 8/100\n",
      "268747/268747 [==============================] - 2s 7us/sample - loss: 0.4991 - mse: 0.4991 - val_loss: 0.4925 - val_mse: 0.4925\n",
      "Epoch 9/100\n",
      "268747/268747 [==============================] - 2s 7us/sample - loss: 0.4927 - mse: 0.4927 - val_loss: 0.4926 - val_mse: 0.4926\n",
      "Epoch 10/100\n",
      "268747/268747 [==============================] - 2s 7us/sample - loss: 0.4869 - mse: 0.4869 - val_loss: 0.4825 - val_mse: 0.4825\n",
      "Epoch 11/100\n",
      "268747/268747 [==============================] - 2s 7us/sample - loss: 0.4819 - mse: 0.4819 - val_loss: 0.4810 - val_mse: 0.4810\n",
      "Epoch 12/100\n",
      "268747/268747 [==============================] - 2s 7us/sample - loss: 0.4779 - mse: 0.4779 - val_loss: 0.4817 - val_mse: 0.4817\n",
      "Epoch 13/100\n",
      "268747/268747 [==============================] - 2s 7us/sample - loss: 0.4741 - mse: 0.4741 - val_loss: 0.4766 - val_mse: 0.4766\n",
      "Epoch 14/100\n",
      "268747/268747 [==============================] - 2s 7us/sample - loss: 0.4712 - mse: 0.4712 - val_loss: 0.4720 - val_mse: 0.4720\n",
      "Epoch 15/100\n",
      "268747/268747 [==============================] - 2s 7us/sample - loss: 0.4695 - mse: 0.4695 - val_loss: 0.4704 - val_mse: 0.4704\n",
      "Epoch 16/100\n",
      "268747/268747 [==============================] - 2s 7us/sample - loss: 0.4668 - mse: 0.4668 - val_loss: 0.4681 - val_mse: 0.4681\n",
      "Epoch 17/100\n",
      "268747/268747 [==============================] - 2s 7us/sample - loss: 0.4649 - mse: 0.4649 - val_loss: 0.4737 - val_mse: 0.4737\n",
      "Epoch 18/100\n",
      "268747/268747 [==============================] - 2s 7us/sample - loss: 0.4627 - mse: 0.4627 - val_loss: 0.4673 - val_mse: 0.4673\n",
      "Epoch 19/100\n",
      "268747/268747 [==============================] - 2s 7us/sample - loss: 0.4609 - mse: 0.4609 - val_loss: 0.4736 - val_mse: 0.4735\n",
      "Epoch 20/100\n",
      "268747/268747 [==============================] - 2s 6us/sample - loss: 0.4604 - mse: 0.4604 - val_loss: 0.4640 - val_mse: 0.4640\n",
      "Epoch 21/100\n",
      "268747/268747 [==============================] - 2s 6us/sample - loss: 0.4584 - mse: 0.4584 - val_loss: 0.4633 - val_mse: 0.4633\n",
      "Epoch 22/100\n",
      "268747/268747 [==============================] - 2s 6us/sample - loss: 0.4564 - mse: 0.4564 - val_loss: 0.4631 - val_mse: 0.4631\n",
      "Epoch 23/100\n",
      "268747/268747 [==============================] - 2s 7us/sample - loss: 0.4554 - mse: 0.4554 - val_loss: 0.4627 - val_mse: 0.4627\n",
      "Epoch 24/100\n",
      "268747/268747 [==============================] - 2s 6us/sample - loss: 0.4546 - mse: 0.4546 - val_loss: 0.4619 - val_mse: 0.4619\n",
      "Epoch 25/100\n",
      "268747/268747 [==============================] - 1s 5us/sample - loss: 0.4527 - mse: 0.4527 - val_loss: 0.4588 - val_mse: 0.4588\n",
      "Epoch 26/100\n",
      "268747/268747 [==============================] - 1s 6us/sample - loss: 0.4519 - mse: 0.4519 - val_loss: 0.4601 - val_mse: 0.4601\n",
      "Epoch 27/100\n",
      "268747/268747 [==============================] - 2s 7us/sample - loss: 0.4514 - mse: 0.4514 - val_loss: 0.4579 - val_mse: 0.4579\n",
      "Epoch 28/100\n",
      "268747/268747 [==============================] - 2s 7us/sample - loss: 0.4500 - mse: 0.4500 - val_loss: 0.4582 - val_mse: 0.4582\n",
      "Epoch 29/100\n",
      "268747/268747 [==============================] - 2s 7us/sample - loss: 0.4495 - mse: 0.4495 - val_loss: 0.4605 - val_mse: 0.4605\n",
      "Epoch 30/100\n",
      "268747/268747 [==============================] - 2s 7us/sample - loss: 0.4488 - mse: 0.4488 - val_loss: 0.4628 - val_mse: 0.4628\n",
      "Epoch 31/100\n",
      "268747/268747 [==============================] - 2s 7us/sample - loss: 0.4483 - mse: 0.4483 - val_loss: 0.4569 - val_mse: 0.4569\n",
      "Epoch 32/100\n",
      "268747/268747 [==============================] - 2s 6us/sample - loss: 0.4476 - mse: 0.4476 - val_loss: 0.4562 - val_mse: 0.4562\n",
      "Epoch 33/100\n",
      "268747/268747 [==============================] - 1s 5us/sample - loss: 0.4466 - mse: 0.4466 - val_loss: 0.4566 - val_mse: 0.4566\n",
      "Epoch 34/100\n",
      "268747/268747 [==============================] - 2s 6us/sample - loss: 0.4461 - mse: 0.4461 - val_loss: 0.4569 - val_mse: 0.4569\n",
      "Epoch 35/100\n",
      "268747/268747 [==============================] - 2s 7us/sample - loss: 0.4453 - mse: 0.4453 - val_loss: 0.4568 - val_mse: 0.4568\n",
      "Epoch 36/100\n",
      "268747/268747 [==============================] - 2s 6us/sample - loss: 0.4449 - mse: 0.4449 - val_loss: 0.4562 - val_mse: 0.4562\n",
      "Epoch 37/100\n",
      "268747/268747 [==============================] - 2s 6us/sample - loss: 0.4437 - mse: 0.4437 - val_loss: 0.4549 - val_mse: 0.4549\n",
      "Epoch 38/100\n",
      "268747/268747 [==============================] - 2s 6us/sample - loss: 0.4436 - mse: 0.4436 - val_loss: 0.4564 - val_mse: 0.4564\n",
      "Epoch 39/100\n",
      "268747/268747 [==============================] - 2s 6us/sample - loss: 0.4442 - mse: 0.4442 - val_loss: 0.4678 - val_mse: 0.4678\n",
      "Epoch 40/100\n",
      "268747/268747 [==============================] - 2s 7us/sample - loss: 0.4425 - mse: 0.4425 - val_loss: 0.4569 - val_mse: 0.4569\n",
      "Epoch 41/100\n",
      "268747/268747 [==============================] - 2s 7us/sample - loss: 0.4416 - mse: 0.4416 - val_loss: 0.4545 - val_mse: 0.4545\n",
      "Epoch 42/100\n",
      "268747/268747 [==============================] - 2s 7us/sample - loss: 0.4416 - mse: 0.4416 - val_loss: 0.4528 - val_mse: 0.4528\n",
      "Epoch 43/100\n",
      "268747/268747 [==============================] - 2s 7us/sample - loss: 0.4410 - mse: 0.4410 - val_loss: 0.4567 - val_mse: 0.4567\n",
      "Epoch 44/100\n",
      "268747/268747 [==============================] - 2s 7us/sample - loss: 0.4404 - mse: 0.4404 - val_loss: 0.4543 - val_mse: 0.4543\n",
      "Epoch 45/100\n",
      "268747/268747 [==============================] - 2s 6us/sample - loss: 0.4397 - mse: 0.4397 - val_loss: 0.4531 - val_mse: 0.4531\n",
      "Epoch 46/100\n",
      "268747/268747 [==============================] - 2s 7us/sample - loss: 0.4390 - mse: 0.4390 - val_loss: 0.4595 - val_mse: 0.4595\n",
      "Epoch 47/100\n",
      "268747/268747 [==============================] - 2s 6us/sample - loss: 0.4398 - mse: 0.4398 - val_loss: 0.4529 - val_mse: 0.4529\n",
      "Epoch 48/100\n",
      "268747/268747 [==============================] - 2s 7us/sample - loss: 0.4384 - mse: 0.4384 - val_loss: 0.4579 - val_mse: 0.4579\n",
      "Epoch 49/100\n",
      "268747/268747 [==============================] - 2s 7us/sample - loss: 0.4388 - mse: 0.4388 - val_loss: 0.4531 - val_mse: 0.4531\n",
      "Epoch 50/100\n",
      "268747/268747 [==============================] - 2s 7us/sample - loss: 0.4383 - mse: 0.4383 - val_loss: 0.4512 - val_mse: 0.4512\n",
      "Epoch 51/100\n",
      "268747/268747 [==============================] - 2s 7us/sample - loss: 0.4380 - mse: 0.4380 - val_loss: 0.4562 - val_mse: 0.4562\n",
      "Epoch 52/100\n",
      "268747/268747 [==============================] - 2s 7us/sample - loss: 0.4366 - mse: 0.4366 - val_loss: 0.4589 - val_mse: 0.4589\n",
      "Epoch 53/100\n",
      "268747/268747 [==============================] - 2s 8us/sample - loss: 0.4368 - mse: 0.4368 - val_loss: 0.4600 - val_mse: 0.4600\n",
      "Epoch 54/100\n",
      "268747/268747 [==============================] - 2s 7us/sample - loss: 0.4366 - mse: 0.4366 - val_loss: 0.4540 - val_mse: 0.4540\n",
      "Epoch 55/100\n",
      "268747/268747 [==============================] - 2s 7us/sample - loss: 0.4358 - mse: 0.4358 - val_loss: 0.4574 - val_mse: 0.4574\n",
      "Epoch 56/100\n",
      "268747/268747 [==============================] - 2s 7us/sample - loss: 0.4353 - mse: 0.4353 - val_loss: 0.4515 - val_mse: 0.4515\n",
      "Epoch 57/100\n",
      "268747/268747 [==============================] - 2s 7us/sample - loss: 0.4355 - mse: 0.4355 - val_loss: 0.4506 - val_mse: 0.4506\n",
      "Epoch 58/100\n",
      "268747/268747 [==============================] - 2s 6us/sample - loss: 0.4355 - mse: 0.4355 - val_loss: 0.4521 - val_mse: 0.4521\n",
      "Epoch 59/100\n",
      "268747/268747 [==============================] - 2s 7us/sample - loss: 0.4362 - mse: 0.4362 - val_loss: 0.4592 - val_mse: 0.4592\n",
      "Epoch 60/100\n",
      "268747/268747 [==============================] - 2s 7us/sample - loss: 0.4340 - mse: 0.4340 - val_loss: 0.4513 - val_mse: 0.4513\n",
      "Epoch 61/100\n",
      "268747/268747 [==============================] - 2s 7us/sample - loss: 0.4346 - mse: 0.4346 - val_loss: 0.4531 - val_mse: 0.4531\n",
      "Epoch 62/100\n",
      "268747/268747 [==============================] - 2s 7us/sample - loss: 0.4335 - mse: 0.4335 - val_loss: 0.4518 - val_mse: 0.4518\n",
      "Epoch 63/100\n",
      "268747/268747 [==============================] - 2s 7us/sample - loss: 0.4335 - mse: 0.4335 - val_loss: 0.4511 - val_mse: 0.4511\n",
      "Epoch 64/100\n",
      "268747/268747 [==============================] - 2s 6us/sample - loss: 0.4328 - mse: 0.4328 - val_loss: 0.4511 - val_mse: 0.4511\n",
      "Epoch 65/100\n",
      "268747/268747 [==============================] - 2s 7us/sample - loss: 0.4328 - mse: 0.4328 - val_loss: 0.4508 - val_mse: 0.4508\n",
      "Epoch 66/100\n",
      "268747/268747 [==============================] - 2s 7us/sample - loss: 0.4327 - mse: 0.4327 - val_loss: 0.4530 - val_mse: 0.4530\n",
      "Epoch 67/100\n",
      "268747/268747 [==============================] - 2s 7us/sample - loss: 0.4325 - mse: 0.4325 - val_loss: 0.4538 - val_mse: 0.4538\n",
      "Epoch 68/100\n",
      "268747/268747 [==============================] - 2s 7us/sample - loss: 0.4323 - mse: 0.4323 - val_loss: 0.4511 - val_mse: 0.4511\n",
      "Epoch 69/100\n",
      "268747/268747 [==============================] - 2s 7us/sample - loss: 0.4316 - mse: 0.4316 - val_loss: 0.4540 - val_mse: 0.4540\n",
      "Epoch 70/100\n",
      "268747/268747 [==============================] - 2s 7us/sample - loss: 0.4318 - mse: 0.4318 - val_loss: 0.4535 - val_mse: 0.4535\n",
      "Epoch 71/100\n",
      "268747/268747 [==============================] - 2s 7us/sample - loss: 0.4311 - mse: 0.4311 - val_loss: 0.4521 - val_mse: 0.4521\n",
      "Epoch 72/100\n",
      "268747/268747 [==============================] - 2s 7us/sample - loss: 0.4305 - mse: 0.4305 - val_loss: 0.4564 - val_mse: 0.4564\n",
      "Epoch 73/100\n",
      "268747/268747 [==============================] - 2s 7us/sample - loss: 0.4312 - mse: 0.4312 - val_loss: 0.4543 - val_mse: 0.4543\n",
      "Epoch 74/100\n",
      "268747/268747 [==============================] - 2s 7us/sample - loss: 0.4301 - mse: 0.4301 - val_loss: 0.4514 - val_mse: 0.4514\n",
      "Epoch 75/100\n",
      "268747/268747 [==============================] - 2s 6us/sample - loss: 0.4298 - mse: 0.4298 - val_loss: 0.4515 - val_mse: 0.4515\n",
      "Epoch 76/100\n",
      "268747/268747 [==============================] - 2s 6us/sample - loss: 0.4306 - mse: 0.4306 - val_loss: 0.4519 - val_mse: 0.4519\n",
      "Epoch 77/100\n",
      "268747/268747 [==============================] - 2s 7us/sample - loss: 0.4301 - mse: 0.4301 - val_loss: 0.4477 - val_mse: 0.4477\n",
      "Epoch 78/100\n",
      "268747/268747 [==============================] - 2s 6us/sample - loss: 0.4306 - mse: 0.4306 - val_loss: 0.4498 - val_mse: 0.4498\n",
      "Epoch 79/100\n",
      "268747/268747 [==============================] - 2s 7us/sample - loss: 0.4290 - mse: 0.4290 - val_loss: 0.4522 - val_mse: 0.4522\n",
      "Epoch 80/100\n",
      "268747/268747 [==============================] - 2s 7us/sample - loss: 0.4283 - mse: 0.4283 - val_loss: 0.4502 - val_mse: 0.4502\n",
      "Epoch 81/100\n",
      "268747/268747 [==============================] - 2s 7us/sample - loss: 0.4282 - mse: 0.4282 - val_loss: 0.4532 - val_mse: 0.4532\n",
      "Epoch 82/100\n",
      "268747/268747 [==============================] - 2s 7us/sample - loss: 0.4287 - mse: 0.4287 - val_loss: 0.4491 - val_mse: 0.4491\n",
      "Epoch 83/100\n",
      "268747/268747 [==============================] - 2s 6us/sample - loss: 0.4289 - mse: 0.4289 - val_loss: 0.4520 - val_mse: 0.4520\n",
      "Epoch 84/100\n",
      "268747/268747 [==============================] - 2s 8us/sample - loss: 0.4271 - mse: 0.4271 - val_loss: 0.4499 - val_mse: 0.4499\n",
      "Epoch 85/100\n",
      "268747/268747 [==============================] - 2s 7us/sample - loss: 0.4273 - mse: 0.4273 - val_loss: 0.4489 - val_mse: 0.4489\n",
      "Epoch 86/100\n",
      "268747/268747 [==============================] - 2s 7us/sample - loss: 0.4269 - mse: 0.4269 - val_loss: 0.4514 - val_mse: 0.4514\n",
      "Epoch 87/100\n",
      "268747/268747 [==============================] - 2s 7us/sample - loss: 0.4272 - mse: 0.4272 - val_loss: 0.4691 - val_mse: 0.4691\n",
      "Epoch 88/100\n",
      "268747/268747 [==============================] - 2s 7us/sample - loss: 0.4277 - mse: 0.4277 - val_loss: 0.4473 - val_mse: 0.4473\n",
      "Epoch 89/100\n",
      "268747/268747 [==============================] - 1s 5us/sample - loss: 0.4266 - mse: 0.4266 - val_loss: 0.4488 - val_mse: 0.4488\n",
      "Epoch 90/100\n",
      "268747/268747 [==============================] - 1s 5us/sample - loss: 0.4269 - mse: 0.4269 - val_loss: 0.4503 - val_mse: 0.4503\n",
      "Epoch 91/100\n",
      "268747/268747 [==============================] - 2s 7us/sample - loss: 0.4261 - mse: 0.4261 - val_loss: 0.4492 - val_mse: 0.4492\n",
      "Epoch 92/100\n",
      "268747/268747 [==============================] - 2s 6us/sample - loss: 0.4254 - mse: 0.4254 - val_loss: 0.4519 - val_mse: 0.4519\n",
      "Epoch 93/100\n",
      "268747/268747 [==============================] - 2s 6us/sample - loss: 0.4267 - mse: 0.4267 - val_loss: 0.4492 - val_mse: 0.4492\n",
      "Epoch 94/100\n",
      "268747/268747 [==============================] - 2s 7us/sample - loss: 0.4260 - mse: 0.4260 - val_loss: 0.4494 - val_mse: 0.4494\n",
      "Epoch 95/100\n",
      "268747/268747 [==============================] - 2s 7us/sample - loss: 0.4252 - mse: 0.4252 - val_loss: 0.4513 - val_mse: 0.4513\n",
      "Epoch 96/100\n",
      "268747/268747 [==============================] - 2s 7us/sample - loss: 0.4269 - mse: 0.4269 - val_loss: 0.4532 - val_mse: 0.4532\n",
      "Epoch 97/100\n",
      "268747/268747 [==============================] - 2s 6us/sample - loss: 0.4251 - mse: 0.4251 - val_loss: 0.4599 - val_mse: 0.4599\n",
      "Epoch 98/100\n",
      "268747/268747 [==============================] - 2s 7us/sample - loss: 0.4253 - mse: 0.4253 - val_loss: 0.4465 - val_mse: 0.4465\n",
      "Epoch 99/100\n",
      "268747/268747 [==============================] - 2s 7us/sample - loss: 0.4243 - mse: 0.4243 - val_loss: 0.4522 - val_mse: 0.4522\n",
      "Epoch 100/100\n",
      "268747/268747 [==============================] - 2s 7us/sample - loss: 0.4244 - mse: 0.4244 - val_loss: 0.4504 - val_mse: 0.4504\n"
     ]
    }
   ],
   "source": [
    "history = deep_model.fit(X, y, epochs=100, validation_split=0.2, verbose=1, batch_size=2000)"
   ]
  },
  {
   "cell_type": "code",
   "execution_count": 49,
   "metadata": {},
   "outputs": [
    {
     "data": {
      "text/plain": [
       "1"
      ]
     },
     "execution_count": 49,
     "metadata": {},
     "output_type": "execute_result"
    }
   ],
   "source": [
    "1"
   ]
  },
  {
   "cell_type": "markdown",
   "metadata": {},
   "source": [
    "In small neural networks, minor changes in the gradient optimization can cause the MSE to fluctuate wildly, whereas large neural networks have the possibility of fitting more closely, but much more slowly. If we let it train for 10^8 epochs, we can see this eventually training perfectly. This is one of the main tradeoffs of neural networks – the tradeoff between accuracy and efficiency."
   ]
  },
  {
   "cell_type": "code",
   "execution_count": 32,
   "metadata": {},
   "outputs": [
    {
     "name": "stdout",
     "output_type": "stream",
     "text": [
      "98608/98608 [==============================] - 0s 1us/sample - loss: 0.4533 - mean_squared_error: 0.4533\n"
     ]
    },
    {
     "data": {
      "text/plain": [
       "[0.45327300783026125, 0.45327297]"
      ]
     },
     "execution_count": 32,
     "metadata": {},
     "output_type": "execute_result"
    }
   ],
   "source": [
    "deep_model.evaluate(X_test, y_test, batch_size=2000)"
   ]
  },
  {
   "cell_type": "code",
   "execution_count": 33,
   "metadata": {},
   "outputs": [
    {
     "data": {
      "text/html": [
       "<table class=\"simpletable\">\n",
       "<caption>OLS Regression Results</caption>\n",
       "<tr>\n",
       "  <th>Dep. Variable:</th>          <td>price</td>      <th>  R-squared:         </th>  <td>   0.292</td>  \n",
       "</tr>\n",
       "<tr>\n",
       "  <th>Model:</th>                   <td>OLS</td>       <th>  Adj. R-squared:    </th>  <td>   0.291</td>  \n",
       "</tr>\n",
       "<tr>\n",
       "  <th>Method:</th>             <td>Least Squares</td>  <th>  F-statistic:       </th>  <td>   1503.</td>  \n",
       "</tr>\n",
       "<tr>\n",
       "  <th>Date:</th>             <td>Fri, 29 Nov 2019</td> <th>  Prob (F-statistic):</th>   <td>  0.00</td>   \n",
       "</tr>\n",
       "<tr>\n",
       "  <th>Time:</th>                 <td>19:02:26</td>     <th>  Log-Likelihood:    </th> <td>-4.1875e+05</td>\n",
       "</tr>\n",
       "<tr>\n",
       "  <th>No. Observations:</th>      <td>335934</td>      <th>  AIC:               </th>  <td>8.377e+05</td> \n",
       "</tr>\n",
       "<tr>\n",
       "  <th>Df Residuals:</th>          <td>335841</td>      <th>  BIC:               </th>  <td>8.387e+05</td> \n",
       "</tr>\n",
       "<tr>\n",
       "  <th>Df Model:</th>              <td>    92</td>      <th>                     </th>      <td> </td>     \n",
       "</tr>\n",
       "<tr>\n",
       "  <th>Covariance Type:</th>      <td>nonrobust</td>    <th>                     </th>      <td> </td>     \n",
       "</tr>\n",
       "</table>\n",
       "<table class=\"simpletable\">\n",
       "<tr>\n",
       "            <td></td>              <th>coef</th>     <th>std err</th>      <th>t</th>      <th>P>|t|</th>  <th>[0.025</th>    <th>0.975]</th>  \n",
       "</tr>\n",
       "<tr>\n",
       "  <th>Intercept</th>            <td>    0.3920</td> <td>    0.022</td> <td>   17.730</td> <td> 0.000</td> <td>    0.349</td> <td>    0.435</td>\n",
       "</tr>\n",
       "<tr>\n",
       "  <th>year</th>                 <td>    0.2830</td> <td>    0.002</td> <td>  163.834</td> <td> 0.000</td> <td>    0.280</td> <td>    0.286</td>\n",
       "</tr>\n",
       "<tr>\n",
       "  <th>excellent</th>            <td>   -0.1283</td> <td>    0.004</td> <td>  -32.257</td> <td> 0.000</td> <td>   -0.136</td> <td>   -0.121</td>\n",
       "</tr>\n",
       "<tr>\n",
       "  <th>fair</th>                 <td>   -0.6583</td> <td>    0.009</td> <td>  -69.631</td> <td> 0.000</td> <td>   -0.677</td> <td>   -0.640</td>\n",
       "</tr>\n",
       "<tr>\n",
       "  <th>good</th>                 <td>   -0.2713</td> <td>    0.004</td> <td>  -63.857</td> <td> 0.000</td> <td>   -0.280</td> <td>   -0.263</td>\n",
       "</tr>\n",
       "<tr>\n",
       "  <th>Q(\"like new\")</th>        <td>    0.0255</td> <td>    0.007</td> <td>    3.871</td> <td> 0.000</td> <td>    0.013</td> <td>    0.038</td>\n",
       "</tr>\n",
       "<tr>\n",
       "  <th>new</th>                  <td>    0.1195</td> <td>    0.032</td> <td>    3.790</td> <td> 0.000</td> <td>    0.058</td> <td>    0.181</td>\n",
       "</tr>\n",
       "<tr>\n",
       "  <th>salvage[0]</th>           <td>   -0.6292</td> <td>    0.034</td> <td>  -18.704</td> <td> 0.000</td> <td>   -0.695</td> <td>   -0.563</td>\n",
       "</tr>\n",
       "<tr>\n",
       "  <th>salvage[1]</th>           <td>   -0.2062</td> <td>    0.023</td> <td>   -8.861</td> <td> 0.000</td> <td>   -0.252</td> <td>   -0.161</td>\n",
       "</tr>\n",
       "<tr>\n",
       "  <th>clean</th>                <td>   -0.0822</td> <td>    0.018</td> <td>   -4.570</td> <td> 0.000</td> <td>   -0.117</td> <td>   -0.047</td>\n",
       "</tr>\n",
       "<tr>\n",
       "  <th>lien</th>                 <td>    0.3621</td> <td>    0.024</td> <td>   14.880</td> <td> 0.000</td> <td>    0.314</td> <td>    0.410</td>\n",
       "</tr>\n",
       "<tr>\n",
       "  <th>missing</th>              <td>    0.3247</td> <td>    0.042</td> <td>    7.720</td> <td> 0.000</td> <td>    0.242</td> <td>    0.407</td>\n",
       "</tr>\n",
       "<tr>\n",
       "  <th>Q(\"parts only\")</th>      <td>   -0.2260</td> <td>    0.089</td> <td>   -2.527</td> <td> 0.011</td> <td>   -0.401</td> <td>   -0.051</td>\n",
       "</tr>\n",
       "<tr>\n",
       "  <th>rebuilt</th>              <td>   -0.1078</td> <td>    0.021</td> <td>   -5.160</td> <td> 0.000</td> <td>   -0.149</td> <td>   -0.067</td>\n",
       "</tr>\n",
       "<tr>\n",
       "  <th>automatic</th>            <td>   -0.2115</td> <td>    0.008</td> <td>  -26.566</td> <td> 0.000</td> <td>   -0.227</td> <td>   -0.196</td>\n",
       "</tr>\n",
       "<tr>\n",
       "  <th>manual</th>               <td>   -0.0904</td> <td>    0.010</td> <td>   -9.362</td> <td> 0.000</td> <td>   -0.109</td> <td>   -0.072</td>\n",
       "</tr>\n",
       "<tr>\n",
       "  <th>Q(\"4wd\")</th>             <td>    0.2317</td> <td>    0.005</td> <td>   45.990</td> <td> 0.000</td> <td>    0.222</td> <td>    0.242</td>\n",
       "</tr>\n",
       "<tr>\n",
       "  <th>fwd</th>                  <td>   -0.1667</td> <td>    0.005</td> <td>  -32.362</td> <td> 0.000</td> <td>   -0.177</td> <td>   -0.157</td>\n",
       "</tr>\n",
       "<tr>\n",
       "  <th>rwd</th>                  <td>    0.1567</td> <td>    0.006</td> <td>   27.552</td> <td> 0.000</td> <td>    0.146</td> <td>    0.168</td>\n",
       "</tr>\n",
       "<tr>\n",
       "  <th>acura</th>                <td>   -0.1757</td> <td>    0.018</td> <td>   -9.993</td> <td> 0.000</td> <td>   -0.210</td> <td>   -0.141</td>\n",
       "</tr>\n",
       "<tr>\n",
       "  <th>Q(\"alfa-romeo\")</th>      <td>    0.6314</td> <td>    0.104</td> <td>    6.073</td> <td> 0.000</td> <td>    0.428</td> <td>    0.835</td>\n",
       "</tr>\n",
       "<tr>\n",
       "  <th>Q(\"aston-martin\")</th>    <td>    1.7221</td> <td>    0.243</td> <td>    7.081</td> <td> 0.000</td> <td>    1.245</td> <td>    2.199</td>\n",
       "</tr>\n",
       "<tr>\n",
       "  <th>audi</th>                 <td>   -0.0883</td> <td>    0.016</td> <td>   -5.654</td> <td> 0.000</td> <td>   -0.119</td> <td>   -0.058</td>\n",
       "</tr>\n",
       "<tr>\n",
       "  <th>bmw</th>                  <td>   -0.1370</td> <td>    0.012</td> <td>  -11.479</td> <td> 0.000</td> <td>   -0.160</td> <td>   -0.114</td>\n",
       "</tr>\n",
       "<tr>\n",
       "  <th>buick</th>                <td>   -0.1340</td> <td>    0.015</td> <td>   -8.937</td> <td> 0.000</td> <td>   -0.163</td> <td>   -0.105</td>\n",
       "</tr>\n",
       "<tr>\n",
       "  <th>cadillac</th>             <td>   -0.0236</td> <td>    0.014</td> <td>   -1.653</td> <td> 0.098</td> <td>   -0.052</td> <td>    0.004</td>\n",
       "</tr>\n",
       "<tr>\n",
       "  <th>chevrolet</th>            <td>   -0.1108</td> <td>    0.009</td> <td>  -12.747</td> <td> 0.000</td> <td>   -0.128</td> <td>   -0.094</td>\n",
       "</tr>\n",
       "<tr>\n",
       "  <th>chrysler</th>             <td>   -0.3301</td> <td>    0.014</td> <td>  -24.293</td> <td> 0.000</td> <td>   -0.357</td> <td>   -0.303</td>\n",
       "</tr>\n",
       "<tr>\n",
       "  <th>datsun</th>               <td>    0.5399</td> <td>    0.104</td> <td>    5.189</td> <td> 0.000</td> <td>    0.336</td> <td>    0.744</td>\n",
       "</tr>\n",
       "<tr>\n",
       "  <th>dodge</th>                <td>   -0.2928</td> <td>    0.011</td> <td>  -26.896</td> <td> 0.000</td> <td>   -0.314</td> <td>   -0.272</td>\n",
       "</tr>\n",
       "<tr>\n",
       "  <th>ferrari</th>              <td>   -0.6037</td> <td>    0.421</td> <td>   -1.434</td> <td> 0.152</td> <td>   -1.429</td> <td>    0.221</td>\n",
       "</tr>\n",
       "<tr>\n",
       "  <th>fiat</th>                 <td>   -0.3656</td> <td>    0.038</td> <td>   -9.587</td> <td> 0.000</td> <td>   -0.440</td> <td>   -0.291</td>\n",
       "</tr>\n",
       "<tr>\n",
       "  <th>ford</th>                 <td>   -0.1906</td> <td>    0.009</td> <td>  -22.273</td> <td> 0.000</td> <td>   -0.207</td> <td>   -0.174</td>\n",
       "</tr>\n",
       "<tr>\n",
       "  <th>gmc</th>                  <td>   -0.0440</td> <td>    0.011</td> <td>   -4.136</td> <td> 0.000</td> <td>   -0.065</td> <td>   -0.023</td>\n",
       "</tr>\n",
       "<tr>\n",
       "  <th>Q(\"harley-davidson\")</th> <td>   -0.3369</td> <td>    0.079</td> <td>   -4.267</td> <td> 0.000</td> <td>   -0.492</td> <td>   -0.182</td>\n",
       "</tr>\n",
       "<tr>\n",
       "  <th>hennessey</th>            <td>    1.9937</td> <td>    0.842</td> <td>    2.368</td> <td> 0.018</td> <td>    0.344</td> <td>    3.644</td>\n",
       "</tr>\n",
       "<tr>\n",
       "  <th>honda</th>                <td>   -0.2214</td> <td>    0.010</td> <td>  -21.557</td> <td> 0.000</td> <td>   -0.241</td> <td>   -0.201</td>\n",
       "</tr>\n",
       "<tr>\n",
       "  <th>hyundai</th>              <td>   -0.3132</td> <td>    0.012</td> <td>  -25.427</td> <td> 0.000</td> <td>   -0.337</td> <td>   -0.289</td>\n",
       "</tr>\n",
       "<tr>\n",
       "  <th>infiniti</th>             <td>   -0.1441</td> <td>    0.018</td> <td>   -7.867</td> <td> 0.000</td> <td>   -0.180</td> <td>   -0.108</td>\n",
       "</tr>\n",
       "<tr>\n",
       "  <th>jaguar</th>               <td>   -0.0025</td> <td>    0.032</td> <td>   -0.079</td> <td> 0.937</td> <td>   -0.065</td> <td>    0.060</td>\n",
       "</tr>\n",
       "<tr>\n",
       "  <th>jeep</th>                 <td>   -0.1361</td> <td>    0.011</td> <td>  -12.923</td> <td> 0.000</td> <td>   -0.157</td> <td>   -0.115</td>\n",
       "</tr>\n",
       "<tr>\n",
       "  <th>kia</th>                  <td>   -0.2975</td> <td>    0.014</td> <td>  -21.581</td> <td> 0.000</td> <td>   -0.325</td> <td>   -0.271</td>\n",
       "</tr>\n",
       "<tr>\n",
       "  <th>Q(\"land rover\")</th>      <td>   -0.0698</td> <td>    0.204</td> <td>   -0.342</td> <td> 0.732</td> <td>   -0.470</td> <td>    0.331</td>\n",
       "</tr>\n",
       "<tr>\n",
       "  <th>lexus</th>                <td>    0.0939</td> <td>    0.015</td> <td>    6.246</td> <td> 0.000</td> <td>    0.064</td> <td>    0.123</td>\n",
       "</tr>\n",
       "<tr>\n",
       "  <th>lincoln</th>              <td>   -0.1900</td> <td>    0.019</td> <td>   -9.854</td> <td> 0.000</td> <td>   -0.228</td> <td>   -0.152</td>\n",
       "</tr>\n",
       "<tr>\n",
       "  <th>mazda</th>                <td>   -0.2665</td> <td>    0.015</td> <td>  -17.662</td> <td> 0.000</td> <td>   -0.296</td> <td>   -0.237</td>\n",
       "</tr>\n",
       "<tr>\n",
       "  <th>Q(\"mercedes-benz\")</th>   <td>    0.0025</td> <td>    0.013</td> <td>    0.190</td> <td> 0.850</td> <td>   -0.023</td> <td>    0.028</td>\n",
       "</tr>\n",
       "<tr>\n",
       "  <th>mercury</th>              <td>   -0.4123</td> <td>    0.024</td> <td>  -17.121</td> <td> 0.000</td> <td>   -0.459</td> <td>   -0.365</td>\n",
       "</tr>\n",
       "<tr>\n",
       "  <th>mini</th>                 <td>   -0.2405</td> <td>    0.023</td> <td>  -10.267</td> <td> 0.000</td> <td>   -0.286</td> <td>   -0.195</td>\n",
       "</tr>\n",
       "<tr>\n",
       "  <th>mitsubishi</th>           <td>   -0.3954</td> <td>    0.021</td> <td>  -18.753</td> <td> 0.000</td> <td>   -0.437</td> <td>   -0.354</td>\n",
       "</tr>\n",
       "<tr>\n",
       "  <th>morgan</th>               <td>    3.0799</td> <td>    0.842</td> <td>    3.659</td> <td> 0.000</td> <td>    1.430</td> <td>    4.730</td>\n",
       "</tr>\n",
       "<tr>\n",
       "  <th>nissan</th>               <td>   -0.3176</td> <td>    0.010</td> <td>  -30.985</td> <td> 0.000</td> <td>   -0.338</td> <td>   -0.298</td>\n",
       "</tr>\n",
       "<tr>\n",
       "  <th>pontiac</th>              <td>   -0.2690</td> <td>    0.018</td> <td>  -14.549</td> <td> 0.000</td> <td>   -0.305</td> <td>   -0.233</td>\n",
       "</tr>\n",
       "<tr>\n",
       "  <th>porche</th>               <td>   -0.2190</td> <td>    0.234</td> <td>   -0.937</td> <td> 0.349</td> <td>   -0.677</td> <td>    0.239</td>\n",
       "</tr>\n",
       "<tr>\n",
       "  <th>ram</th>                  <td>   -0.0539</td> <td>    0.011</td> <td>   -5.053</td> <td> 0.000</td> <td>   -0.075</td> <td>   -0.033</td>\n",
       "</tr>\n",
       "<tr>\n",
       "  <th>rover</th>                <td>    0.3626</td> <td>    0.024</td> <td>   15.153</td> <td> 0.000</td> <td>    0.316</td> <td>    0.409</td>\n",
       "</tr>\n",
       "<tr>\n",
       "  <th>saturn</th>               <td>   -0.4758</td> <td>    0.025</td> <td>  -19.191</td> <td> 0.000</td> <td>   -0.524</td> <td>   -0.427</td>\n",
       "</tr>\n",
       "<tr>\n",
       "  <th>subaru</th>               <td>   -0.2622</td> <td>    0.013</td> <td>  -19.983</td> <td> 0.000</td> <td>   -0.288</td> <td>   -0.236</td>\n",
       "</tr>\n",
       "<tr>\n",
       "  <th>toyota</th>               <td>   -0.0540</td> <td>    0.010</td> <td>   -5.659</td> <td> 0.000</td> <td>   -0.073</td> <td>   -0.035</td>\n",
       "</tr>\n",
       "<tr>\n",
       "  <th>volkswagen</th>           <td>   -0.2980</td> <td>    0.013</td> <td>  -22.934</td> <td> 0.000</td> <td>   -0.323</td> <td>   -0.273</td>\n",
       "</tr>\n",
       "<tr>\n",
       "  <th>volvo</th>                <td>   -0.1578</td> <td>    0.020</td> <td>   -7.719</td> <td> 0.000</td> <td>   -0.198</td> <td>   -0.118</td>\n",
       "</tr>\n",
       "<tr>\n",
       "  <th>diesel</th>               <td>    0.5082</td> <td>    0.009</td> <td>   54.639</td> <td> 0.000</td> <td>    0.490</td> <td>    0.526</td>\n",
       "</tr>\n",
       "<tr>\n",
       "  <th>electric</th>             <td>    0.2213</td> <td>    0.038</td> <td>    5.848</td> <td> 0.000</td> <td>    0.147</td> <td>    0.295</td>\n",
       "</tr>\n",
       "<tr>\n",
       "  <th>gas</th>                  <td>   -0.0069</td> <td>    0.007</td> <td>   -0.923</td> <td> 0.356</td> <td>   -0.021</td> <td>    0.008</td>\n",
       "</tr>\n",
       "<tr>\n",
       "  <th>hybrid</th>               <td>    0.0331</td> <td>    0.018</td> <td>    1.874</td> <td> 0.061</td> <td>   -0.002</td> <td>    0.068</td>\n",
       "</tr>\n",
       "<tr>\n",
       "  <th>compact</th>              <td>   -0.2976</td> <td>    0.006</td> <td>  -46.766</td> <td> 0.000</td> <td>   -0.310</td> <td>   -0.285</td>\n",
       "</tr>\n",
       "<tr>\n",
       "  <th>Q(\"full-size\")</th>       <td>   -0.1723</td> <td>    0.004</td> <td>  -40.168</td> <td> 0.000</td> <td>   -0.181</td> <td>   -0.164</td>\n",
       "</tr>\n",
       "<tr>\n",
       "  <th>Q(\"mid-size\")</th>        <td>   -0.2219</td> <td>    0.005</td> <td>  -43.827</td> <td> 0.000</td> <td>   -0.232</td> <td>   -0.212</td>\n",
       "</tr>\n",
       "<tr>\n",
       "  <th>Q(\"sub-compact\")</th>     <td>   -0.3627</td> <td>    0.015</td> <td>  -24.706</td> <td> 0.000</td> <td>   -0.391</td> <td>   -0.334</td>\n",
       "</tr>\n",
       "<tr>\n",
       "  <th>SUV</th>                  <td>   -0.0695</td> <td>    0.005</td> <td>  -13.236</td> <td> 0.000</td> <td>   -0.080</td> <td>   -0.059</td>\n",
       "</tr>\n",
       "<tr>\n",
       "  <th>bus</th>                  <td>    0.1151</td> <td>    0.038</td> <td>    3.053</td> <td> 0.002</td> <td>    0.041</td> <td>    0.189</td>\n",
       "</tr>\n",
       "<tr>\n",
       "  <th>convertible</th>          <td>    0.3148</td> <td>    0.011</td> <td>   29.763</td> <td> 0.000</td> <td>    0.294</td> <td>    0.335</td>\n",
       "</tr>\n",
       "<tr>\n",
       "  <th>coupe</th>                <td>    0.2977</td> <td>    0.008</td> <td>   37.235</td> <td> 0.000</td> <td>    0.282</td> <td>    0.313</td>\n",
       "</tr>\n",
       "<tr>\n",
       "  <th>hatchback</th>            <td>   -0.1043</td> <td>    0.010</td> <td>  -10.899</td> <td> 0.000</td> <td>   -0.123</td> <td>   -0.086</td>\n",
       "</tr>\n",
       "<tr>\n",
       "  <th>Q(\"mini-van\")</th>        <td>   -0.0387</td> <td>    0.012</td> <td>   -3.218</td> <td> 0.001</td> <td>   -0.062</td> <td>   -0.015</td>\n",
       "</tr>\n",
       "<tr>\n",
       "  <th>offroad</th>              <td>    0.2301</td> <td>    0.031</td> <td>    7.442</td> <td> 0.000</td> <td>    0.170</td> <td>    0.291</td>\n",
       "</tr>\n",
       "<tr>\n",
       "  <th>pickup</th>               <td>    0.3944</td> <td>    0.006</td> <td>   63.144</td> <td> 0.000</td> <td>    0.382</td> <td>    0.407</td>\n",
       "</tr>\n",
       "<tr>\n",
       "  <th>sedan</th>                <td>   -0.1450</td> <td>    0.005</td> <td>  -26.682</td> <td> 0.000</td> <td>   -0.156</td> <td>   -0.134</td>\n",
       "</tr>\n",
       "<tr>\n",
       "  <th>truck</th>                <td>    0.1904</td> <td>    0.006</td> <td>   29.390</td> <td> 0.000</td> <td>    0.178</td> <td>    0.203</td>\n",
       "</tr>\n",
       "<tr>\n",
       "  <th>van</th>                  <td>    0.0499</td> <td>    0.011</td> <td>    4.671</td> <td> 0.000</td> <td>    0.029</td> <td>    0.071</td>\n",
       "</tr>\n",
       "<tr>\n",
       "  <th>wagon</th>                <td>   -0.1378</td> <td>    0.010</td> <td>  -13.788</td> <td> 0.000</td> <td>   -0.157</td> <td>   -0.118</td>\n",
       "</tr>\n",
       "<tr>\n",
       "  <th>black</th>                <td>    0.1941</td> <td>    0.005</td> <td>   38.543</td> <td> 0.000</td> <td>    0.184</td> <td>    0.204</td>\n",
       "</tr>\n",
       "<tr>\n",
       "  <th>blue</th>                 <td>    0.0877</td> <td>    0.006</td> <td>   14.243</td> <td> 0.000</td> <td>    0.076</td> <td>    0.100</td>\n",
       "</tr>\n",
       "<tr>\n",
       "  <th>brown</th>                <td>    0.1408</td> <td>    0.011</td> <td>   12.331</td> <td> 0.000</td> <td>    0.118</td> <td>    0.163</td>\n",
       "</tr>\n",
       "<tr>\n",
       "  <th>custom</th>               <td>    0.3078</td> <td>    0.010</td> <td>   29.748</td> <td> 0.000</td> <td>    0.287</td> <td>    0.328</td>\n",
       "</tr>\n",
       "<tr>\n",
       "  <th>green</th>                <td>    0.0273</td> <td>    0.010</td> <td>    2.694</td> <td> 0.007</td> <td>    0.007</td> <td>    0.047</td>\n",
       "</tr>\n",
       "<tr>\n",
       "  <th>grey</th>                 <td>    0.1245</td> <td>    0.006</td> <td>   19.407</td> <td> 0.000</td> <td>    0.112</td> <td>    0.137</td>\n",
       "</tr>\n",
       "<tr>\n",
       "  <th>orange</th>               <td>    0.3163</td> <td>    0.020</td> <td>   15.509</td> <td> 0.000</td> <td>    0.276</td> <td>    0.356</td>\n",
       "</tr>\n",
       "<tr>\n",
       "  <th>purple</th>               <td>    0.1920</td> <td>    0.031</td> <td>    6.128</td> <td> 0.000</td> <td>    0.131</td> <td>    0.253</td>\n",
       "</tr>\n",
       "<tr>\n",
       "  <th>red</th>                  <td>    0.1498</td> <td>    0.006</td> <td>   24.178</td> <td> 0.000</td> <td>    0.138</td> <td>    0.162</td>\n",
       "</tr>\n",
       "<tr>\n",
       "  <th>silver</th>               <td>    0.0695</td> <td>    0.006</td> <td>   12.611</td> <td> 0.000</td> <td>    0.059</td> <td>    0.080</td>\n",
       "</tr>\n",
       "<tr>\n",
       "  <th>white</th>                <td>    0.1679</td> <td>    0.005</td> <td>   34.386</td> <td> 0.000</td> <td>    0.158</td> <td>    0.177</td>\n",
       "</tr>\n",
       "<tr>\n",
       "  <th>yellow</th>               <td>    0.2679</td> <td>    0.018</td> <td>   14.958</td> <td> 0.000</td> <td>    0.233</td> <td>    0.303</td>\n",
       "</tr>\n",
       "</table>\n",
       "<table class=\"simpletable\">\n",
       "<tr>\n",
       "  <th>Omnibus:</th>       <td>33144.849</td> <th>  Durbin-Watson:     </th> <td>   1.587</td> \n",
       "</tr>\n",
       "<tr>\n",
       "  <th>Prob(Omnibus):</th>  <td> 0.000</td>   <th>  Jarque-Bera (JB):  </th> <td>69119.441</td>\n",
       "</tr>\n",
       "<tr>\n",
       "  <th>Skew:</th>           <td> 0.637</td>   <th>  Prob(JB):          </th> <td>    0.00</td> \n",
       "</tr>\n",
       "<tr>\n",
       "  <th>Kurtosis:</th>       <td> 4.820</td>   <th>  Cond. No.          </th> <td>1.21e+03</td> \n",
       "</tr>\n",
       "</table><br/><br/>Warnings:<br/>[1] Standard Errors assume that the covariance matrix of the errors is correctly specified.<br/>[2] The condition number is large, 1.21e+03. This might indicate that there are<br/>strong multicollinearity or other numerical problems."
      ],
      "text/plain": [
       "<class 'statsmodels.iolib.summary.Summary'>\n",
       "\"\"\"\n",
       "                            OLS Regression Results                            \n",
       "==============================================================================\n",
       "Dep. Variable:                  price   R-squared:                       0.292\n",
       "Model:                            OLS   Adj. R-squared:                  0.291\n",
       "Method:                 Least Squares   F-statistic:                     1503.\n",
       "Date:                Fri, 29 Nov 2019   Prob (F-statistic):               0.00\n",
       "Time:                        19:02:26   Log-Likelihood:            -4.1875e+05\n",
       "No. Observations:              335934   AIC:                         8.377e+05\n",
       "Df Residuals:                  335841   BIC:                         8.387e+05\n",
       "Df Model:                          92                                         \n",
       "Covariance Type:            nonrobust                                         \n",
       "========================================================================================\n",
       "                           coef    std err          t      P>|t|      [0.025      0.975]\n",
       "----------------------------------------------------------------------------------------\n",
       "Intercept                0.3920      0.022     17.730      0.000       0.349       0.435\n",
       "year                     0.2830      0.002    163.834      0.000       0.280       0.286\n",
       "excellent               -0.1283      0.004    -32.257      0.000      -0.136      -0.121\n",
       "fair                    -0.6583      0.009    -69.631      0.000      -0.677      -0.640\n",
       "good                    -0.2713      0.004    -63.857      0.000      -0.280      -0.263\n",
       "Q(\"like new\")            0.0255      0.007      3.871      0.000       0.013       0.038\n",
       "new                      0.1195      0.032      3.790      0.000       0.058       0.181\n",
       "salvage[0]              -0.6292      0.034    -18.704      0.000      -0.695      -0.563\n",
       "salvage[1]              -0.2062      0.023     -8.861      0.000      -0.252      -0.161\n",
       "clean                   -0.0822      0.018     -4.570      0.000      -0.117      -0.047\n",
       "lien                     0.3621      0.024     14.880      0.000       0.314       0.410\n",
       "missing                  0.3247      0.042      7.720      0.000       0.242       0.407\n",
       "Q(\"parts only\")         -0.2260      0.089     -2.527      0.011      -0.401      -0.051\n",
       "rebuilt                 -0.1078      0.021     -5.160      0.000      -0.149      -0.067\n",
       "automatic               -0.2115      0.008    -26.566      0.000      -0.227      -0.196\n",
       "manual                  -0.0904      0.010     -9.362      0.000      -0.109      -0.072\n",
       "Q(\"4wd\")                 0.2317      0.005     45.990      0.000       0.222       0.242\n",
       "fwd                     -0.1667      0.005    -32.362      0.000      -0.177      -0.157\n",
       "rwd                      0.1567      0.006     27.552      0.000       0.146       0.168\n",
       "acura                   -0.1757      0.018     -9.993      0.000      -0.210      -0.141\n",
       "Q(\"alfa-romeo\")          0.6314      0.104      6.073      0.000       0.428       0.835\n",
       "Q(\"aston-martin\")        1.7221      0.243      7.081      0.000       1.245       2.199\n",
       "audi                    -0.0883      0.016     -5.654      0.000      -0.119      -0.058\n",
       "bmw                     -0.1370      0.012    -11.479      0.000      -0.160      -0.114\n",
       "buick                   -0.1340      0.015     -8.937      0.000      -0.163      -0.105\n",
       "cadillac                -0.0236      0.014     -1.653      0.098      -0.052       0.004\n",
       "chevrolet               -0.1108      0.009    -12.747      0.000      -0.128      -0.094\n",
       "chrysler                -0.3301      0.014    -24.293      0.000      -0.357      -0.303\n",
       "datsun                   0.5399      0.104      5.189      0.000       0.336       0.744\n",
       "dodge                   -0.2928      0.011    -26.896      0.000      -0.314      -0.272\n",
       "ferrari                 -0.6037      0.421     -1.434      0.152      -1.429       0.221\n",
       "fiat                    -0.3656      0.038     -9.587      0.000      -0.440      -0.291\n",
       "ford                    -0.1906      0.009    -22.273      0.000      -0.207      -0.174\n",
       "gmc                     -0.0440      0.011     -4.136      0.000      -0.065      -0.023\n",
       "Q(\"harley-davidson\")    -0.3369      0.079     -4.267      0.000      -0.492      -0.182\n",
       "hennessey                1.9937      0.842      2.368      0.018       0.344       3.644\n",
       "honda                   -0.2214      0.010    -21.557      0.000      -0.241      -0.201\n",
       "hyundai                 -0.3132      0.012    -25.427      0.000      -0.337      -0.289\n",
       "infiniti                -0.1441      0.018     -7.867      0.000      -0.180      -0.108\n",
       "jaguar                  -0.0025      0.032     -0.079      0.937      -0.065       0.060\n",
       "jeep                    -0.1361      0.011    -12.923      0.000      -0.157      -0.115\n",
       "kia                     -0.2975      0.014    -21.581      0.000      -0.325      -0.271\n",
       "Q(\"land rover\")         -0.0698      0.204     -0.342      0.732      -0.470       0.331\n",
       "lexus                    0.0939      0.015      6.246      0.000       0.064       0.123\n",
       "lincoln                 -0.1900      0.019     -9.854      0.000      -0.228      -0.152\n",
       "mazda                   -0.2665      0.015    -17.662      0.000      -0.296      -0.237\n",
       "Q(\"mercedes-benz\")       0.0025      0.013      0.190      0.850      -0.023       0.028\n",
       "mercury                 -0.4123      0.024    -17.121      0.000      -0.459      -0.365\n",
       "mini                    -0.2405      0.023    -10.267      0.000      -0.286      -0.195\n",
       "mitsubishi              -0.3954      0.021    -18.753      0.000      -0.437      -0.354\n",
       "morgan                   3.0799      0.842      3.659      0.000       1.430       4.730\n",
       "nissan                  -0.3176      0.010    -30.985      0.000      -0.338      -0.298\n",
       "pontiac                 -0.2690      0.018    -14.549      0.000      -0.305      -0.233\n",
       "porche                  -0.2190      0.234     -0.937      0.349      -0.677       0.239\n",
       "ram                     -0.0539      0.011     -5.053      0.000      -0.075      -0.033\n",
       "rover                    0.3626      0.024     15.153      0.000       0.316       0.409\n",
       "saturn                  -0.4758      0.025    -19.191      0.000      -0.524      -0.427\n",
       "subaru                  -0.2622      0.013    -19.983      0.000      -0.288      -0.236\n",
       "toyota                  -0.0540      0.010     -5.659      0.000      -0.073      -0.035\n",
       "volkswagen              -0.2980      0.013    -22.934      0.000      -0.323      -0.273\n",
       "volvo                   -0.1578      0.020     -7.719      0.000      -0.198      -0.118\n",
       "diesel                   0.5082      0.009     54.639      0.000       0.490       0.526\n",
       "electric                 0.2213      0.038      5.848      0.000       0.147       0.295\n",
       "gas                     -0.0069      0.007     -0.923      0.356      -0.021       0.008\n",
       "hybrid                   0.0331      0.018      1.874      0.061      -0.002       0.068\n",
       "compact                 -0.2976      0.006    -46.766      0.000      -0.310      -0.285\n",
       "Q(\"full-size\")          -0.1723      0.004    -40.168      0.000      -0.181      -0.164\n",
       "Q(\"mid-size\")           -0.2219      0.005    -43.827      0.000      -0.232      -0.212\n",
       "Q(\"sub-compact\")        -0.3627      0.015    -24.706      0.000      -0.391      -0.334\n",
       "SUV                     -0.0695      0.005    -13.236      0.000      -0.080      -0.059\n",
       "bus                      0.1151      0.038      3.053      0.002       0.041       0.189\n",
       "convertible              0.3148      0.011     29.763      0.000       0.294       0.335\n",
       "coupe                    0.2977      0.008     37.235      0.000       0.282       0.313\n",
       "hatchback               -0.1043      0.010    -10.899      0.000      -0.123      -0.086\n",
       "Q(\"mini-van\")           -0.0387      0.012     -3.218      0.001      -0.062      -0.015\n",
       "offroad                  0.2301      0.031      7.442      0.000       0.170       0.291\n",
       "pickup                   0.3944      0.006     63.144      0.000       0.382       0.407\n",
       "sedan                   -0.1450      0.005    -26.682      0.000      -0.156      -0.134\n",
       "truck                    0.1904      0.006     29.390      0.000       0.178       0.203\n",
       "van                      0.0499      0.011      4.671      0.000       0.029       0.071\n",
       "wagon                   -0.1378      0.010    -13.788      0.000      -0.157      -0.118\n",
       "black                    0.1941      0.005     38.543      0.000       0.184       0.204\n",
       "blue                     0.0877      0.006     14.243      0.000       0.076       0.100\n",
       "brown                    0.1408      0.011     12.331      0.000       0.118       0.163\n",
       "custom                   0.3078      0.010     29.748      0.000       0.287       0.328\n",
       "green                    0.0273      0.010      2.694      0.007       0.007       0.047\n",
       "grey                     0.1245      0.006     19.407      0.000       0.112       0.137\n",
       "orange                   0.3163      0.020     15.509      0.000       0.276       0.356\n",
       "purple                   0.1920      0.031      6.128      0.000       0.131       0.253\n",
       "red                      0.1498      0.006     24.178      0.000       0.138       0.162\n",
       "silver                   0.0695      0.006     12.611      0.000       0.059       0.080\n",
       "white                    0.1679      0.005     34.386      0.000       0.158       0.177\n",
       "yellow                   0.2679      0.018     14.958      0.000       0.233       0.303\n",
       "==============================================================================\n",
       "Omnibus:                    33144.849   Durbin-Watson:                   1.587\n",
       "Prob(Omnibus):                  0.000   Jarque-Bera (JB):            69119.441\n",
       "Skew:                           0.637   Prob(JB):                         0.00\n",
       "Kurtosis:                       4.820   Cond. No.                     1.21e+03\n",
       "==============================================================================\n",
       "\n",
       "Warnings:\n",
       "[1] Standard Errors assume that the covariance matrix of the errors is correctly specified.\n",
       "[2] The condition number is large, 1.21e+03. This might indicate that there are\n",
       "strong multicollinearity or other numerical problems.\n",
       "\"\"\""
      ]
     },
     "execution_count": 33,
     "metadata": {},
     "output_type": "execute_result"
    }
   ],
   "source": [
    "comparison_model = 'price~year'\n",
    "problematic_columns = set(['4wd', 'alfa-romeo', 'aston-martin', 'harley-davidson',\n",
    "                           'mercedes-benz', 'full-size', 'mid-size', 'sub-compact', 'mini-van'])\n",
    "for col in X.columns[1:]:\n",
    "    if len(col.split()) == 1 and col not in problematic_columns:\n",
    "        comparison_model = comparison_model + ' + ' + col\n",
    "    else:\n",
    "        comparison_model = comparison_model + ' + Q(\"' + col + '\")'\n",
    "\n",
    "lml = sm.ols(formula=comparison_model, data=pd.concat([X, y], axis=1)).fit()\n",
    "lml.summary()"
   ]
  },
  {
   "cell_type": "code",
   "execution_count": 34,
   "metadata": {},
   "outputs": [
    {
     "data": {
      "text/plain": [
       "0.713143388089478"
      ]
     },
     "execution_count": 34,
     "metadata": {},
     "output_type": "execute_result"
    }
   ],
   "source": [
    "pred = lml.predict(X_test)\n",
    "mse(pred, y_test)"
   ]
  },
  {
   "cell_type": "markdown",
   "metadata": {},
   "source": [
    "As we can see, the 3-layer neural network performs notably better on the test set."
   ]
  },
  {
   "cell_type": "markdown",
   "metadata": {},
   "source": [
    "## The dark side of neural networks (15 mts)"
   ]
  },
  {
   "cell_type": "markdown",
   "metadata": {},
   "source": [
    "Around this time, you may have a natural thought: \"Does this mean that if we have a single supercomputer and a neural network algorithm, we can solve *every problem in the world???*\" It's a pretty natural thought, because these neural networks truly seem infinitely flexible without having to put in careful feature engineering work. It would seem that they run contrary to all the scientific principles that we've been touting throughout this entire course.\n",
    "\n",
    "As you might suspect, this isn't true. But why? Let's illustrate this with the following exercise:"
   ]
  },
  {
   "cell_type": "markdown",
   "metadata": {},
   "source": [
    "### Exercise 6: (10 mts)\n",
    "\n",
    "Code and begin to fit a neural network with 10 layers."
   ]
  },
  {
   "cell_type": "markdown",
   "metadata": {},
   "source": [
    "**Answer:**"
   ]
  },
  {
   "cell_type": "code",
   "execution_count": 4,
   "metadata": {},
   "outputs": [],
   "source": [
    "### Write code here"
   ]
  },
  {
   "cell_type": "markdown",
   "metadata": {},
   "source": [
    "Of course, we can get overfitting problems with simpler models like linear and logistic regression. So why is it so particularly bad when it occurs with neural networks?"
   ]
  },
  {
   "cell_type": "markdown",
   "metadata": {},
   "source": [
    "### Exercise 7: (5 mts)\n",
    "\n",
    "Which of the following is a potential drawback of solving this problem with a neural network instead of linear regression? Select all that apply.\n",
    "\n",
    "I. Lack of transparency in the algorithm\n",
    "\n",
    "II. Difficulty of use\n",
    "\n",
    "III. Speed of runtime"
   ]
  },
  {
   "cell_type": "markdown",
   "metadata": {},
   "source": [
    "**Answer:**"
   ]
  },
  {
   "cell_type": "markdown",
   "metadata": {},
   "source": [
    "Thus, a lot of the challenge in devising neural networks comes from the \"black box\" nature of implementation. Because the mathematics isn't so intuitive, it requires careful effort and patience to determine the best parameters and optimizers to use. Furthermore, if our model overfits and something goes wrong, the opaque nature of the algorithm makes it much more difficult to interpret, diagnose, and improve compared to a standard linear regression model."
   ]
  },
  {
   "cell_type": "markdown",
   "metadata": {},
   "source": [
    "## Conclusion (5 mts)\n",
    "\n",
    "In this case, we saw some of the shortcomings of a traditional linear model in performing predictions on a dataset with many complex non-linearities. Using a simple neural network, we're able to predict within 50% of the fair price of a used car. This isn't stellar accuracy, but is better than the 71% interval that we can predict with a similarly naive linear model. Nonetheless, we learned that neural networks have a dark side – when they are not as accurate as we would like them to be, they are very difficult to diagnose and improve. On the other hand, linear models remain quite interpretable even as we make them more complex."
   ]
  },
  {
   "cell_type": "markdown",
   "metadata": {},
   "source": [
    "## Takeaways (5 mts)\n",
    "\n",
    "We've learned a few important facts about neural networks:\n",
    "\n",
    "1. Neural networks can be used to optimize quantitative transformations of data into meaningful information\n",
    "2. In some situations, a neural network may be more suitable and more efficient than manual feature engineering\n",
    "3. The biggest drawback of neural networks is their lack of interpretability and difficulty of improvement, while the biggest strength is their ease of use and flexibility"
   ]
  }
 ],
 "metadata": {
  "kernelspec": {
   "display_name": "Python 3",
   "language": "python",
   "name": "python3"
  },
  "language_info": {
   "codemirror_mode": {
    "name": "ipython",
    "version": 3
   },
   "file_extension": ".py",
   "mimetype": "text/x-python",
   "name": "python",
   "nbconvert_exporter": "python",
   "pygments_lexer": "ipython3",
   "version": "3.7.4"
  }
 },
 "nbformat": 4,
 "nbformat_minor": 2
}
